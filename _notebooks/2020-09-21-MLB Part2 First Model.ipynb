{
 "cells": [
  {
   "cell_type": "markdown",
   "metadata": {
    "collapsed": true,
    "pycharm": {
     "name": "#%% md\n"
    }
   },
   "source": [
    "# MLB Training Data\n",
    "> Part 2 - Downloading the data and training the model with XGBoost\n",
    "\n",
    "- toc: true\n",
    "- badges: true\n",
    "- comments: true\n",
    "- categories: [baseball, webscraping, xgboost, brier, accuracy, calibration]\n",
    "- image: images/chart-preview.png"
   ]
  },
  {
   "cell_type": "markdown",
   "source": [
    "This is the second post in my series on MLB Baseball Betting, and it's a long one. Here we're going to have a complete working model from scraping the data, processing it, adding features and finally giving it a run in XGBoost.\n",
    "\n",
    "This is all done in a single notebook so you can start fiddling with it on your own as soon as you want. Use the buttons on the top to download your own copy from github or run it in the cloud on one of the services listed.\n",
    "\n",
    "## Scrape Data\n",
    "For this model, I'm going to use the stats from the [baseball-reference.com](http://baseball-reference.com) box scores page. [Here](https://www.baseball-reference.com/boxes/ANA/ANA202009190.shtml) is and example of the page we'll be scraping. Let's get started.\n",
    "\n",
    "### Create List of Games to Download\n",
    "We'll get the games from the schedule pages, creating a list of links to each game. Let's start in 2016, that should give us enough games to start making inferences."
   ],
   "metadata": {
    "collapsed": false,
    "pycharm": {
     "name": "#%% md\n"
    }
   }
  },
  {
   "cell_type": "code",
   "execution_count": 1,
   "outputs": [
    {
     "name": "stdout",
     "output_type": "stream",
     "text": [
      "Number of games to download:  10684\n"
     ]
    },
    {
     "data": {
      "text/plain": "'/boxes/KCA/KCA201604030.shtml'"
     },
     "execution_count": 1,
     "metadata": {},
     "output_type": "execute_result"
    }
   ],
   "source": [
    "import requests\n",
    "from bs4 import BeautifulSoup as bs\n",
    "\n",
    "game_links = []\n",
    "for current_year in range(2016,2021):\n",
    "    url = f\"https://www.baseball-reference.com/leagues/MLB/{current_year}-schedule.shtml\"\n",
    "    resp = requests.get(url)\n",
    "    soup=bs(resp.text)\n",
    "    games = soup.findAll('a',text='Boxscore')\n",
    "    game_links.extend([x['href'] for x in games])\n",
    "print(\"Number of games to download: \", len(game_links))\n",
    "game_links[0]"
   ],
   "metadata": {
    "collapsed": false,
    "pycharm": {
     "name": "#%%\n"
    }
   }
  },
  {
   "cell_type": "markdown",
   "source": [
    "### Download Game Data\n",
    "For each game, I want to download team performance in batting and pitching, as well as individual performance pitching. For 10K games, this is going to take a little while to build out."
   ],
   "metadata": {
    "collapsed": false,
    "pycharm": {
     "name": "#%% md\n"
    }
   }
  },
  {
   "cell_type": "code",
   "execution_count": 2,
   "outputs": [],
   "source": [
    "#collapse-hide\n",
    "\n",
    "# these are functions related to parsing the baseball reference page\n",
    "\n",
    "def get_game_summary(soup, game_id):\n",
    "    game = {'game_id': game_id}\n",
    "    scorebox = soup.find('div', {'class':'scorebox'})\n",
    "    teams = scorebox.findAll('a',{'itemprop':'name'})\n",
    "    game['away_team_abbr'] = teams[0]['href'].split('/')[2]\n",
    "    game['home_team_abbr'] = teams[1]['href'].split('/')[2]\n",
    "    meta = scorebox.find('div', {'class':'scorebox_meta'}).findAll('div')\n",
    "    game['date'] = meta[0].text.strip()\n",
    "    game['start_time'] = meta[1].text[12:-6].strip()\n",
    "    return game\n",
    "\n",
    "def get_table_summary(soup, table_no):\n",
    "    stats_tables = soup.findAll('table', {'class':'stats_table'})\n",
    "    t = stats_tables[table_no].find('tfoot')\n",
    "    summary = {x['data-stat']:x.text.strip() for x in t.findAll('td')}\n",
    "    return summary\n",
    "\n",
    "def get_pitcher_data(soup, table_no):\n",
    "    stats_tables = soup.findAll('table', {'class':'stats_table'})\n",
    "    t = stats_tables[table_no]\n",
    "    data = []\n",
    "    rows = t.findAll('tr')[1:-1] # not the header and footer rows\n",
    "    for r in rows:\n",
    "        summary = {x['data-stat']:x.text.strip() for x in r.findAll('td')}\n",
    "        summary['name'] = r.find('th',{'data-stat':'player'}).find('a')['href'].split('/')[-1][:-6].strip()\n",
    "        data.append(summary)\n",
    "    return data\n",
    "\n",
    "def process_link(url):\n",
    "    resp = requests.get(url)\n",
    "    game_id = url.split('/')[-1][:-6]\n",
    "\n",
    "    # strange preprocessing routine\n",
    "    uncommented_html = ''\n",
    "    for h in resp.text.split('\\n'):\n",
    "        if '<!--     <div' in h: continue\n",
    "        if h.strip() == '<!--': continue\n",
    "        if h.strip() == '-->': continue\n",
    "        uncommented_html += h + '\\n'\n",
    "\n",
    "    soup = bs(uncommented_html)\n",
    "    data = {\n",
    "        'game': get_game_summary(soup, game_id),\n",
    "        'away_batting': get_table_summary(soup, 1),\n",
    "        'home_batting':get_table_summary(soup, 2),\n",
    "        'away_pitching':get_table_summary(soup, 3),\n",
    "        'home_pitching':get_table_summary(soup, 4),\n",
    "        'away_pitchers': get_pitcher_data(soup, 3),\n",
    "        'home_pitchers': get_pitcher_data(soup, 4)\n",
    "    }\n",
    "    return data"
   ],
   "metadata": {
    "collapsed": false,
    "pycharm": {
     "name": "#%%\n"
    }
   }
  },
  {
   "cell_type": "code",
   "execution_count": 3,
   "outputs": [
    {
     "name": "stdout",
     "output_type": "stream",
     "text": [
      "14:24:15.188000 1000\n",
      "14:34:20.590050 2000\n",
      "14:44:37.326441 3000\n",
      "14:54:50.018196 4000\n",
      "15:05:12.944858 5000\n",
      "15:15:18.664457 6000\n",
      "15:25:07.445247 7000\n",
      "15:35:07.049830 8000\n",
      "15:44:55.807973 9000\n",
      "15:54:50.771393 10000\n"
     ]
    }
   ],
   "source": [
    "import datetime as dt\n",
    "game_data = []\n",
    "for link in game_links:\n",
    "    url = 'https://www.baseball-reference.com' + link\n",
    "    game_data.append(process_link(url))\n",
    "    if len(game_data)%1000==0: print(dt.datetime.now().time(), len(game_data))"
   ],
   "metadata": {
    "collapsed": false,
    "pycharm": {
     "name": "#%%\n"
    }
   }
  },
  {
   "cell_type": "markdown",
   "source": [
    "That took a while. We could definitely speed it up with threading, but we want to be nice to their servers. They seem like good people, making their data available to everyone.\n",
    "\n",
    "Here is what a single game looks like. It's actually quite a bit of data."
   ],
   "metadata": {
    "collapsed": false,
    "pycharm": {
     "name": "#%% md\n"
    }
   }
  },
  {
   "cell_type": "code",
   "execution_count": 6,
   "outputs": [
    {
     "data": {
      "text/plain": "{'game': {'game_id': 'KCA201604030',\n  'away_team_abbr': 'NYM',\n  'home_team_abbr': 'KCR',\n  'date': 'Sunday, April 3, 2016',\n  'start_time': '7:38 p.m.'},\n 'away_batting': {'AB': '33',\n  'R': '3',\n  'H': '7',\n  'RBI': '3',\n  'BB': '6',\n  'SO': '9',\n  'PA': '39',\n  'batting_avg': '.212',\n  'onbase_perc': '.333',\n  'slugging_perc': '.242',\n  'onbase_plus_slugging': '.576',\n  'pitches': '177',\n  'strikes_total': '105',\n  'wpa_bat': '-0.449',\n  'leverage_index_avg': '1.58',\n  'wpa_bat_pos': '0.746',\n  'wpa_bat_neg': '-1.195',\n  're24_bat': '-1.7',\n  'PO': '24',\n  'A': '15',\n  'details': ''},\n 'home_batting': {'AB': '30',\n  'R': '4',\n  'H': '9',\n  'RBI': '4',\n  'BB': '2',\n  'SO': '3',\n  'PA': '33',\n  'batting_avg': '.300',\n  'onbase_perc': '.333',\n  'slugging_perc': '.300',\n  'onbase_plus_slugging': '.633',\n  'pitches': '114',\n  'strikes_total': '71',\n  'wpa_bat': '0.052',\n  'leverage_index_avg': '0.74',\n  'wpa_bat_pos': '0.488',\n  'wpa_bat_neg': '-0.434',\n  're24_bat': '-0.1',\n  'PO': '27',\n  'A': '13',\n  'details': ''},\n 'away_pitching': {'IP': '8',\n  'H': '9',\n  'R': '4',\n  'ER': '3',\n  'BB': '2',\n  'SO': '3',\n  'HR': '0',\n  'earned_run_avg': '3.38',\n  'batters_faced': '33',\n  'pitches': '114',\n  'strikes_total': '71',\n  'strikes_contact': '42',\n  'strikes_swinging': '7',\n  'strikes_looking': '22',\n  'inplay_gb_total': '18',\n  'inplay_fb_total': '10',\n  'inplay_ld': '5',\n  'inplay_unk': '0',\n  'game_score': '39',\n  'inherited_runners': '2',\n  'inherited_score': '1',\n  'wpa_def': '-0.051',\n  'leverage_index_avg': '0.74',\n  're24_def': '0.1'},\n 'home_pitching': {'IP': '9',\n  'H': '7',\n  'R': '3',\n  'ER': '3',\n  'BB': '6',\n  'SO': '9',\n  'HR': '0',\n  'earned_run_avg': '3.00',\n  'batters_faced': '39',\n  'pitches': '177',\n  'strikes_total': '106',\n  'strikes_contact': '59',\n  'strikes_swinging': '21',\n  'strikes_looking': '26',\n  'inplay_gb_total': '16',\n  'inplay_fb_total': '8',\n  'inplay_ld': '5',\n  'inplay_unk': '0',\n  'game_score': '70',\n  'inherited_runners': '2',\n  'inherited_score': '0',\n  'wpa_def': '0.449',\n  'leverage_index_avg': '1.58',\n  're24_def': '1.7'},\n 'away_pitchers': [{'IP': '5.2',\n   'H': '8',\n   'R': '4',\n   'ER': '3',\n   'BB': '2',\n   'SO': '2',\n   'HR': '0',\n   'earned_run_avg': '4.76',\n   'batters_faced': '25',\n   'pitches': '83',\n   'strikes_total': '51',\n   'strikes_contact': '32',\n   'strikes_swinging': '6',\n   'strikes_looking': '13',\n   'inplay_gb_total': '13',\n   'inplay_fb_total': '8',\n   'inplay_ld': '5',\n   'inplay_unk': '0',\n   'game_score': '39',\n   'inherited_runners': '',\n   'inherited_score': '',\n   'wpa_def': '-0.061',\n   'leverage_index_avg': '0.86',\n   're24_def': '-0.4',\n   'name': 'harvema01'},\n  {'IP': '1.1',\n   'H': '1',\n   'R': '0',\n   'ER': '0',\n   'BB': '0',\n   'SO': '1',\n   'HR': '0',\n   'earned_run_avg': '0.00',\n   'batters_faced': '5',\n   'pitches': '20',\n   'strikes_total': '13',\n   'strikes_contact': '7',\n   'strikes_swinging': '0',\n   'strikes_looking': '6',\n   'inplay_gb_total': '3',\n   'inplay_fb_total': '1',\n   'inplay_ld': '0',\n   'inplay_unk': '0',\n   'game_score': '',\n   'inherited_runners': '2',\n   'inherited_score': '1',\n   'wpa_def': '-0.022',\n   'leverage_index_avg': '0.25',\n   're24_def': '0.0',\n   'name': 'colonba01'},\n  {'IP': '1',\n   'H': '0',\n   'R': '0',\n   'ER': '0',\n   'BB': '0',\n   'SO': '0',\n   'HR': '0',\n   'earned_run_avg': '0.00',\n   'batters_faced': '3',\n   'pitches': '11',\n   'strikes_total': '7',\n   'strikes_contact': '3',\n   'strikes_swinging': '1',\n   'strikes_looking': '3',\n   'inplay_gb_total': '2',\n   'inplay_fb_total': '1',\n   'inplay_ld': '0',\n   'inplay_unk': '0',\n   'game_score': '',\n   'inherited_runners': '0',\n   'inherited_score': '0',\n   'wpa_def': '0.032',\n   'leverage_index_avg': '0.42',\n   're24_def': '0.5',\n   'name': 'blevije01'}],\n 'home_pitchers': [{'IP': '6',\n   'H': '2',\n   'R': '0',\n   'ER': '0',\n   'BB': '3',\n   'SO': '5',\n   'HR': '0',\n   'earned_run_avg': '0.00',\n   'batters_faced': '22',\n   'pitches': '106',\n   'strikes_total': '62',\n   'strikes_contact': '32',\n   'strikes_swinging': '14',\n   'strikes_looking': '16',\n   'inplay_gb_total': '11',\n   'inplay_fb_total': '3',\n   'inplay_ld': '2',\n   'inplay_unk': '0',\n   'game_score': '70',\n   'inherited_runners': '',\n   'inherited_score': '',\n   'wpa_def': '0.350',\n   'leverage_index_avg': '0.92',\n   're24_def': '3.1',\n   'name': 'volqued01'},\n  {'IP': '1',\n   'H': '1',\n   'R': '0',\n   'ER': '0',\n   'BB': '0',\n   'SO': '0',\n   'HR': '0',\n   'earned_run_avg': '0.00',\n   'batters_faced': '4',\n   'pitches': '12',\n   'strikes_total': '7',\n   'strikes_contact': '5',\n   'strikes_swinging': '1',\n   'strikes_looking': '1',\n   'inplay_gb_total': '1',\n   'inplay_fb_total': '3',\n   'inplay_ld': '1',\n   'inplay_unk': '0',\n   'game_score': '',\n   'inherited_runners': '0',\n   'inherited_score': '0',\n   'wpa_def': '0.030',\n   'leverage_index_avg': '0.59',\n   're24_def': '0.5',\n   'name': 'herreke01'},\n  {'IP': '0.2',\n   'H': '3',\n   'R': '3',\n   'ER': '3',\n   'BB': '2',\n   'SO': '1',\n   'HR': '0',\n   'earned_run_avg': '40.50',\n   'batters_faced': '7',\n   'pitches': '29',\n   'strikes_total': '16',\n   'strikes_contact': '10',\n   'strikes_swinging': '2',\n   'strikes_looking': '4',\n   'inplay_gb_total': '2',\n   'inplay_fb_total': '2',\n   'inplay_ld': '2',\n   'inplay_unk': '0',\n   'game_score': '',\n   'inherited_runners': '0',\n   'inherited_score': '0',\n   'wpa_def': '-0.203',\n   'leverage_index_avg': '1.80',\n   're24_def': '-2.9',\n   'name': 'soriajo01'},\n  {'IP': '0.1',\n   'H': '0',\n   'R': '0',\n   'ER': '0',\n   'BB': '0',\n   'SO': '1',\n   'HR': '0',\n   'earned_run_avg': '0.00',\n   'batters_faced': '1',\n   'pitches': '4',\n   'strikes_total': '3',\n   'strikes_contact': '1',\n   'strikes_swinging': '2',\n   'strikes_looking': '0',\n   'inplay_gb_total': '0',\n   'inplay_fb_total': '0',\n   'inplay_ld': '0',\n   'inplay_unk': '0',\n   'game_score': '',\n   'inherited_runners': '2',\n   'inherited_score': '0',\n   'wpa_def': '0.106',\n   'leverage_index_avg': '4.08',\n   're24_def': '0.4',\n   'name': 'hochelu01'},\n  {'IP': '1',\n   'H': '1',\n   'R': '0',\n   'ER': '0',\n   'BB': '1',\n   'SO': '2',\n   'HR': '0',\n   'earned_run_avg': '0.00',\n   'batters_faced': '5',\n   'pitches': '26',\n   'strikes_total': '18',\n   'strikes_contact': '11',\n   'strikes_swinging': '2',\n   'strikes_looking': '5',\n   'inplay_gb_total': '2',\n   'inplay_fb_total': '0',\n   'inplay_ld': '0',\n   'inplay_unk': '0',\n   'game_score': '',\n   'inherited_runners': '0',\n   'inherited_score': '0',\n   'wpa_def': '0.166',\n   'leverage_index_avg': '4.62',\n   're24_def': '0.5',\n   'name': 'daviswa01'}]}"
     },
     "execution_count": 6,
     "metadata": {},
     "output_type": "execute_result"
    }
   ],
   "source": [
    "game_data[0]"
   ],
   "metadata": {
    "collapsed": false,
    "pycharm": {
     "name": "#%%\n"
    }
   }
  },
  {
   "cell_type": "markdown",
   "source": [
    "Let's save our work, so we don't have to do that download again.\n",
    "> Important: We will be using the files saved in subsequent blog posts. Be sure to save them locally if you run this notebook online."
   ],
   "metadata": {
    "collapsed": false
   }
  },
  {
   "cell_type": "code",
   "execution_count": 7,
   "outputs": [],
   "source": [
    "# save our work\n",
    "import pickle\n",
    "pickle.dump(game_data, open('game_data.pkl', 'wb'))"
   ],
   "metadata": {
    "collapsed": false,
    "pycharm": {
     "name": "#%%\n"
    }
   }
  },
  {
   "cell_type": "markdown",
   "source": [
    "## Prep Data for Modelling\n",
    "The idea behind the model is that we care about the difference in the stats for our two opposing teams. So if the home team starting pitcher usually gets a lot more strikeouts than the away team's pitcher, that's the number we want to feed the model. As you saw above, we're going to be doing this for several stats.\n",
    "### Load data into DataFrames\n",
    "The first task is to load our data into dataframes. We're going to end up with 4:\n",
    "* **game_df**: This will be our main dataframe that will eventually get fed into the model\n",
    "* **pitching_df**: This holds the pitching data, two rows per game (one for how team, one for away team). It's constructed this way because we need to be able to group our data per team.\n",
    "* **batting_df**: Same as above but for batting stats.\n",
    "* **pitcher_df**: This is the same as pitching_df, but has one row per player. We'll derive our starting pitcher stats from here.\n",
    "\n",
    "First, let's load our saved work."
   ],
   "metadata": {
    "collapsed": false,
    "pycharm": {
     "name": "#%% md\n"
    }
   }
  },
  {
   "cell_type": "code",
   "execution_count": 42,
   "outputs": [],
   "source": [
    "import pickle\n",
    "game_data = pickle.load(open('game_data.pkl', 'rb'))"
   ],
   "metadata": {
    "collapsed": false,
    "pycharm": {
     "name": "#%%\n"
    }
   }
  },
  {
   "cell_type": "code",
   "execution_count": 43,
   "outputs": [
    {
     "data": {
      "text/plain": "(10684, 21368, 21368, 92026)"
     },
     "execution_count": 43,
     "metadata": {},
     "output_type": "execute_result"
    }
   ],
   "source": [
    "import pandas as pd\n",
    "\n",
    "games = []\n",
    "batting = []\n",
    "pitching = []\n",
    "pitchers = []\n",
    "\n",
    "for g in game_data:\n",
    "    game_summary = g['game']\n",
    "\n",
    "    # fix date\n",
    "    game_summary['date'] = game_summary['date'] + \" \" + game_summary['start_time']\n",
    "    del game_summary['start_time']\n",
    "\n",
    "    # get starting pitchers\n",
    "    game_summary['home_pitcher'] = g['home_pitchers'][0]['name']\n",
    "    game_summary['away_pitcher'] = g['away_pitchers'][0]['name']\n",
    "\n",
    "    # this is the field we'll train our model to predict\n",
    "    game_summary['home_team_win'] = int(g['home_batting']['R'])>int(g['away_batting']['R'])\n",
    "    games.append(game_summary)\n",
    "\n",
    "    target_pairs = [\n",
    "        ('away_batting', batting),\n",
    "        ('home_batting', batting),\n",
    "        ('away_pitching', pitching),\n",
    "        ('home_pitching', pitching),\n",
    "        ('away_pitchers', pitchers),\n",
    "        ('home_pitchers', pitchers)\n",
    "    ]\n",
    "    for key, d in target_pairs:\n",
    "        if isinstance(g[key], list): # pitchers\n",
    "            for x in g[key]:\n",
    "                if 'home' in key:\n",
    "                    x['is_home_team'] = True\n",
    "                    x['team'] = g['game']['home_team_abbr']\n",
    "                else:\n",
    "                    x['is_home_team'] = False\n",
    "                    x['team'] = g['game']['away_team_abbr']\n",
    "                x['game_id'] = g['game']['game_id']\n",
    "                d.append(x)\n",
    "        else: #batting, pitching\n",
    "            x = g[key]\n",
    "            if 'home' in key:\n",
    "                x['is_home_team'] = True\n",
    "                x['team'] = g['game']['home_team_abbr']\n",
    "            else:\n",
    "                x['is_home_team'] = False\n",
    "                x['team'] = g['game']['away_team_abbr']\n",
    "            x['game_id'] = g['game']['game_id']\n",
    "            d.append(x)\n",
    "len(games), len(batting), len(pitching), len(pitchers)"
   ],
   "metadata": {
    "collapsed": false,
    "pycharm": {
     "name": "#%%\n"
    }
   }
  },
  {
   "cell_type": "markdown",
   "source": [
    "**Game DF**\n",
    "\n",
    "This one is where we'll eventually put all of our stats"
   ],
   "metadata": {
    "collapsed": false,
    "pycharm": {
     "name": "#%% md\n"
    }
   }
  },
  {
   "cell_type": "code",
   "execution_count": 44,
   "outputs": [
    {
     "data": {
      "text/plain": "        game_id away_team_abbr home_team_abbr                date  \\\n0  KCA201604030            NYM            KCR 2016-04-03 19:38:00   \n1  PIT201604030            STL            PIT 2016-04-03 13:15:00   \n2  TBA201604030            TOR            TBR 2016-04-03 16:09:00   \n3  ANA201604040            CHC            LAA 2016-04-04 19:08:00   \n4  ARI201604040            COL            ARI 2016-04-04 18:42:00   \n\n  home_pitcher away_pitcher  home_team_win  \n0    volqued01    harvema01           True  \n1    liriafr01    wainwad01           True  \n2    archech01    stromma01          False  \n3    richaga01    arrieja01          False  \n4    greinza01     rosajo01          False  ",
      "text/html": "<div>\n<style scoped>\n    .dataframe tbody tr th:only-of-type {\n        vertical-align: middle;\n    }\n\n    .dataframe tbody tr th {\n        vertical-align: top;\n    }\n\n    .dataframe thead th {\n        text-align: right;\n    }\n</style>\n<table border=\"1\" class=\"dataframe\">\n  <thead>\n    <tr style=\"text-align: right;\">\n      <th></th>\n      <th>game_id</th>\n      <th>away_team_abbr</th>\n      <th>home_team_abbr</th>\n      <th>date</th>\n      <th>home_pitcher</th>\n      <th>away_pitcher</th>\n      <th>home_team_win</th>\n    </tr>\n  </thead>\n  <tbody>\n    <tr>\n      <th>0</th>\n      <td>KCA201604030</td>\n      <td>NYM</td>\n      <td>KCR</td>\n      <td>2016-04-03 19:38:00</td>\n      <td>volqued01</td>\n      <td>harvema01</td>\n      <td>True</td>\n    </tr>\n    <tr>\n      <th>1</th>\n      <td>PIT201604030</td>\n      <td>STL</td>\n      <td>PIT</td>\n      <td>2016-04-03 13:15:00</td>\n      <td>liriafr01</td>\n      <td>wainwad01</td>\n      <td>True</td>\n    </tr>\n    <tr>\n      <th>2</th>\n      <td>TBA201604030</td>\n      <td>TOR</td>\n      <td>TBR</td>\n      <td>2016-04-03 16:09:00</td>\n      <td>archech01</td>\n      <td>stromma01</td>\n      <td>False</td>\n    </tr>\n    <tr>\n      <th>3</th>\n      <td>ANA201604040</td>\n      <td>CHC</td>\n      <td>LAA</td>\n      <td>2016-04-04 19:08:00</td>\n      <td>richaga01</td>\n      <td>arrieja01</td>\n      <td>False</td>\n    </tr>\n    <tr>\n      <th>4</th>\n      <td>ARI201604040</td>\n      <td>COL</td>\n      <td>ARI</td>\n      <td>2016-04-04 18:42:00</td>\n      <td>greinza01</td>\n      <td>rosajo01</td>\n      <td>False</td>\n    </tr>\n  </tbody>\n</table>\n</div>"
     },
     "execution_count": 44,
     "metadata": {},
     "output_type": "execute_result"
    }
   ],
   "source": [
    "game_df = pd.DataFrame(games)\n",
    "#TODO: fix games that were rescheduled which become NaT after this next command\n",
    "game_df['date'] = pd.to_datetime(game_df['date'], errors='coerce')\n",
    "game_df = game_df[~game_df['game_id'].str.contains('allstar')].copy() #don't care about allstar games\n",
    "game_df.head()"
   ],
   "metadata": {
    "collapsed": false,
    "pycharm": {
     "name": "#%%\n"
    }
   }
  },
  {
   "cell_type": "markdown",
   "source": [
    "**Batting DF**\n",
    "\n",
    "Stats about batting, one row per team per game"
   ],
   "metadata": {
    "collapsed": false
   }
  },
  {
   "cell_type": "code",
   "execution_count": 45,
   "outputs": [
    {
     "data": {
      "text/plain": "     AB    R    H  RBI   BB    SO    PA  batting_avg  onbase_perc  \\\n0  33.0  3.0  7.0  3.0  6.0   9.0  39.0        0.212        0.333   \n1  30.0  4.0  9.0  4.0  2.0   3.0  33.0        0.300        0.333   \n2  32.0  1.0  5.0  1.0  5.0  14.0  38.0        0.156        0.289   \n3  28.0  4.0  9.0  4.0  5.0   5.0  36.0        0.321        0.429   \n4  35.0  5.0  7.0  5.0  3.0  16.0  38.0        0.200        0.263   \n\n   slugging_perc  ...  wpa_bat  leverage_index_avg  wpa_bat_pos  wpa_bat_neg  \\\n0          0.242  ...   -0.449                1.58        0.746       -1.195   \n1          0.300  ...    0.052                0.74        0.488       -0.434   \n2          0.156  ...   -0.431                1.27        0.504       -0.935   \n3          0.464  ...    0.070                0.71        0.466       -0.394   \n4          0.314  ...    0.134                0.76        0.558       -0.423   \n\n   re24_bat    PO     A  is_home_team  team       game_id  \n0      -1.7  24.0  15.0         False   NYM  KCA201604030  \n1      -0.1  27.0  13.0          True   KCR  KCA201604030  \n2      -3.4  24.0  11.0         False   STL  PIT201604030  \n3       0.1  27.0   8.0          True   PIT  PIT201604030  \n4       0.7  27.0  15.0         False   TOR  TBA201604030  \n\n[5 rows x 23 columns]",
      "text/html": "<div>\n<style scoped>\n    .dataframe tbody tr th:only-of-type {\n        vertical-align: middle;\n    }\n\n    .dataframe tbody tr th {\n        vertical-align: top;\n    }\n\n    .dataframe thead th {\n        text-align: right;\n    }\n</style>\n<table border=\"1\" class=\"dataframe\">\n  <thead>\n    <tr style=\"text-align: right;\">\n      <th></th>\n      <th>AB</th>\n      <th>R</th>\n      <th>H</th>\n      <th>RBI</th>\n      <th>BB</th>\n      <th>SO</th>\n      <th>PA</th>\n      <th>batting_avg</th>\n      <th>onbase_perc</th>\n      <th>slugging_perc</th>\n      <th>...</th>\n      <th>wpa_bat</th>\n      <th>leverage_index_avg</th>\n      <th>wpa_bat_pos</th>\n      <th>wpa_bat_neg</th>\n      <th>re24_bat</th>\n      <th>PO</th>\n      <th>A</th>\n      <th>is_home_team</th>\n      <th>team</th>\n      <th>game_id</th>\n    </tr>\n  </thead>\n  <tbody>\n    <tr>\n      <th>0</th>\n      <td>33.0</td>\n      <td>3.0</td>\n      <td>7.0</td>\n      <td>3.0</td>\n      <td>6.0</td>\n      <td>9.0</td>\n      <td>39.0</td>\n      <td>0.212</td>\n      <td>0.333</td>\n      <td>0.242</td>\n      <td>...</td>\n      <td>-0.449</td>\n      <td>1.58</td>\n      <td>0.746</td>\n      <td>-1.195</td>\n      <td>-1.7</td>\n      <td>24.0</td>\n      <td>15.0</td>\n      <td>False</td>\n      <td>NYM</td>\n      <td>KCA201604030</td>\n    </tr>\n    <tr>\n      <th>1</th>\n      <td>30.0</td>\n      <td>4.0</td>\n      <td>9.0</td>\n      <td>4.0</td>\n      <td>2.0</td>\n      <td>3.0</td>\n      <td>33.0</td>\n      <td>0.300</td>\n      <td>0.333</td>\n      <td>0.300</td>\n      <td>...</td>\n      <td>0.052</td>\n      <td>0.74</td>\n      <td>0.488</td>\n      <td>-0.434</td>\n      <td>-0.1</td>\n      <td>27.0</td>\n      <td>13.0</td>\n      <td>True</td>\n      <td>KCR</td>\n      <td>KCA201604030</td>\n    </tr>\n    <tr>\n      <th>2</th>\n      <td>32.0</td>\n      <td>1.0</td>\n      <td>5.0</td>\n      <td>1.0</td>\n      <td>5.0</td>\n      <td>14.0</td>\n      <td>38.0</td>\n      <td>0.156</td>\n      <td>0.289</td>\n      <td>0.156</td>\n      <td>...</td>\n      <td>-0.431</td>\n      <td>1.27</td>\n      <td>0.504</td>\n      <td>-0.935</td>\n      <td>-3.4</td>\n      <td>24.0</td>\n      <td>11.0</td>\n      <td>False</td>\n      <td>STL</td>\n      <td>PIT201604030</td>\n    </tr>\n    <tr>\n      <th>3</th>\n      <td>28.0</td>\n      <td>4.0</td>\n      <td>9.0</td>\n      <td>4.0</td>\n      <td>5.0</td>\n      <td>5.0</td>\n      <td>36.0</td>\n      <td>0.321</td>\n      <td>0.429</td>\n      <td>0.464</td>\n      <td>...</td>\n      <td>0.070</td>\n      <td>0.71</td>\n      <td>0.466</td>\n      <td>-0.394</td>\n      <td>0.1</td>\n      <td>27.0</td>\n      <td>8.0</td>\n      <td>True</td>\n      <td>PIT</td>\n      <td>PIT201604030</td>\n    </tr>\n    <tr>\n      <th>4</th>\n      <td>35.0</td>\n      <td>5.0</td>\n      <td>7.0</td>\n      <td>5.0</td>\n      <td>3.0</td>\n      <td>16.0</td>\n      <td>38.0</td>\n      <td>0.200</td>\n      <td>0.263</td>\n      <td>0.314</td>\n      <td>...</td>\n      <td>0.134</td>\n      <td>0.76</td>\n      <td>0.558</td>\n      <td>-0.423</td>\n      <td>0.7</td>\n      <td>27.0</td>\n      <td>15.0</td>\n      <td>False</td>\n      <td>TOR</td>\n      <td>TBA201604030</td>\n    </tr>\n  </tbody>\n</table>\n<p>5 rows × 23 columns</p>\n</div>"
     },
     "execution_count": 45,
     "metadata": {},
     "output_type": "execute_result"
    }
   ],
   "source": [
    "batting_df = pd.DataFrame(batting)\n",
    "for k in batting_df.keys():\n",
    "    if any(x in k for x in ['team','game_id', 'home_away']): continue\n",
    "    batting_df[k] =pd.to_numeric(batting_df[k],errors='coerce', downcast='float')\n",
    "batting_df.drop(columns=['details'], inplace=True)\n",
    "batting_df.head()"
   ],
   "metadata": {
    "collapsed": false,
    "pycharm": {
     "name": "#%%\n"
    }
   }
  },
  {
   "cell_type": "markdown",
   "source": [
    "**Pitching DF**\n",
    "\n",
    "Team pitching stats, one row per team per game"
   ],
   "metadata": {
    "collapsed": false,
    "pycharm": {
     "name": "#%% md\n"
    }
   }
  },
  {
   "cell_type": "code",
   "execution_count": 46,
   "outputs": [
    {
     "data": {
      "text/plain": "    IP    H    R   ER   BB    SO   HR  earned_run_avg  batters_faced  pitches  \\\n0  8.0  9.0  4.0  3.0  2.0   3.0  0.0            3.38           33.0    114.0   \n1  9.0  7.0  3.0  3.0  6.0   9.0  0.0            3.00           39.0    177.0   \n2  8.0  9.0  4.0  4.0  5.0   5.0  0.0            4.50           36.0    144.0   \n3  9.0  5.0  1.0  1.0  5.0  14.0  0.0            1.00           38.0    141.0   \n4  9.0  7.0  3.0  3.0  1.0   7.0  1.0            3.00           36.0    118.0   \n\n   ...  inplay_unk  game_score  inherited_runners  inherited_score  wpa_def  \\\n0  ...         0.0        39.0                2.0              1.0   -0.051   \n1  ...         0.0        70.0                2.0              0.0    0.449   \n2  ...         0.0        48.0                0.0              0.0   -0.069   \n3  ...         0.0        71.0                0.0              0.0    0.431   \n4  ...         0.0        62.0                1.0              1.0    0.366   \n\n   leverage_index_avg  re24_def  is_home_team  team       game_id  \n0                0.74       0.1         False   NYM  KCA201604030  \n1                1.58       1.7          True   KCR  KCA201604030  \n2                0.71      -0.1         False   STL  PIT201604030  \n3                1.27       3.4          True   PIT  PIT201604030  \n4                0.98       1.3         False   TOR  TBA201604030  \n\n[5 rows x 27 columns]",
      "text/html": "<div>\n<style scoped>\n    .dataframe tbody tr th:only-of-type {\n        vertical-align: middle;\n    }\n\n    .dataframe tbody tr th {\n        vertical-align: top;\n    }\n\n    .dataframe thead th {\n        text-align: right;\n    }\n</style>\n<table border=\"1\" class=\"dataframe\">\n  <thead>\n    <tr style=\"text-align: right;\">\n      <th></th>\n      <th>IP</th>\n      <th>H</th>\n      <th>R</th>\n      <th>ER</th>\n      <th>BB</th>\n      <th>SO</th>\n      <th>HR</th>\n      <th>earned_run_avg</th>\n      <th>batters_faced</th>\n      <th>pitches</th>\n      <th>...</th>\n      <th>inplay_unk</th>\n      <th>game_score</th>\n      <th>inherited_runners</th>\n      <th>inherited_score</th>\n      <th>wpa_def</th>\n      <th>leverage_index_avg</th>\n      <th>re24_def</th>\n      <th>is_home_team</th>\n      <th>team</th>\n      <th>game_id</th>\n    </tr>\n  </thead>\n  <tbody>\n    <tr>\n      <th>0</th>\n      <td>8.0</td>\n      <td>9.0</td>\n      <td>4.0</td>\n      <td>3.0</td>\n      <td>2.0</td>\n      <td>3.0</td>\n      <td>0.0</td>\n      <td>3.38</td>\n      <td>33.0</td>\n      <td>114.0</td>\n      <td>...</td>\n      <td>0.0</td>\n      <td>39.0</td>\n      <td>2.0</td>\n      <td>1.0</td>\n      <td>-0.051</td>\n      <td>0.74</td>\n      <td>0.1</td>\n      <td>False</td>\n      <td>NYM</td>\n      <td>KCA201604030</td>\n    </tr>\n    <tr>\n      <th>1</th>\n      <td>9.0</td>\n      <td>7.0</td>\n      <td>3.0</td>\n      <td>3.0</td>\n      <td>6.0</td>\n      <td>9.0</td>\n      <td>0.0</td>\n      <td>3.00</td>\n      <td>39.0</td>\n      <td>177.0</td>\n      <td>...</td>\n      <td>0.0</td>\n      <td>70.0</td>\n      <td>2.0</td>\n      <td>0.0</td>\n      <td>0.449</td>\n      <td>1.58</td>\n      <td>1.7</td>\n      <td>True</td>\n      <td>KCR</td>\n      <td>KCA201604030</td>\n    </tr>\n    <tr>\n      <th>2</th>\n      <td>8.0</td>\n      <td>9.0</td>\n      <td>4.0</td>\n      <td>4.0</td>\n      <td>5.0</td>\n      <td>5.0</td>\n      <td>0.0</td>\n      <td>4.50</td>\n      <td>36.0</td>\n      <td>144.0</td>\n      <td>...</td>\n      <td>0.0</td>\n      <td>48.0</td>\n      <td>0.0</td>\n      <td>0.0</td>\n      <td>-0.069</td>\n      <td>0.71</td>\n      <td>-0.1</td>\n      <td>False</td>\n      <td>STL</td>\n      <td>PIT201604030</td>\n    </tr>\n    <tr>\n      <th>3</th>\n      <td>9.0</td>\n      <td>5.0</td>\n      <td>1.0</td>\n      <td>1.0</td>\n      <td>5.0</td>\n      <td>14.0</td>\n      <td>0.0</td>\n      <td>1.00</td>\n      <td>38.0</td>\n      <td>141.0</td>\n      <td>...</td>\n      <td>0.0</td>\n      <td>71.0</td>\n      <td>0.0</td>\n      <td>0.0</td>\n      <td>0.431</td>\n      <td>1.27</td>\n      <td>3.4</td>\n      <td>True</td>\n      <td>PIT</td>\n      <td>PIT201604030</td>\n    </tr>\n    <tr>\n      <th>4</th>\n      <td>9.0</td>\n      <td>7.0</td>\n      <td>3.0</td>\n      <td>3.0</td>\n      <td>1.0</td>\n      <td>7.0</td>\n      <td>1.0</td>\n      <td>3.00</td>\n      <td>36.0</td>\n      <td>118.0</td>\n      <td>...</td>\n      <td>0.0</td>\n      <td>62.0</td>\n      <td>1.0</td>\n      <td>1.0</td>\n      <td>0.366</td>\n      <td>0.98</td>\n      <td>1.3</td>\n      <td>False</td>\n      <td>TOR</td>\n      <td>TBA201604030</td>\n    </tr>\n  </tbody>\n</table>\n<p>5 rows × 27 columns</p>\n</div>"
     },
     "execution_count": 46,
     "metadata": {},
     "output_type": "execute_result"
    }
   ],
   "source": [
    "pitching_df = pd.DataFrame(pitching)\n",
    "for k in pitching_df.keys():\n",
    "    if any(x in k for x in ['team','game_id', 'home_away']): continue\n",
    "    pitching_df[k] =pd.to_numeric(pitching_df[k],errors='coerce', downcast='float')\n",
    "pitching_df.head()"
   ],
   "metadata": {
    "collapsed": false,
    "pycharm": {
     "name": "#%%\n"
    }
   }
  },
  {
   "cell_type": "markdown",
   "source": [
    "**Pitcher DF**\n",
    "\n",
    "Individual pitching stats (starting pitchers only), one row per pitcher per game"
   ],
   "metadata": {
    "collapsed": false,
    "pycharm": {
     "name": "#%% md\n"
    }
   }
  },
  {
   "cell_type": "code",
   "execution_count": 47,
   "outputs": [
    {
     "data": {
      "text/plain": "    IP    H    R   ER   BB    SO   HR  earned_run_avg  batters_faced  pitches  \\\n0  5.2  8.0  4.0  3.0  2.0   2.0  0.0            4.76           25.0     83.0   \n1  6.0  2.0  0.0  0.0  3.0   5.0  0.0            0.00           22.0    106.0   \n2  6.0  6.0  3.0  3.0  3.0   3.0  0.0            4.50           26.0     96.0   \n3  6.0  3.0  0.0  0.0  5.0  10.0  0.0            0.00           26.0     94.0   \n4  8.0  6.0  3.0  3.0  1.0   5.0  1.0            3.38           32.0     98.0   \n\n   ...  inplay_ld  inplay_unk  game_score  wpa_def  leverage_index_avg  \\\n0  ...        5.0         0.0        39.0   -0.061                0.86   \n1  ...        2.0         0.0        70.0    0.350                0.92   \n2  ...        6.0         0.0        48.0   -0.069                0.90   \n3  ...        0.0         0.0        71.0    0.329                1.52   \n4  ...        5.0         0.0        62.0    0.282                0.92   \n\n   re24_def       name  is_home_team  team       game_id  \n0      -0.4  harvema01         False   NYM  KCA201604030  \n1       3.1  volqued01          True   KCR  KCA201604030  \n2      -0.1  wainwad01         False   STL  PIT201604030  \n3       2.9  liriafr01          True   PIT  PIT201604030  \n4       1.5  stromma01         False   TOR  TBA201604030  \n\n[5 rows x 26 columns]",
      "text/html": "<div>\n<style scoped>\n    .dataframe tbody tr th:only-of-type {\n        vertical-align: middle;\n    }\n\n    .dataframe tbody tr th {\n        vertical-align: top;\n    }\n\n    .dataframe thead th {\n        text-align: right;\n    }\n</style>\n<table border=\"1\" class=\"dataframe\">\n  <thead>\n    <tr style=\"text-align: right;\">\n      <th></th>\n      <th>IP</th>\n      <th>H</th>\n      <th>R</th>\n      <th>ER</th>\n      <th>BB</th>\n      <th>SO</th>\n      <th>HR</th>\n      <th>earned_run_avg</th>\n      <th>batters_faced</th>\n      <th>pitches</th>\n      <th>...</th>\n      <th>inplay_ld</th>\n      <th>inplay_unk</th>\n      <th>game_score</th>\n      <th>wpa_def</th>\n      <th>leverage_index_avg</th>\n      <th>re24_def</th>\n      <th>name</th>\n      <th>is_home_team</th>\n      <th>team</th>\n      <th>game_id</th>\n    </tr>\n  </thead>\n  <tbody>\n    <tr>\n      <th>0</th>\n      <td>5.2</td>\n      <td>8.0</td>\n      <td>4.0</td>\n      <td>3.0</td>\n      <td>2.0</td>\n      <td>2.0</td>\n      <td>0.0</td>\n      <td>4.76</td>\n      <td>25.0</td>\n      <td>83.0</td>\n      <td>...</td>\n      <td>5.0</td>\n      <td>0.0</td>\n      <td>39.0</td>\n      <td>-0.061</td>\n      <td>0.86</td>\n      <td>-0.4</td>\n      <td>harvema01</td>\n      <td>False</td>\n      <td>NYM</td>\n      <td>KCA201604030</td>\n    </tr>\n    <tr>\n      <th>1</th>\n      <td>6.0</td>\n      <td>2.0</td>\n      <td>0.0</td>\n      <td>0.0</td>\n      <td>3.0</td>\n      <td>5.0</td>\n      <td>0.0</td>\n      <td>0.00</td>\n      <td>22.0</td>\n      <td>106.0</td>\n      <td>...</td>\n      <td>2.0</td>\n      <td>0.0</td>\n      <td>70.0</td>\n      <td>0.350</td>\n      <td>0.92</td>\n      <td>3.1</td>\n      <td>volqued01</td>\n      <td>True</td>\n      <td>KCR</td>\n      <td>KCA201604030</td>\n    </tr>\n    <tr>\n      <th>2</th>\n      <td>6.0</td>\n      <td>6.0</td>\n      <td>3.0</td>\n      <td>3.0</td>\n      <td>3.0</td>\n      <td>3.0</td>\n      <td>0.0</td>\n      <td>4.50</td>\n      <td>26.0</td>\n      <td>96.0</td>\n      <td>...</td>\n      <td>6.0</td>\n      <td>0.0</td>\n      <td>48.0</td>\n      <td>-0.069</td>\n      <td>0.90</td>\n      <td>-0.1</td>\n      <td>wainwad01</td>\n      <td>False</td>\n      <td>STL</td>\n      <td>PIT201604030</td>\n    </tr>\n    <tr>\n      <th>3</th>\n      <td>6.0</td>\n      <td>3.0</td>\n      <td>0.0</td>\n      <td>0.0</td>\n      <td>5.0</td>\n      <td>10.0</td>\n      <td>0.0</td>\n      <td>0.00</td>\n      <td>26.0</td>\n      <td>94.0</td>\n      <td>...</td>\n      <td>0.0</td>\n      <td>0.0</td>\n      <td>71.0</td>\n      <td>0.329</td>\n      <td>1.52</td>\n      <td>2.9</td>\n      <td>liriafr01</td>\n      <td>True</td>\n      <td>PIT</td>\n      <td>PIT201604030</td>\n    </tr>\n    <tr>\n      <th>4</th>\n      <td>8.0</td>\n      <td>6.0</td>\n      <td>3.0</td>\n      <td>3.0</td>\n      <td>1.0</td>\n      <td>5.0</td>\n      <td>1.0</td>\n      <td>3.38</td>\n      <td>32.0</td>\n      <td>98.0</td>\n      <td>...</td>\n      <td>5.0</td>\n      <td>0.0</td>\n      <td>62.0</td>\n      <td>0.282</td>\n      <td>0.92</td>\n      <td>1.5</td>\n      <td>stromma01</td>\n      <td>False</td>\n      <td>TOR</td>\n      <td>TBA201604030</td>\n    </tr>\n  </tbody>\n</table>\n<p>5 rows × 26 columns</p>\n</div>"
     },
     "execution_count": 47,
     "metadata": {},
     "output_type": "execute_result"
    }
   ],
   "source": [
    "pitcher_df = pd.DataFrame(pitchers)\n",
    "for k in pitcher_df.keys():\n",
    "    if any(x in k for x in ['team','name','game_id', 'home_away']): continue\n",
    "    pitcher_df[k] =pd.to_numeric(pitcher_df[k],errors='coerce', downcast='float')\n",
    "# filter the pitcher performances to just the starting pitcher\n",
    "pitcher_df = pitcher_df[~pitcher_df['game_score'].isna()].copy().reset_index(drop=True)\n",
    "pitcher_df.drop(columns=[x for x in pitcher_df.keys() if 'inherited' in x], inplace=True)\n",
    "pitcher_df.head()"
   ],
   "metadata": {
    "collapsed": false,
    "pycharm": {
     "name": "#%%\n"
    }
   }
  },
  {
   "cell_type": "markdown",
   "source": [
    "### Calculate Differences in the Statistics\n",
    "Here is where we're going to generate a bunch of columns in the game_df. Our statistical differences are going to be calculated like this:\n",
    "```\n",
    "For every downloaded statistic:\n",
    "    calculate the average, standard deviation and skew:\n",
    "        for time periods of 5, 10, 45, 180 and 730 days:\n",
    "            grouped by team (or pitcher name in the case of pitchers)\n",
    "    then shift the data so each row contains pre-game statistics\n",
    "    then take the difference of the opposing team\n",
    "```\n",
    "That result is put into the game_df with a name like \"5day_R_Avg\", or \"45Day_IP_StDev\". The other dfs are done at that point.\n",
    "\n",
    "Below are the routines to help execute the above algorithm.\n"
   ],
   "metadata": {
    "collapsed": false,
    "pycharm": {
     "name": "#%% md\n"
    }
   }
  },
  {
   "cell_type": "code",
   "execution_count": 48,
   "outputs": [],
   "source": [
    "import numpy as np\n",
    "\n",
    "def add_rolling(period, df, stat_columns):\n",
    "    for s in stat_columns:\n",
    "        if 'object' in str(df[s].dtype): continue\n",
    "        df[s+'_'+str(period)+'_Avg'] = df.groupby('team')[s].apply(lambda x:x.rolling(period).mean())\n",
    "        df[s+'_'+str(period)+'_Std'] = df.groupby('team')[s].apply(lambda x:x.rolling(period).std())\n",
    "        df[s+'_'+str(period)+'_Skew'] = df.groupby('team')[s].apply(lambda x:x.rolling(period).skew())\n",
    "    return df\n",
    "\n",
    "def get_diff_df(df, name, is_pitcher=False):\n",
    "    #runs for each of the stat dataframes, returns the difference in stats\n",
    "\n",
    "    #set up dataframe with time index\n",
    "    df['date'] = pd.to_datetime(df['game_id'].str[3:-1], format=\"%Y%m%d\")\n",
    "    df = df.sort_values(by='date').copy()\n",
    "    newindex = df.groupby('date')['date']\\\n",
    "             .apply(lambda x: x + np.arange(x.size).astype(np.timedelta64))\n",
    "    df = df.set_index(newindex).sort_index()\n",
    "\n",
    "    # get stat columns\n",
    "    stat_cols = [x for x in df.columns if 'int' in str(df[x].dtype)]\n",
    "    stat_cols.extend([x for x in df.columns if 'float' in str(df[x].dtype)])\n",
    "\n",
    "    #add lags\n",
    "    df = add_rolling('5d', df, stat_cols) # this game series\n",
    "    df = add_rolling('10d', df, stat_cols)\n",
    "    df = add_rolling('45d', df, stat_cols)\n",
    "    df = add_rolling('180d', df, stat_cols) # this season\n",
    "    df = add_rolling('730d', df, stat_cols) # 2 years\n",
    "\n",
    "    # reset stat columns to just the lags (removing the original stats)\n",
    "    df.drop(columns=stat_cols, inplace=True)\n",
    "    stat_cols = [x for x in df.columns if 'int' in str(df[x].dtype)]\n",
    "    stat_cols.extend([x for x in df.columns if 'float' in str(df[x].dtype)])\n",
    "\n",
    "    # shift results so that each row is  a pregame stat\n",
    "    df = df.reset_index(drop=True)\n",
    "    df = df.sort_values(by='date')\n",
    "    for s in stat_cols:\n",
    "        if is_pitcher:\n",
    "            df[s] = df.groupby('name')[s].shift(1)\n",
    "        else:\n",
    "            df[s] = df.groupby('team')[s].shift(1)\n",
    "\n",
    "    # calculate differences in pregame stats from home vs. away teams\n",
    "    away_df = df[~df['is_home_team']].copy()\n",
    "    away_df = away_df.set_index('game_id')\n",
    "    away_df = away_df[stat_cols]\n",
    "\n",
    "    home_df = df[df['is_home_team']].copy()\n",
    "    home_df = home_df.set_index('game_id')\n",
    "    home_df = home_df[stat_cols]\n",
    "\n",
    "    diff_df = home_df.subtract(away_df, fill_value=0)\n",
    "    diff_df = diff_df.reset_index()\n",
    "\n",
    "    # clean column names\n",
    "    for s in stat_cols:\n",
    "        diff_df[name + \"_\" + s] = diff_df[s]\n",
    "        diff_df.drop(columns=s, inplace=True)\n",
    "\n",
    "    return diff_df"
   ],
   "metadata": {
    "collapsed": false,
    "pycharm": {
     "name": "#%%\n"
    }
   }
  },
  {
   "cell_type": "markdown",
   "source": [
    "Below calculates the differences for each dataframe of stats, then merges those differences back into the main df."
   ],
   "metadata": {
    "collapsed": false,
    "pycharm": {
     "name": "#%% md\n"
    }
   }
  },
  {
   "cell_type": "code",
   "execution_count": 49,
   "outputs": [
    {
     "name": "stdout",
     "output_type": "stream",
     "text": [
      "(10684, 307)\n",
      "(10684, 667)\n"
     ]
    },
    {
     "data": {
      "text/plain": "(10684, 997)"
     },
     "execution_count": 49,
     "metadata": {},
     "output_type": "execute_result"
    }
   ],
   "source": [
    "df = game_df\n",
    "\n",
    "df = pd.merge(left=df, right = get_diff_df(batting_df, 'batting'),\n",
    "               on = 'game_id', how='left')\n",
    "print(df.shape)\n",
    "\n",
    "df = pd.merge(left=df, right = get_diff_df(pitching_df, 'pitching'),\n",
    "               on = 'game_id', how='left')\n",
    "print(df.shape)\n",
    "\n",
    "df = pd.merge(left=df, right = get_diff_df(pitcher_df, 'pitcher',is_pitcher=True),\n",
    "               on = 'game_id', how='left')\n",
    "df.shape"
   ],
   "metadata": {
    "collapsed": false,
    "pycharm": {
     "name": "#%%\n"
    }
   }
  },
  {
   "cell_type": "markdown",
   "source": [
    "## Other Features\n",
    "One of the other items we'll pick up from the 538 blog is pitcher rest. How long has it been since the pitcher played? Let's add that."
   ],
   "metadata": {
    "collapsed": false
   }
  },
  {
   "cell_type": "code",
   "execution_count": 50,
   "outputs": [],
   "source": [
    "pitcher_df = pd.DataFrame(pitchers) # old version was filtered to just starters\n",
    "dates = pitcher_df['game_id'].str[3:-1]\n",
    "pitcher_df['date'] = pd.to_datetime(dates,format='%Y%m%d', errors='coerce')\n",
    "pitcher_df['rest'] = pitcher_df.groupby('name')['date'].diff().dt.days\n",
    "\n",
    "# merge into main dataframe\n",
    "# filter the pitcher performances to just the starting pitcher\n",
    "pitcher_df = pitcher_df[~pitcher_df['game_score'].isna()].copy().reset_index(drop=True)\n",
    "home_pitchers = pitcher_df[pitcher_df['is_home_team']].copy().reset_index(drop=True)\n",
    "df = pd.merge(left=df, right=home_pitchers[['game_id','name', 'rest']],\n",
    "              left_on=['game_id','home_pitcher'],\n",
    "              right_on=['game_id','name'],\n",
    "              how='left')\n",
    "df.rename(columns={'rest':'home_pitcher_rest'}, inplace=True)\n",
    "\n",
    "away_pitchers = pitcher_df[~pitcher_df['is_home_team']].copy().reset_index(drop=True)\n",
    "df = pd.merge(left=df, right=away_pitchers[['game_id','name','rest']],\n",
    "              left_on=['game_id','away_pitcher'],\n",
    "              right_on=['game_id','name'],\n",
    "              how='left')\n",
    "df.rename(columns={'rest':'away_pitcher_rest'}, inplace=True)\n",
    "\n",
    "df['rest_diff'] = df['home_pitcher_rest']-df['away_pitcher_rest']"
   ],
   "metadata": {
    "collapsed": false,
    "pycharm": {
     "name": "#%%\n"
    }
   }
  },
  {
   "cell_type": "markdown",
   "source": [
    "Below we add some datetime features, as I generally do with time-series data like this."
   ],
   "metadata": {
    "collapsed": false,
    "pycharm": {
     "name": "#%% md\n"
    }
   }
  },
  {
   "cell_type": "code",
   "execution_count": 51,
   "outputs": [
    {
     "data": {
      "text/plain": "(10535, 1006)"
     },
     "execution_count": 51,
     "metadata": {},
     "output_type": "execute_result"
    }
   ],
   "source": [
    "df.dropna(subset=['date'], inplace=True)\n",
    "df['season'] = df['date'].dt.year\n",
    "df['month']=df['date'].dt.month\n",
    "df['week']=df['date'].dt.isocalendar().week.astype('int')\n",
    "df['dow']=df['date'].dt.weekday\n",
    "df['date'] = (pd.to_datetime(df['date']) - pd.Timestamp(\"1970-01-01\")) // pd.Timedelta('1s') #epoch time\n",
    "df.shape"
   ],
   "metadata": {
    "collapsed": false,
    "pycharm": {
     "name": "#%%\n"
    }
   }
  },
  {
   "cell_type": "markdown",
   "source": [
    "Save our work"
   ],
   "metadata": {
    "collapsed": false
   }
  },
  {
   "cell_type": "code",
   "execution_count": 52,
   "outputs": [],
   "source": [
    "import pickle\n",
    "pickle.dump(df, open('dataframe.pkl', 'wb'))"
   ],
   "metadata": {
    "collapsed": false,
    "pycharm": {
     "name": "#%%\n"
    }
   }
  },
  {
   "cell_type": "markdown",
   "source": [
    "## Train the Model\n",
    "Finally, we get to train the model! This is just going to be a crude first run to make sure everything is working properly. We'll add the cleverest bits in the next blog post.\n",
    "\n",
    "First, load our saved saved work"
   ],
   "metadata": {
    "collapsed": false,
    "pycharm": {
     "name": "#%% md\n"
    }
   }
  },
  {
   "cell_type": "code",
   "execution_count": 53,
   "outputs": [
    {
     "data": {
      "text/plain": "(10535, 1006)"
     },
     "execution_count": 53,
     "metadata": {},
     "output_type": "execute_result"
    }
   ],
   "source": [
    "import pickle\n",
    "df = pickle.load(open('dataframe.pkl', 'rb'))\n",
    "df.shape\n"
   ],
   "metadata": {
    "collapsed": false,
    "pycharm": {
     "name": "#%%\n"
    }
   }
  },
  {
   "cell_type": "markdown",
   "source": [
    "Target encoding for remaining string features. This will effectively create a 180-day win% value in each of the team name columns."
   ],
   "metadata": {
    "collapsed": false
   }
  },
  {
   "cell_type": "code",
   "execution_count": 54,
   "outputs": [],
   "source": [
    "encode_me = [x for x in df.keys() if 'object' in str(df[x].dtype)]\n",
    "for x in encode_me:\n",
    "    df[x] = df.groupby(x)['home_team_win'].apply(lambda x:x.rolling(180).mean()).shift(1)\n"
   ],
   "metadata": {
    "collapsed": false,
    "pycharm": {
     "name": "#%%\n"
    }
   }
  },
  {
   "cell_type": "markdown",
   "source": [
    "Create our test, train and validate data sets"
   ],
   "metadata": {
    "collapsed": false
   }
  },
  {
   "cell_type": "code",
   "execution_count": 55,
   "outputs": [],
   "source": [
    "df = df.sort_values(by='date').copy().reset_index(drop=True)\n",
    "X = df.drop(columns=['home_team_win', 'game_id'])\n",
    "y = df.home_team_win\n",
    "\n",
    "X_train = X[:-1000]\n",
    "y_train = y[:-1000]\n",
    "X_valid = X[-1000:-500]\n",
    "y_valid = y[-1000:-500]\n",
    "X_test = X[-500:]\n",
    "y_test = y[-500:]"
   ],
   "metadata": {
    "collapsed": false,
    "pycharm": {
     "name": "#%%\n"
    }
   }
  },
  {
   "cell_type": "markdown",
   "source": [
    "Here's the training bit"
   ],
   "metadata": {
    "collapsed": false
   }
  },
  {
   "cell_type": "code",
   "execution_count": 86,
   "outputs": [
    {
     "name": "stdout",
     "output_type": "stream",
     "text": [
      "[0]\tvalidation_0-logloss:0.68945\tvalidation_1-logloss:0.68961\n",
      "Multiple eval metrics have been passed: 'validation_1-logloss' will be used for early stopping.\n",
      "\n",
      "Will train until validation_1-logloss hasn't improved in 10 rounds.\n",
      "[1]\tvalidation_0-logloss:0.68630\tvalidation_1-logloss:0.68691\n",
      "[2]\tvalidation_0-logloss:0.68358\tvalidation_1-logloss:0.68529\n",
      "[3]\tvalidation_0-logloss:0.68109\tvalidation_1-logloss:0.68241\n",
      "[4]\tvalidation_0-logloss:0.67880\tvalidation_1-logloss:0.68167\n",
      "[5]\tvalidation_0-logloss:0.67674\tvalidation_1-logloss:0.68205\n",
      "[6]\tvalidation_0-logloss:0.67476\tvalidation_1-logloss:0.68092\n",
      "[7]\tvalidation_0-logloss:0.67293\tvalidation_1-logloss:0.68055\n",
      "[8]\tvalidation_0-logloss:0.67140\tvalidation_1-logloss:0.68093\n",
      "[9]\tvalidation_0-logloss:0.66984\tvalidation_1-logloss:0.68057\n",
      "[10]\tvalidation_0-logloss:0.66828\tvalidation_1-logloss:0.67975\n",
      "[11]\tvalidation_0-logloss:0.66696\tvalidation_1-logloss:0.67968\n",
      "[12]\tvalidation_0-logloss:0.66563\tvalidation_1-logloss:0.67980\n",
      "[13]\tvalidation_0-logloss:0.66442\tvalidation_1-logloss:0.67910\n",
      "[14]\tvalidation_0-logloss:0.66301\tvalidation_1-logloss:0.67890\n",
      "[15]\tvalidation_0-logloss:0.66174\tvalidation_1-logloss:0.67862\n",
      "[16]\tvalidation_0-logloss:0.66067\tvalidation_1-logloss:0.67761\n",
      "[17]\tvalidation_0-logloss:0.65948\tvalidation_1-logloss:0.67809\n",
      "[18]\tvalidation_0-logloss:0.65835\tvalidation_1-logloss:0.67735\n",
      "[19]\tvalidation_0-logloss:0.65725\tvalidation_1-logloss:0.67697\n",
      "[20]\tvalidation_0-logloss:0.65602\tvalidation_1-logloss:0.67689\n",
      "[21]\tvalidation_0-logloss:0.65500\tvalidation_1-logloss:0.67641\n",
      "[22]\tvalidation_0-logloss:0.65398\tvalidation_1-logloss:0.67638\n",
      "[23]\tvalidation_0-logloss:0.65303\tvalidation_1-logloss:0.67702\n",
      "[24]\tvalidation_0-logloss:0.65197\tvalidation_1-logloss:0.67712\n",
      "[25]\tvalidation_0-logloss:0.65098\tvalidation_1-logloss:0.67650\n",
      "[26]\tvalidation_0-logloss:0.65009\tvalidation_1-logloss:0.67589\n",
      "[27]\tvalidation_0-logloss:0.64936\tvalidation_1-logloss:0.67585\n",
      "[28]\tvalidation_0-logloss:0.64854\tvalidation_1-logloss:0.67600\n",
      "[29]\tvalidation_0-logloss:0.64790\tvalidation_1-logloss:0.67614\n",
      "[30]\tvalidation_0-logloss:0.64680\tvalidation_1-logloss:0.67718\n",
      "[31]\tvalidation_0-logloss:0.64578\tvalidation_1-logloss:0.67727\n",
      "[32]\tvalidation_0-logloss:0.64508\tvalidation_1-logloss:0.67779\n",
      "[33]\tvalidation_0-logloss:0.64402\tvalidation_1-logloss:0.67775\n",
      "[34]\tvalidation_0-logloss:0.64309\tvalidation_1-logloss:0.67809\n",
      "[35]\tvalidation_0-logloss:0.64205\tvalidation_1-logloss:0.67783\n",
      "[36]\tvalidation_0-logloss:0.64128\tvalidation_1-logloss:0.67775\n",
      "[37]\tvalidation_0-logloss:0.64028\tvalidation_1-logloss:0.67775\n",
      "Stopping. Best iteration:\n",
      "[27]\tvalidation_0-logloss:0.64936\tvalidation_1-logloss:0.67585\n",
      "\n"
     ]
    }
   ],
   "source": [
    "import xgboost as xgb\n",
    "params = {'learning_rate': 0.1,'max_depth': 3}\n",
    "gbm = xgb.XGBClassifier(**params)\n",
    "model = gbm.fit(X_train, y_train,\n",
    "                eval_set = [[X_train, y_train],\n",
    "                          [X_valid, y_valid]],\n",
    "                eval_metric='logloss',\n",
    "                early_stopping_rounds=10)\n",
    "xgb_test_preds = model.predict(X_test)\n",
    "xgb_test_proba = model.predict_proba(X_test)[:,1]"
   ],
   "metadata": {
    "collapsed": false,
    "pycharm": {
     "name": "#%%\n"
    }
   }
  },
  {
   "cell_type": "markdown",
   "source": [
    "And our results..."
   ],
   "metadata": {
    "collapsed": false
   }
  },
  {
   "cell_type": "code",
   "execution_count": 87,
   "outputs": [
    {
     "name": "stdout",
     "output_type": "stream",
     "text": [
      "Casino\t\tAccuracy:0.6006\t Brier Loss: 0.2358\n",
      "XGBoost\t\tAccuracy:0.5740\t Brier Loss: 0.2426\n"
     ]
    },
    {
     "data": {
      "text/plain": "<Figure size 864x576 with 2 Axes>",
      "image/png": "[encoded data removed]"
     },
     "metadata": {
      "needs_background": "light"
     },
     "output_type": "display_data"
    }
   ],
   "source": [
    "#collapse-hide\n",
    "from sklearn.calibration import calibration_curve\n",
    "from sklearn.metrics import accuracy_score, brier_score_loss\n",
    "import matplotlib.pyplot as plt\n",
    "import pickle\n",
    "\n",
    "def cal_curve(data, bins):\n",
    "    # adapted from:\n",
    "    #https://scikit-learn.org/stable/auto_examples/calibration/plot_calibration_curve.html\n",
    "    fig = plt.figure(1, figsize=(12, 8))\n",
    "    ax1 = plt.subplot2grid((3, 1), (0, 0), rowspan=2)\n",
    "    ax2 = plt.subplot2grid((3, 1), (2, 0))\n",
    "\n",
    "    ax1.plot([0, 1], [0, 1], \"k:\", label=\"Perfectly calibrated\")\n",
    "\n",
    "    for y_test, y_pred, y_proba, name in data:\n",
    "        brier = brier_score_loss(y_test, y_proba)\n",
    "        print(\"{}\\t\\tAccuracy:{:.4f}\\t Brier Loss: {:.4f}\".format(\n",
    "            name, accuracy_score(y_test, y_pred), brier))\n",
    "        fraction_of_positives, mean_predicted_value = \\\n",
    "            calibration_curve(y_test, y_proba, n_bins=bins)\n",
    "        ax1.plot(mean_predicted_value, fraction_of_positives,\n",
    "                 label=\"%s (%1.4f)\" % (name, brier))\n",
    "        ax2.hist(y_proba, range=(0, 1), bins=bins, label=name,\n",
    "                 histtype=\"step\", lw=2)\n",
    "\n",
    "    ax1.set_ylabel(\"Fraction of positives\")\n",
    "    ax1.set_ylim([-0.05, 1.05])\n",
    "    ax1.legend(loc=\"lower right\")\n",
    "    ax1.set_title('Calibration plots  (reliability curve)')\n",
    "\n",
    "    ax2.set_xlabel(\"Mean predicted value\")\n",
    "    ax2.set_ylabel(\"Count\")\n",
    "    ax2.legend(loc=\"lower right\")\n",
    "\n",
    "    plt.tight_layout()\n",
    "    plt.show()\n",
    "\n",
    "outcomes,predictions,probabilities = pickle.load(open('baseline.pkl','rb'))\n",
    "data = [\n",
    "    (outcomes, predictions, probabilities, 'Casino'),\n",
    "    (y_test,xgb_test_preds, xgb_test_proba, 'XGBoost')\n",
    "]\n",
    "cal_curve(data, 15)"
   ],
   "metadata": {
    "collapsed": false,
    "pycharm": {
     "name": "#%%\n"
    }
   }
  },
  {
   "cell_type": "markdown",
   "source": [
    "That's not terrible for a first run - >57% accuracy for our model vs. 60% for the casinos. We're only off by 2.6% and we still have our secret features and model optimization to do.\n",
    "\n",
    "Our calibration is also worse, but again it's not at all terrible for our first run. I like to think of it in terms of [forecasting skill](https://en.wikipedia.org/wiki/Forecast_skill). Our calibration skill is 2.8% worse than the casino's, as measured by our brier loss function.\n",
    "\n",
    "This model has some promise. Let's look at the feature importances just to see which features it's using most. It looks like the model likes [RE24](https://thebaseballscholar.com/2017/08/14/sabermetrics-101-re24/), and it likes the longer lags: 180day & 730day."
   ],
   "metadata": {
    "collapsed": false
   }
  },
  {
   "cell_type": "code",
   "execution_count": 53,
   "outputs": [
    {
     "data": {
      "text/plain": "<AxesSubplot:title={'center':'XGBoost Feature Gain'}>"
     },
     "execution_count": 53,
     "metadata": {},
     "output_type": "execute_result"
    },
    {
     "data": {
      "text/plain": "<Figure size 432x288 with 1 Axes>",
      "image/png": "[encoded data removed]"
     },
     "metadata": {
      "needs_background": "light"
     },
     "output_type": "display_data"
    }
   ],
   "source": [
    "#collapse-hide\n",
    "import pandas as pd\n",
    "x = pd.Series(model.get_booster().get_score(importance_type= 'total_gain')\n",
    "         ).sort_values()\n",
    "x[-25:].plot(kind='barh',title=\"XGBoost Feature Gain\")"
   ],
   "metadata": {
    "collapsed": false,
    "pycharm": {
     "name": "#%%\n"
    }
   }
  },
  {
   "cell_type": "markdown",
   "source": [
    "## Next Up\n",
    "In Part 3, we're going to add team power rankings and casino odds to the dataset to improve the results further!"
   ],
   "metadata": {
    "collapsed": false,
    "pycharm": {
     "name": "#%% md\n"
    }
   }
  },
  {
   "cell_type": "code",
   "execution_count": null,
   "outputs": [],
   "source": [],
   "metadata": {
    "collapsed": false,
    "pycharm": {
     "name": "#%%\n"
    }
   }
  }
 ],
 "metadata": {
  "kernelspec": {
   "display_name": "Python 3",
   "language": "python",
   "name": "python3"
  },
  "language_info": {
   "codemirror_mode": {
    "name": "ipython",
    "version": 2
   },
   "file_extension": ".py",
   "mimetype": "text/x-python",
   "name": "python",
   "nbconvert_exporter": "python",
   "pygments_lexer": "ipython2",
   "version": "2.7.6"
  }
 },
 "nbformat": 4,
 "nbformat_minor": 0
}