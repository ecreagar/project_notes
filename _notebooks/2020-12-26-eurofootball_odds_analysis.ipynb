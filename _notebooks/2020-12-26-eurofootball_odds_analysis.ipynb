{
 "cells": [
  {
   "cell_type": "markdown",
   "metadata": {},
   "source": [
    "# European Football Odds Analysis\n",
    "> Checking out Soccer/Football odds\n",
    "\n",
    "- toc: false\n",
    "- badges: true\n",
    "- comments: true\n",
    "- categories: [soccer, benchmark, webscraping, brier, accuracy, calibration]"
   ]
  },
  {
   "cell_type": "markdown",
   "metadata": {},
   "source": [
    "I've started thinking about applying machine learning to betting the European Soccer Leagues. It seems like it's going to be a different problem than my [previous work on baseball](https://rdpharr.github.io/project_notes/baseball/benchmark/webscraping/brier/accuracy/calibration/2020/09/20/baseball_project.html), as there are 3 possible outcomes for every match (win, lose, draw). But still, I'd like to see if the profitable machine learning process I put together will hold.  \n",
    "\n",
    "The first step in this process is getting data on how well the oddsmakers can predict the outcomes of these matches. This establishes the goals any model I make will need to exceed to be successful. [Football-data.co.uk](https://www.football-data.co.uk) is a great site that publishes historical odds from different matchmakers in easy-to-use csv format. So let's pull down their spreadsheets and see how they did.\n",
    "\n",
    "**Each blog post on this site, including this one, is executable. Use the buttons at the top to run the code on Binder of Colab and get fresh results for yourself.** You can also download it from Github to run the notebook locally."
   ]
  },
  {
   "cell_type": "code",
   "execution_count": 1,
   "metadata": {},
   "outputs": [],
   "source": [
    "import pandas as pd\n",
    "\n",
    "import warnings\n",
    "warnings.filterwarnings('ignore')"
   ]
  },
  {
   "cell_type": "code",
   "execution_count": 2,
   "metadata": {},
   "outputs": [
    {
     "data": {
      "text/plain": [
       "(6083, 127)"
      ]
     },
     "execution_count": 2,
     "metadata": {},
     "output_type": "execute_result"
    }
   ],
   "source": [
    "csvs = [\n",
    "    'https://www.football-data.co.uk/mmz4281/2021/SP1.csv',\n",
    "    'https://www.football-data.co.uk/mmz4281/1920/SP1.csv',\n",
    "    'https://www.football-data.co.uk/mmz4281/1819/SP1.csv',\n",
    "    'https://www.football-data.co.uk/mmz4281/1718/SP1.csv',\n",
    "    'https://www.football-data.co.uk/mmz4281/2021/E0.csv',\n",
    "    'https://www.football-data.co.uk/mmz4281/1920/E0.csv',\n",
    "    'https://www.football-data.co.uk/mmz4281/1819/E0.csv',\n",
    "    'https://www.football-data.co.uk/mmz4281/1718/E0.csv',\n",
    "    'https://www.football-data.co.uk/mmz4281/2021/D1.csv',\n",
    "    'https://www.football-data.co.uk/mmz4281/1920/D1.csv',\n",
    "    'https://www.football-data.co.uk/mmz4281/1819/D1.csv',\n",
    "    'https://www.football-data.co.uk/mmz4281/1718/D1.csv',\n",
    "    'https://www.football-data.co.uk/mmz4281/2021/I1.csv',\n",
    "    'https://www.football-data.co.uk/mmz4281/1920/I1.csv',\n",
    "    'https://www.football-data.co.uk/mmz4281/1819/I1.csv',\n",
    "    'https://www.football-data.co.uk/mmz4281/1718/I1.csv',\n",
    "    'https://www.football-data.co.uk/mmz4281/2021/F1.csv',\n",
    "    'https://www.football-data.co.uk/mmz4281/1920/F1.csv',\n",
    "    'https://www.football-data.co.uk/mmz4281/1819/F1.csv',\n",
    "    'https://www.football-data.co.uk/mmz4281/1718/F1.csv',\n",
    "]\n",
    "df = pd.DataFrame()\n",
    "for c in csvs:\n",
    "    df = pd.concat([df, pd.read_csv(c)])\n",
    "df.shape"
   ]
  },
  {
   "cell_type": "markdown",
   "metadata": {},
   "source": [
    "Over 6000 matches should be enough, right? These spredsheets are pretty dense, with 127 columns of information. See their [notes](https://www.football-data.co.uk/notes.txt) for how to decode the column headers.\n",
    "\n",
    "Let's see the %ages for home, away and draw results using the 'FTR' (Full Time Result) column"
   ]
  },
  {
   "cell_type": "code",
   "execution_count": 3,
   "metadata": {},
   "outputs": [
    {
     "data": {
      "text/plain": [
       "H    0.438106\n",
       "A    0.310044\n",
       "D    0.251849\n",
       "Name: FTR, dtype: float64"
      ]
     },
     "execution_count": 3,
     "metadata": {},
     "output_type": "execute_result"
    }
   ],
   "source": [
    "# game outcomes\n",
    "df['FTR'].value_counts()/len(df)"
   ]
  },
  {
   "cell_type": "markdown",
   "metadata": {},
   "source": [
    "The home team seems to have a 12% advantage over the away team and 25% of matches end in a draw. This has always been pretty frustrating for me as a fan, I hate it when matches end in a draw. Even more when they are scoreless."
   ]
  },
  {
   "cell_type": "code",
   "execution_count": 4,
   "metadata": {},
   "outputs": [
    {
     "data": {
      "text/plain": [
       "0.06822291632418215"
      ]
     },
     "execution_count": 4,
     "metadata": {},
     "output_type": "execute_result"
    }
   ],
   "source": [
    "# scoreless games\n",
    "df['total_score'] = df[['FTAG','FTHG']].sum(axis=1)\n",
    "(df['total_score']==0).mean()"
   ]
  },
  {
   "cell_type": "markdown",
   "metadata": {},
   "source": [
    "OK, that only happens 6.8 percent of the time, but it still feels like a lot to me.\n",
    "\n",
    "Back to the task at hand - how well do the oddsmakers predict the outcomes of the matches? First we need to find oddsmakers that are consistent throughout our dataset. The averages provided cover less than half of the matches."
   ]
  },
  {
   "cell_type": "code",
   "execution_count": 5,
   "metadata": {},
   "outputs": [
    {
     "data": {
      "text/plain": [
       "AvgH    3652\n",
       "AvgD    3652\n",
       "AvgA    3652\n",
       "dtype: int64"
      ]
     },
     "execution_count": 5,
     "metadata": {},
     "output_type": "execute_result"
    }
   ],
   "source": [
    "df[['AvgH','AvgD','AvgA']].isna().sum()"
   ]
  },
  {
   "cell_type": "markdown",
   "metadata": {},
   "source": [
    "It looks like most of the columns with the match betting odds are mostly 3 letters long, so we'll use that as as shortcut to compare them"
   ]
  },
  {
   "cell_type": "code",
   "execution_count": 6,
   "metadata": {},
   "outputs": [
    {
     "data": {
      "text/plain": [
       "Div       0\n",
       "FTR       0\n",
       "HTR       1\n",
       "HST       1\n",
       "AST       1\n",
       "BWH       2\n",
       "BWD       2\n",
       "BWA       2\n",
       "WHH       3\n",
       "VCH       3\n",
       "VCD       3\n",
       "IWH       3\n",
       "IWA       3\n",
       "IWD       3\n",
       "WHD       3\n",
       "VCA       3\n",
       "WHA       3\n",
       "PSH      12\n",
       "PSD      12\n",
       "PSA      12\n",
       "AHh    3653\n",
       "LBD    4259\n",
       "LBH    4259\n",
       "LBA    4259\n",
       "dtype: int64"
      ]
     },
     "execution_count": 6,
     "metadata": {},
     "output_type": "execute_result"
    }
   ],
   "source": [
    "df[[x for x in df.columns if len(x)==3]].isna().sum().sort_values(ascending=True)[:25]"
   ]
  },
  {
   "cell_type": "markdown",
   "metadata": {},
   "source": [
    "It looks like Bet&Win has the most match coverage. So let's look at them."
   ]
  },
  {
   "cell_type": "code",
   "execution_count": 7,
   "metadata": {},
   "outputs": [
    {
     "data": {
      "text/plain": [
       "(6081, 128)"
      ]
     },
     "execution_count": 7,
     "metadata": {},
     "output_type": "execute_result"
    }
   ],
   "source": [
    "df.dropna(subset=['BWH','BWD','BWA'], inplace=True)\n",
    "df.shape"
   ]
  },
  {
   "cell_type": "code",
   "execution_count": 8,
   "metadata": {},
   "outputs": [
    {
     "data": {
      "text/plain": [
       "0.5331359973688538"
      ]
     },
     "execution_count": 8,
     "metadata": {},
     "output_type": "execute_result"
    }
   ],
   "source": [
    "df['favorite'] = df[['BWH','BWD','BWA']].idxmin(axis=1)\n",
    "(df['favorite'].str[-1]==df['FTR']).mean()"
   ]
  },
  {
   "cell_type": "markdown",
   "metadata": {},
   "source": [
    "53% of the time, the odds favorite wins the match. This is much better than chance (33%).\n",
    "\n",
    "## Calibration\n",
    "Next, let's look at calibration. The odds for a match can be converted into a probability of each team winning. There's a great article on how to do this on [bettingexpert.com](https://www.bettingexpert.com/academy/advanced-betting-theory/odds-conversion-to-percentage). For this dataset, we are lucky to have dollar odds, so the probabilities are just the inverse of the odds. If the dollar odds are 2.5, then the probability is 1 / 2.5 = 40%.\n",
    "\n",
    "Below we check whether those probabilities are accurate. When they say the home club has 40% odds, do they win 40% of the time? there are 2 good ways of knowing this: graphically with a reliability curve, and quantitatively, with a metric called Brier score. Both are below."
   ]
  },
  {
   "cell_type": "code",
   "execution_count": 9,
   "metadata": {},
   "outputs": [
    {
     "name": "stdout",
     "output_type": "stream",
     "text": [
      "Home Win\t Brier Loss: 0.2098\n",
      "Away Win\t Brier Loss: 0.1806\n",
      "Draw\t\t Brier Loss: 0.1848\n"
     ]
    },
    {
     "data": {
      "image/png": "[encoded data removed]",
      "text/plain": [
       "<Figure size 864x576 with 2 Axes>"
      ]
     },
     "metadata": {
      "needs_background": "light"
     },
     "output_type": "display_data"
    }
   ],
   "source": [
    "from sklearn.calibration import calibration_curve\n",
    "from sklearn.metrics import brier_score_loss\n",
    "import matplotlib.pyplot as plt\n",
    "\n",
    "def cal_curve(data, bins):\n",
    "    # adapted from:\n",
    "    #https://scikit-learn.org/stable/auto_examples/calibration/plot_calibration_curve.html\n",
    "    fig = plt.figure(1, figsize=(12, 8))\n",
    "    ax1 = plt.subplot2grid((3, 1), (0, 0), rowspan=2)\n",
    "    ax2 = plt.subplot2grid((3, 1), (2, 0))\n",
    "\n",
    "    ax1.plot([0, 1], [0, 1], \"k:\", label=\"Perfectly calibrated\")\n",
    "\n",
    "    for y_test, y_proba, name in data:\n",
    "        brier = brier_score_loss(y_test, y_proba)\n",
    "        print(\"{}\\t Brier Loss: {:.4f}\".format(\n",
    "            name, brier))\n",
    "        fraction_of_positives, mean_predicted_value = \\\n",
    "            calibration_curve(y_test, y_proba, n_bins=bins)\n",
    "        ax1.plot(mean_predicted_value, fraction_of_positives,\n",
    "                 label=\"%s (%1.4f)\" % (name, brier))\n",
    "        ax2.hist(y_proba, range=(0, 1), bins=bins, label=name,\n",
    "                 histtype=\"step\", lw=2)\n",
    "\n",
    "    ax1.set_ylabel(\"Fraction of positives\")\n",
    "    ax1.set_ylim([-0.05, 1.05])\n",
    "    ax1.legend(loc=\"lower right\")\n",
    "    ax1.set_title('Calibration plots  (reliability curve)')\n",
    "\n",
    "    ax2.set_xlabel(\"Mean predicted value\")\n",
    "    ax2.set_ylabel(\"Count\")\n",
    "    ax2.legend(loc=\"lower right\")\n",
    "\n",
    "    plt.tight_layout()\n",
    "    plt.show()\n",
    "\n",
    "data = [\n",
    "    # truth, probabilities, labels\n",
    "    (df['FTR']=='H', 1/df['BWH'], 'Home Win'),\n",
    "    (df['FTR']=='A', 1/df['BWA'], 'Away Win'),\n",
    "    (df['FTR']=='D', 1/df['BWD'], 'Draw\\t'),\n",
    "]\n",
    "cal_curve(data, 10)"
   ]
  },
  {
   "cell_type": "markdown",
   "metadata": {},
   "source": [
    "Except for the aberration in draws at 40%, that's really tight. The MLB baseball project had [0.2358 Brier Score](https://rdpharr.github.io/project_notes/baseball/benchmark/webscraping/brier/accuracy/calibration/2020/09/20/baseball_project.html). Lower is better in brier land, so this is 10-20% better. \n",
    "\n",
    "MLB Baseball accuracy was about 10% beter than chance, this seems to be 20%.\n",
    "\n",
    "## Conclusion\n",
    "It looks like European soccer is significantly easier for the oddsmakers to predict than American baseball. I'm interested to see if this affects our ability to exceed the odds maker predictions.\n",
    "\n",
    "This was only meant to give an idea of how well oddsmakers predict matches, but I already see some interesting features of the data. I'll leave you to explore further. I'd be especially interested in the profitability of predicting match draws, as well as any differences among the leagues - perhaps some are more competitive than others.\n",
    "\n",
    "Remember - hit the buttons at the top to download and run this notebook yourself."
   ]
  },
  {
   "cell_type": "code",
   "execution_count": null,
   "metadata": {},
   "outputs": [],
   "source": []
  }
 ],
 "metadata": {
  "kernelspec": {
   "display_name": "Python 3",
   "language": "python",
   "name": "python3"
  },
  "language_info": {
   "codemirror_mode": {
    "name": "ipython",
    "version": 3
   },
   "file_extension": ".py",
   "mimetype": "text/x-python",
   "name": "python",
   "nbconvert_exporter": "python",
   "pygments_lexer": "ipython3",
   "version": "3.7.6"
  }
 },
 "nbformat": 4,
 "nbformat_minor": 4
}
