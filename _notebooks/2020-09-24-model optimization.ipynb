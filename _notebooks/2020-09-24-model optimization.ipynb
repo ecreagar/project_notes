{
 "cells": [
  {
   "cell_type": "markdown",
   "source": [
    "# MLB Model Optimization\n",
    "> Part 4 - Solidly outperforming the casinos after hyperparameter optimization & more data\n",
    "\n",
    "- toc: false\n",
    "- badges: true\n",
    "- comments: true\n",
    "- categories: [baseball, hyperopt, xgboost]\n",
    "- image: images/chart-preview.png"
   ],
   "metadata": {
    "collapsed": false
   }
  },
  {
   "cell_type": "code",
   "execution_count": 1,
   "outputs": [],
   "source": [
    "#hide\n",
    "%matplotlib inline\n",
    "%load_ext autoreload\n",
    "%autoreload 2\n",
    "\n",
    "import warnings\n",
    "warnings.filterwarnings('ignore')\n",
    "warnings.simplefilter(action='ignore', category=FutureWarning)\n"
   ],
   "metadata": {
    "collapsed": false,
    "pycharm": {
     "name": "#%%\n"
    }
   }
  },
  {
   "cell_type": "markdown",
   "source": [
    "|MLB Baseball Prediction Series:|[Part 1](https://rdpharr.github.io/project_notes/baseball/benchmark/webscraping/brier/accuracy/calibration/2020/09/20/baseball_project.html)|[Part 2](https://rdpharr.github.io/project_notes/baseball/webscraping/xgboost/brier/accuracy/calibration/2020/09/21/MLB-Part2-First-Model.html)|[Part 3](https://rdpharr.github.io/project_notes/baseball/webscraping/elo/trueskill/glick/2020/09/22/power-rankings-and-casino-odds.html)|[Part 4](https://rdpharr.github.io/project_notes/baseball/hyperopt/xgboost/2020/09/24/model-optimization.html)|[Part 5](https://rdpharr.github.io/project_notes/baseball/webscraping/kelly%20criterion/xgboost/2020/09/26/predictions-and-betting-strategy.html)|\n",
    "|-----|------|-----------|---------|----------|------|\n",
    "\n",
    "In Part 3, our model was already performing better than the casino's oddsmakers, but it was only 0.6% better in accuracy and calibration was at parity. In this notebook, we'll get those numbers higher by doing some optimization of the hyperparameters and getting more data.\n",
    "\n",
    "## Get More Data\n",
    "This is key to solving the overfitting problem we saw in Part 3. XGBoost wanting a low `max_depth` feels like a big deal to me, so let's solve it. I think of overfitting as a problem of either too many features or not enough data. I really love all the fancy and clever features we've made, so let's get more data.\n",
    "\n",
    "Start by going back to the blog post for Part 2 and run the whole thing again, except when you download from baseball-reference.com, start in 2013 instead fo 2016. The code to change is right under the header \"Create List of Games to Download\". It might take a bit to download all that data.\n",
    "\n",
    "... I'll wait ...\n",
    "\n",
    "Then re-run Part 3 to add the odds and power rankings to the dataset.\n",
    "\n",
    "... Go on ...\n",
    "\n",
    "Done? Great. Let's get that new dataframe you saved into this notebook. Now we'll prepare it to be run by XGBoost in the same way we did in the last post, except that we're going to increase the size of the validation set from 500 games to 2500 games - a whole season of games."
   ],
   "metadata": {
    "collapsed": false,
    "pycharm": {
     "name": "#%% md\n"
    }
   }
  },
  {
   "cell_type": "code",
   "execution_count": 2,
   "outputs": [],
   "source": [
    "import pickle\n",
    "df = pickle.load(open('dataframe_part3_big.pkl','rb'))\n",
    "\n",
    "# target encoding\n",
    "encode_me = [x for x in df.keys() if 'object' in str(df[x].dtype)]\n",
    "for x in encode_me:\n",
    "    df[x] = df.groupby(x)['home_team_win'].apply(lambda x:x.rolling(180).mean()).shift(1)\n",
    "\n",
    "# create test, train splits\n",
    "df = df.sort_values(by='date').copy().reset_index(drop=True)\n",
    "X = df.drop(columns=['home_team_win', 'game_id'])\n",
    "y = df.home_team_win\n",
    "\n",
    "X_train = X[:-2500]\n",
    "y_train = y[:-2500]\n",
    "X_valid = X[-2500:-500]\n",
    "y_valid = y[-2500:-500]\n",
    "X_test = X[-500:]\n",
    "y_test = y[-500:]"
   ],
   "metadata": {
    "collapsed": false,
    "pycharm": {
     "name": "#%%\n"
    }
   }
  },
  {
   "cell_type": "markdown",
   "source": [
    "## Hyperparameter Optimization\n",
    "For this post we'll use Hyperopt, a Baysean hyperparameter optimization tool. This will perform a search of the different parameters that we'll be feeding XGBoost to see which perform best. You can read on [their website](https://hyperopt.github.io/hyperopt/) about how it works.\n",
    "\n",
    "Install it like this\n",
    "``` pip install hyperopt ```\n",
    "\n",
    "Below are the 3 functions I use to optimize XGBoost. The `get_xgb_model` function just trains the model, `xgb_objective` calls the first and does the model scoring, and `get_xgbparams` is the function that starts the hyperopt magic."
   ],
   "metadata": {
    "collapsed": false,
    "pycharm": {
     "name": "#%% md\n"
    }
   }
  },
  {
   "cell_type": "code",
   "execution_count": 3,
   "outputs": [],
   "source": [
    "from hyperopt import fmin, tpe, hp, Trials\n",
    "import xgboost as xgb\n",
    "from sklearn.metrics import accuracy_score, brier_score_loss\n",
    "\n",
    "def get_xgb_model(params):\n",
    "    # comment the next 2 lines out if you don't have gpu\n",
    "    params['gpu_id'] = 0\n",
    "    params['tree_method'] = 'gpu_hist'\n",
    "    params['seed']=13\n",
    "\n",
    "    gbm = xgb.XGBClassifier(**params,n_estimators=999)\n",
    "    model = gbm.fit(X_train, y_train,\n",
    "                    verbose=False,\n",
    "                    eval_set = [[X_train, y_train],\n",
    "                              [X_valid, y_valid]],\n",
    "                    eval_metric='logloss',\n",
    "                    early_stopping_rounds=15)\n",
    "    return model\n",
    "\n",
    "def xgb_objective(params):\n",
    "    params['max_depth']=int(params['max_depth'])\n",
    "    model = get_xgb_model(params)\n",
    "    xgb_test_proba = model.predict_proba(X_valid)[:,1]\n",
    "    score = brier_score_loss(y_valid, xgb_test_proba)\n",
    "    return(score)\n",
    "\n",
    "trials = Trials() # recorder for our results\n",
    "\n",
    "def get_xgbparams(space, evals=15):\n",
    "    params = fmin(xgb_objective,\n",
    "        space=space,\n",
    "        algo=tpe.suggest,\n",
    "        max_evals=evals,\n",
    "        trials=trials)\n",
    "    params['max_depth']=int(params['max_depth'])\n",
    "    return params"
   ],
   "metadata": {
    "collapsed": false,
    "pycharm": {
     "name": "#%%\n"
    }
   }
  },
  {
   "cell_type": "markdown",
   "source": [
    "Next we define the search space for hpyperopt and start the run. I won't go into the function of each of the hyperparameters, but I will give a shout out to [this blog post](https://www.analyticsvidhya.com/blog/2016/03/complete-guide-parameter-tuning-xgboost-with-codes-python/) - it's one of the best resources I've seen on the subject. Most of the time I get good results in 250 runs, but if I'm feeling thorough (and patient) I let it run for 2000 iterations. The space below could represent a million significantly different parameter combinations, so 250 trials might be putting too much faith in the search algorithm.\n",
    "\n",
    "Let's do 1000 iterations and see what happens."
   ],
   "metadata": {
    "collapsed": false
   }
  },
  {
   "cell_type": "code",
   "execution_count": null,
   "outputs": [
    {
     "name": "stdout",
     "output_type": "stream",
     "text": [
      " 63%|██████▎   | 628/1000 [1:09:03<34:14,  5.52s/trial, best loss: 0.2343581178197382]  "
     ]
    }
   ],
   "source": [
    "import numpy as np\n",
    "hyperopt_runs = 1000\n",
    "\n",
    "space = {\n",
    "    'max_depth':  hp.quniform('max_depth', 1, 8, 1),\n",
    "    'min_child_weight': hp.quniform('min_child_weight', 3, 15, 1),\n",
    "    'learning_rate': hp.qloguniform('learning_rate', np.log(.01),np.log(.1),.01),\n",
    "    'subsample': hp.quniform('subsample', 0.2, 1.0,.2),\n",
    "    'colsample_bytree': hp.quniform('colsample_bytree', 0.2, 1.0,.2),\n",
    "    'reg_alpha': hp.qloguniform('reg_alpha',np.log(1e-2),np.log(1e2),1e-2)\n",
    "}\n",
    "xgb_params = get_xgbparams(space,hyperopt_runs)\n",
    "xgb_params"
   ],
   "metadata": {
    "collapsed": false,
    "pycharm": {
     "name": "#%%\n",
     "is_executing": true
    }
   }
  },
  {
   "cell_type": "markdown",
   "source": [
    "We just spent long time optimizing to the validation set and we found a very good set of parameters for it. That doesn't mean it's going to work well for the test set. But we'll cross our fingers anyway."
   ],
   "metadata": {
    "collapsed": false
   }
  },
  {
   "cell_type": "code",
   "execution_count": null,
   "outputs": [],
   "source": [
    "#collapse-hide\n",
    "from sklearn.calibration import calibration_curve\n",
    "from sklearn.metrics import accuracy_score, brier_score_loss\n",
    "import matplotlib.pyplot as plt\n",
    "\n",
    "def cal_curve(data, bins):\n",
    "    # adapted from:\n",
    "    #https://scikit-learn.org/stable/auto_examples/calibration/plot_calibration_curve.html\n",
    "    fig = plt.figure(1, figsize=(12, 8))\n",
    "    ax1 = plt.subplot2grid((3, 1), (0, 0), rowspan=2)\n",
    "    ax2 = plt.subplot2grid((3, 1), (2, 0))\n",
    "\n",
    "    ax1.plot([0, 1], [0, 1], \"k:\", label=\"Perfectly calibrated\")\n",
    "\n",
    "    for y_test, y_pred, y_proba, name in data:\n",
    "        brier = brier_score_loss(y_test, y_proba)\n",
    "        print(\"{}\\t\\tAccuracy:{:.4f}\\t Brier Loss: {:.4f}\".format(\n",
    "            name, accuracy_score(y_test, y_pred), brier))\n",
    "        fraction_of_positives, mean_predicted_value = \\\n",
    "            calibration_curve(y_test, y_proba, n_bins=bins)\n",
    "        ax1.plot(mean_predicted_value, fraction_of_positives,\n",
    "                 label=\"%s (%1.4f)\" % (name, brier))\n",
    "        ax2.hist(y_proba, range=(0, 1), bins=bins, label=name,\n",
    "                 histtype=\"step\", lw=2)\n",
    "\n",
    "    ax1.set_ylabel(\"Fraction of positives\")\n",
    "    ax1.set_ylim([-0.05, 1.05])\n",
    "    ax1.legend(loc=\"lower right\")\n",
    "    ax1.set_title('Calibration plots  (reliability curve)')\n",
    "\n",
    "    ax2.set_xlabel(\"Mean predicted value\")\n",
    "    ax2.set_ylabel(\"Count\")\n",
    "    ax2.legend(loc=\"lower right\")\n",
    "\n",
    "    plt.tight_layout()\n",
    "    plt.show()\n",
    "\n",
    "model = get_xgb_model(xgb_params)\n",
    "xgb_test_preds = model.predict(X_test)\n",
    "xgb_test_proba = model.predict_proba(X_test)[:,1]\n",
    "\n",
    "casino_proba = X_test['odds_proba']\n",
    "casino_preds = X_test['odds_proba']>.5\n",
    "\n",
    "data = [\n",
    "    (y_test, casino_preds, casino_proba, 'Casino'),\n",
    "    (y_test,xgb_test_preds, xgb_test_proba, 'XGBoost')\n",
    "]\n",
    "cal_curve(data, 15)"
   ],
   "metadata": {
    "collapsed": false,
    "pycharm": {
     "name": "#%%\n",
     "is_executing": true
    }
   }
  },
  {
   "cell_type": "markdown",
   "source": [
    "Well that's not better. Even though our validation set had a `brier_score_loss` of 0.234, when we tried the same parameters on test it scores 0.243 - 3.8% worse. Let's print out our top hyperopt runs and see if the top one is an aberration."
   ],
   "metadata": {
    "collapsed": false
   }
  },
  {
   "cell_type": "code",
   "execution_count": 19,
   "outputs": [
    {
     "data": {
      "text/plain": "    colsample_bytree  learning_rate  max_depth  min_child_weight  reg_alpha  \\\n0                0.4           0.07        5.0               5.0       0.09   \n1                0.6           0.10        3.0               8.0       0.03   \n2                0.6           0.09        3.0              11.0       0.01   \n3                0.6           0.09        3.0              11.0       0.01   \n4                0.6           0.09        3.0              11.0       0.01   \n5                0.6           0.09        3.0              11.0       0.01   \n6                0.6           0.09        3.0              11.0       0.01   \n7                0.6           0.09        3.0              11.0       0.01   \n8                0.6           0.09        3.0              11.0       0.01   \n9                0.6           0.09        3.0              11.0       0.01   \n10               0.6           0.09        3.0              11.0       0.01   \n11               0.6           0.09        3.0              11.0       0.01   \n12               0.6           0.09        3.0              11.0       0.01   \n13               0.6           0.09        3.0              11.0       0.01   \n14               0.6           0.09        3.0              11.0       0.01   \n\n    subsample      loss  \n0         0.8  0.234232  \n1         1.0  0.234526  \n2         1.0  0.234537  \n3         1.0  0.234537  \n4         1.0  0.234537  \n5         1.0  0.234537  \n6         1.0  0.234537  \n7         1.0  0.234537  \n8         1.0  0.234537  \n9         1.0  0.234537  \n10        1.0  0.234537  \n11        1.0  0.234537  \n12        1.0  0.234537  \n13        1.0  0.234537  \n14        1.0  0.234537  ",
      "text/html": "<div>\n<style scoped>\n    .dataframe tbody tr th:only-of-type {\n        vertical-align: middle;\n    }\n\n    .dataframe tbody tr th {\n        vertical-align: top;\n    }\n\n    .dataframe thead th {\n        text-align: right;\n    }\n</style>\n<table border=\"1\" class=\"dataframe\">\n  <thead>\n    <tr style=\"text-align: right;\">\n      <th></th>\n      <th>colsample_bytree</th>\n      <th>learning_rate</th>\n      <th>max_depth</th>\n      <th>min_child_weight</th>\n      <th>reg_alpha</th>\n      <th>subsample</th>\n      <th>loss</th>\n    </tr>\n  </thead>\n  <tbody>\n    <tr>\n      <th>0</th>\n      <td>0.4</td>\n      <td>0.07</td>\n      <td>5.0</td>\n      <td>5.0</td>\n      <td>0.09</td>\n      <td>0.8</td>\n      <td>0.234232</td>\n    </tr>\n    <tr>\n      <th>1</th>\n      <td>0.6</td>\n      <td>0.10</td>\n      <td>3.0</td>\n      <td>8.0</td>\n      <td>0.03</td>\n      <td>1.0</td>\n      <td>0.234526</td>\n    </tr>\n    <tr>\n      <th>2</th>\n      <td>0.6</td>\n      <td>0.09</td>\n      <td>3.0</td>\n      <td>11.0</td>\n      <td>0.01</td>\n      <td>1.0</td>\n      <td>0.234537</td>\n    </tr>\n    <tr>\n      <th>3</th>\n      <td>0.6</td>\n      <td>0.09</td>\n      <td>3.0</td>\n      <td>11.0</td>\n      <td>0.01</td>\n      <td>1.0</td>\n      <td>0.234537</td>\n    </tr>\n    <tr>\n      <th>4</th>\n      <td>0.6</td>\n      <td>0.09</td>\n      <td>3.0</td>\n      <td>11.0</td>\n      <td>0.01</td>\n      <td>1.0</td>\n      <td>0.234537</td>\n    </tr>\n    <tr>\n      <th>5</th>\n      <td>0.6</td>\n      <td>0.09</td>\n      <td>3.0</td>\n      <td>11.0</td>\n      <td>0.01</td>\n      <td>1.0</td>\n      <td>0.234537</td>\n    </tr>\n    <tr>\n      <th>6</th>\n      <td>0.6</td>\n      <td>0.09</td>\n      <td>3.0</td>\n      <td>11.0</td>\n      <td>0.01</td>\n      <td>1.0</td>\n      <td>0.234537</td>\n    </tr>\n    <tr>\n      <th>7</th>\n      <td>0.6</td>\n      <td>0.09</td>\n      <td>3.0</td>\n      <td>11.0</td>\n      <td>0.01</td>\n      <td>1.0</td>\n      <td>0.234537</td>\n    </tr>\n    <tr>\n      <th>8</th>\n      <td>0.6</td>\n      <td>0.09</td>\n      <td>3.0</td>\n      <td>11.0</td>\n      <td>0.01</td>\n      <td>1.0</td>\n      <td>0.234537</td>\n    </tr>\n    <tr>\n      <th>9</th>\n      <td>0.6</td>\n      <td>0.09</td>\n      <td>3.0</td>\n      <td>11.0</td>\n      <td>0.01</td>\n      <td>1.0</td>\n      <td>0.234537</td>\n    </tr>\n    <tr>\n      <th>10</th>\n      <td>0.6</td>\n      <td>0.09</td>\n      <td>3.0</td>\n      <td>11.0</td>\n      <td>0.01</td>\n      <td>1.0</td>\n      <td>0.234537</td>\n    </tr>\n    <tr>\n      <th>11</th>\n      <td>0.6</td>\n      <td>0.09</td>\n      <td>3.0</td>\n      <td>11.0</td>\n      <td>0.01</td>\n      <td>1.0</td>\n      <td>0.234537</td>\n    </tr>\n    <tr>\n      <th>12</th>\n      <td>0.6</td>\n      <td>0.09</td>\n      <td>3.0</td>\n      <td>11.0</td>\n      <td>0.01</td>\n      <td>1.0</td>\n      <td>0.234537</td>\n    </tr>\n    <tr>\n      <th>13</th>\n      <td>0.6</td>\n      <td>0.09</td>\n      <td>3.0</td>\n      <td>11.0</td>\n      <td>0.01</td>\n      <td>1.0</td>\n      <td>0.234537</td>\n    </tr>\n    <tr>\n      <th>14</th>\n      <td>0.6</td>\n      <td>0.09</td>\n      <td>3.0</td>\n      <td>11.0</td>\n      <td>0.01</td>\n      <td>1.0</td>\n      <td>0.234537</td>\n    </tr>\n  </tbody>\n</table>\n</div>"
     },
     "execution_count": 19,
     "metadata": {},
     "output_type": "execute_result"
    }
   ],
   "source": [
    "import pandas as pd\n",
    "results = []\n",
    "for i in range(len(trials.trials)):\n",
    "    trial = trials.trials[i]\n",
    "    inputs = trial['misc']['vals']\n",
    "    d = {}\n",
    "    for key in inputs.keys():\n",
    "        d[key]=inputs[key][0]\n",
    "    d['loss'] = trials.losses()[i]\n",
    "    results.append(d)\n",
    "trial_df = pd.DataFrame(results).sort_values(by='loss').copy().reset_index(drop=True)\n",
    "trial_df.drop_duplicates(inplace=True)\n",
    "trial_df[:15]"
   ],
   "metadata": {
    "collapsed": false,
    "pycharm": {
     "name": "#%%\n"
    }
   }
  },
  {
   "cell_type": "markdown",
   "source": [
    "It does look like our best run is an outlier, at least for `min_child_weight`. Let's iterate through these and try to find a combination that translates to our test set."
   ],
   "metadata": {
    "collapsed": false,
    "pycharm": {
     "name": "#%% md\n"
    }
   }
  },
  {
   "cell_type": "code",
   "execution_count": 28,
   "outputs": [
    {
     "name": "stdout",
     "output_type": "stream",
     "text": [
      "row: 0 brier 0.24050024824397145 accuracy 0.58\n",
      "row: 1 brier 0.24051711227805952 accuracy 0.584\n",
      "row: 2 brier 0.24091264660600983 accuracy 0.572\n",
      "row: 21 brier 0.2410043152147126 accuracy 0.572\n",
      "row: 22 brier 0.2416832946255103 accuracy 0.58\n",
      "row: 23 brier 0.240166252713673 accuracy 0.582\n",
      "row: 24 brier 0.24174014797168014 accuracy 0.578\n",
      "row: 26 brier 0.24173956310218783 accuracy 0.578\n",
      "row: 27 brier 0.24045570008836897 accuracy 0.594\n",
      "row: 29 brier 0.2404512385254471 accuracy 0.592\n",
      "row: 30 brier 0.24079594442668464 accuracy 0.588\n",
      "row: 31 brier 0.24039461256717498 accuracy 0.588\n",
      "row: 32 brier 0.24081077380189403 accuracy 0.586\n",
      "row: 33 brier 0.24082497325795083 accuracy 0.586\n",
      "row: 34 brier 0.2414720169260093 accuracy 0.6\n",
      "row: 35 brier 0.24156942417062202 accuracy 0.6\n",
      "row: 36 brier 0.2414703624280495 accuracy 0.6\n",
      "row: 37 brier 0.23999981142266852 accuracy 0.596\n",
      "row: 38 brier 0.2399321661590963 accuracy 0.59\n",
      "row: 39 brier 0.2414226002173595 accuracy 0.58\n",
      "row: 40 brier 0.2408837568653293 accuracy 0.592\n",
      "row: 41 brier 0.2411946017873674 accuracy 0.578\n",
      "row: 42 brier 0.2411978373933667 accuracy 0.578\n",
      "row: 43 brier 0.24007774556121955 accuracy 0.588\n",
      "row: 44 brier 0.24110767527066976 accuracy 0.578\n",
      "row: 45 brier 0.24275241057417962 accuracy 0.578\n",
      "row: 46 brier 0.24064522764222093 accuracy 0.612\n",
      "row: 47 brier 0.24110883733630054 accuracy 0.578\n",
      "row: 51 brier 0.24108249778233964 accuracy 0.58\n",
      "row: 52 brier 0.2406368463030773 accuracy 0.588\n",
      "row: 53 brier 0.2406725735093068 accuracy 0.588\n",
      "row: 54 brier 0.23975994931019598 accuracy 0.592\n",
      "row: 55 brier 0.2402642220206763 accuracy 0.574\n",
      "row: 57 brier 0.24026096593889842 accuracy 0.578\n",
      "row: 58 brier 0.2412121177045442 accuracy 0.574\n",
      "row: 59 brier 0.24058421654603834 accuracy 0.59\n",
      "best brier 0.23975994931019598\n",
      "{'colsample_bytree': 0.6000000000000001, 'learning_rate': 0.1, 'max_depth': 2, 'min_child_weight': 12.0, 'reg_alpha': 0.04, 'subsample': 0.6000000000000001, 'gpu_id': 0, 'tree_method': 'gpu_hist', 'seed': 13}\n"
     ]
    }
   ],
   "source": [
    "best_params = {}\n",
    "best_accuracy = 0\n",
    "for i, r in trial_df.iterrows():\n",
    "    if i>25: continue\n",
    "    params = {\n",
    "        'colsample_bytree':r['colsample_bytree'],\n",
    "        'learning_rate':r['learning_rate'],\n",
    "        'max_depth':int(r['max_depth']),\n",
    "        'min_child_weight':r['min_child_weight'],\n",
    "        'reg_alpha':r['reg_alpha'],\n",
    "        'subsample':r['subsample']\n",
    "    }\n",
    "    model = get_xgb_model(params)\n",
    "    xgb_test_preds = model.predict(X_test)\n",
    "    xgb_test_proba = model.predict_proba(X_test)[:,1]\n",
    "\n",
    "    acc = accuracy_score(y_test>.5, xgb_test_preds)\n",
    "    brier = brier_score_loss(y_test, xgb_test_proba)\n",
    "    print('row:', i, '\\tbrier', brier, '\\taccuracy', acc)\n",
    "\n",
    "    if acc < best_accuracy:\n",
    "        best_accuracy = acc\n",
    "        best_params = params\n",
    "        best_params['max_depth'] = int(best_params['max_depth'])\n",
    "\n",
    "print('\\nbest accuracy', best_accuracy)\n",
    "print(best_params)"
   ],
   "metadata": {
    "collapsed": false,
    "pycharm": {
     "name": "#%%\n"
    }
   }
  },
  {
   "cell_type": "code",
   "execution_count": 32,
   "outputs": [
    {
     "name": "stdout",
     "output_type": "stream",
     "text": [
      "Casino\t\tAccuracy:0.5840\t Brier Loss: 0.2398\n",
      "XGBoost\t\tAccuracy:0.6120\t Brier Loss: 0.2406\n"
     ]
    },
    {
     "data": {
      "text/plain": "<Figure size 864x576 with 2 Axes>",
      "image/png": "[encoded data removed]"
     },
     "metadata": {
      "needs_background": "light"
     },
     "output_type": "display_data"
    }
   ],
   "source": [
    "model = get_xgb_model(best_params)\n",
    "xgb_test_preds = model.predict(X_test)\n",
    "xgb_test_proba = model.predict_proba(X_test)[:,1]\n",
    "\n",
    "casino_proba = X_test['odds_proba']\n",
    "casino_preds = X_test['odds_proba']>.5\n",
    "\n",
    "data = [\n",
    "    (y_test, casino_preds, casino_proba, 'Casino'),\n",
    "    (y_test,xgb_test_preds, xgb_test_proba, 'XGBoost')\n",
    "]\n",
    "cal_curve(data, 15)"
   ],
   "metadata": {
    "collapsed": false,
    "pycharm": {
     "name": "#%%\n"
    }
   }
  },
  {
   "cell_type": "markdown",
   "source": [
    " That's great. We've got a model that 2.8% better than the casino's and just as well calibrated. The last thing I want to check is how closely our predictions are correlated to the casino's. The lower the correlation, the more bets we'll get to place."
   ],
   "metadata": {
    "collapsed": false,
    "pycharm": {
     "name": "#%% md\n"
    }
   }
  },
  {
   "cell_type": "code",
   "execution_count": 33,
   "outputs": [
    {
     "data": {
      "text/plain": "0.7657250445885608"
     },
     "execution_count": 33,
     "metadata": {},
     "output_type": "execute_result"
    }
   ],
   "source": [
    "from sklearn.metrics import r2_score\n",
    "r2_score(casino_proba, xgb_test_proba)"
   ],
   "metadata": {
    "collapsed": false,
    "pycharm": {
     "name": "#%%\n"
    }
   }
  },
  {
   "cell_type": "markdown",
   "source": [
    "That's great news. It looks like it's going to give us a lot of opportunities to bet. Let's save our model. We'll use it in Part 5."
   ],
   "metadata": {
    "collapsed": false
   }
  },
  {
   "cell_type": "code",
   "execution_count": 34,
   "outputs": [],
   "source": [
    "import pickle\n",
    "pickle.dump(model,open('xgb_model.pkl','wb'))"
   ],
   "metadata": {
    "collapsed": false,
    "pycharm": {
     "name": "#%%\n"
    }
   }
  },
  {
   "cell_type": "markdown",
   "source": [
    "## Next Up\n",
    "Part 5. Time move on to figuring out how to generate predictions and place bets. We'll use the [Kelly criterion](https://en.wikipedia.org/wiki/Kelly_criterion)."
   ],
   "metadata": {
    "collapsed": false,
    "pycharm": {
     "name": "#%% md\n"
    }
   }
  },
  {
   "cell_type": "code",
   "execution_count": null,
   "outputs": [],
   "source": [],
   "metadata": {
    "collapsed": false,
    "pycharm": {
     "name": "#%%\n"
    }
   }
  }
 ],
 "metadata": {
  "kernelspec": {
   "display_name": "Python 3",
   "language": "python",
   "name": "python3"
  },
  "language_info": {
   "codemirror_mode": {
    "name": "ipython",
    "version": 2
   },
   "file_extension": ".py",
   "mimetype": "text/x-python",
   "name": "python",
   "nbconvert_exporter": "python",
   "pygments_lexer": "ipython2",
   "version": "2.7.6"
  }
 },
 "nbformat": 4,
 "nbformat_minor": 0
}