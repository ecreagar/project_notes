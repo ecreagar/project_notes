{
 "cells": [
  {
   "cell_type": "markdown",
   "source": [
    "# MLB Baseball Predictions\n",
    "> Introducing the baseball betting project.\n",
    "\n",
    "- toc: false\n",
    "- badges: true\n",
    "- comments: true\n",
    "- categories: [baseball, EDA]\n",
    "- image: images/chart-preview.png"
   ],
   "metadata": {
    "collapsed": false
   }
  },
  {
   "cell_type": "markdown",
   "source": [
    "Baseball isn’t associated with good memories for me. I wasn’t very good at it, always hitting foul balls in little league. My parents eventually figured out I needed glasses, but not before I developed a mild disdain for the sport. So it’s with great surprise that I find myself spending so much time thinking about it. Even more so when I make a bet and start cheering for a team. It’s amazing what having some skin in the game will do for your interest level.\n",
    "\n",
    "This is the first in a blog series, written in jupyter notebooks, which will show you how to build a program that predicts the outcome of MLB games. We'll be using our web scraping and machine learning skills to build a model that outperforms the sports books.\n",
    "\n",
    "> Warning: Web scraping is dependant on other people's web pages. If they change their site, this blog's code will break. Don't expect the code presented here to work forever."
   ],
   "metadata": {
    "collapsed": false
   }
  },
  {
   "cell_type": "markdown",
   "source": [
    "# Benchmarking the Sportsbooks\n",
    "First thing to do is figure out how we’re going to know if we’re doing well. The most intuitive performance benchmark I found was the sportsbooks themselves. If I can make better predictions than the sportsbooks, then I should be doing well."
   ],
   "metadata": {
    "collapsed": false
   }
  },
  {
   "cell_type": "markdown",
   "source": [
    "## Downloading Sportsbook Data\n",
    "We need to start by putting together a database of historic odds and outcomes for MLB games. First step is to get a list of days when games were played. We can get those from [baseball-reference.com](http://baseball-refence.com)."
   ],
   "metadata": {
    "collapsed": false,
    "pycharm": {
     "name": "#%% md\n"
    }
   }
  },
  {
   "cell_type": "code",
   "execution_count": 23,
   "outputs": [
    {
     "name": "stdout",
     "output_type": "stream",
     "text": [
      "Number of days MLB was played in 2019: 210\n"
     ]
    }
   ],
   "source": [
    "import requests\n",
    "import re\n",
    "import datetime as dt\n",
    "url = 'https://www.baseball-reference.com/leagues/MLB/2019-schedule.shtml'\n",
    "resp = requests.get(url)\n",
    "# All the H3 tags contain day names\n",
    "days = re.findall(\"<h3>(.*2019)</h3>\", resp.text)\n",
    "dates = [dt.datetime.strptime(d,\"%A, %B %d, %Y\") for d in days]\n",
    "print(\"Number of days MLB was played in 2019:\", len(dates))"
   ],
   "metadata": {
    "collapsed": false,
    "pycharm": {
     "name": "#%%\n"
    }
   }
  },
  {
   "cell_type": "markdown",
   "source": [
    "We need the correct days because well be pulling the odds data from [covers.com](http://covers.com) by day. Here's how we pull and parse that data.\n"
   ],
   "metadata": {
    "collapsed": false
   }
  },
  {
   "cell_type": "code",
   "execution_count": null,
   "outputs": [
    {
     "name": "stdout",
     "output_type": "stream",
     "text": [
      "2020-09-19 21:52:43.546576 2019-05-02 500\n",
      "2020-09-19 21:53:11.488968 2019-06-08 1000\n"
     ]
    }
   ],
   "source": [
    "from bs4 import BeautifulSoup as bs\n",
    "game_data = []\n",
    "for d in dates:\n",
    "    # get the web page with game data on it\n",
    "    game_day = d.strftime('%Y-%m-%d')\n",
    "    url = f'https://www.covers.com/Sports/MLB/Matchups?selectedDate={game_day}'\n",
    "    resp = requests.get(url)\n",
    "\n",
    "    # parse the games\n",
    "    scraped_games = bs(resp.text).findAll('div',{'class':'cmg_matchup_game_box'})\n",
    "    for g in scraped_games:\n",
    "        game = {}\n",
    "        game['home_moneyline'] = g['data-game-odd']\n",
    "        game['away_team_abbr'] = g['data-away-team-shortname-search']\n",
    "        game['date'] = g['data-game-date']\n",
    "        game['home_team_abbr'] = g['data-home-team-shortname-search']\n",
    "        try:\n",
    "            game['home_score'] =g.find('div',{'class':'cmg_matchup_list_score_home'}).text.strip()\n",
    "            game['away_score'] =g.find('div',{'class':'cmg_matchup_list_score_away'}).text.strip()\n",
    "        except:\n",
    "            game['home_score'] =''\n",
    "            game['away_score'] =''\n",
    "\n",
    "        game_data.append(game)\n",
    "        if len(game_data) % 500==0:\n",
    "            #show progress\n",
    "            print(dt.datetime.now(), game_day, len(game_data))\n",
    "print(f\"Done! Got data for {len(game_data)} games :)\")"
   ],
   "metadata": {
    "collapsed": false,
    "pycharm": {
     "name": "#%%\n",
     "is_executing": true
    }
   }
  },
  {
   "cell_type": "markdown",
   "source": [
    "## Sportsbook Accuracy\n",
    "Let's see how the sportsbook did in all these games we just downloaded."
   ],
   "metadata": {
    "collapsed": false
   }
  },
  {
   "cell_type": "code",
   "execution_count": null,
   "outputs": [],
   "source": [
    "from sklearn.metrics import accuracy_score\n",
    "outcomes = []\n",
    "predictions = []\n",
    "probabilities = []\n",
    "\n",
    "for d in game_data:\n",
    "    try:\n",
    "        moneyline = int(d['home_moneyline'])\n",
    "        home_score = int(d['home_score'])\n",
    "        away_score = int(d['away_score'])\n",
    "    except:\n",
    "        #incomplete data\n",
    "        continue\n",
    "    if moneyline==100:\n",
    "        # it's rare to have a tossup since covers is averaging the odds from several sports books\n",
    "        # but we'll exclude them from our calculations\n",
    "        continue\n",
    "    # convert moneyline odds ot their implied pprobabilities\n",
    "    # https://www.bettingexpert.com/academy/advanced-betting-theory/odds-conversion-to-percentage\n",
    "    elif moneyline<0:\n",
    "        probabilities.append(-moneyline/(-moneyline + 100))\n",
    "    elif moneyline>0:\n",
    "        probabilities.append(100/(moneyline + 100))\n",
    "\n",
    "    outcomes.append(home_score>away_score)\n",
    "    predictions.append(moneyline<0)\n",
    "\n",
    "print(f\"In our data, the sportsbook is correct {100*accuracy_score(outcomes,predictions):.2f}% of the time (excluding tossups)\")"
   ],
   "metadata": {
    "collapsed": false,
    "pycharm": {
     "name": "#%%\n",
     "is_executing": true
    }
   }
  },
  {
   "cell_type": "markdown",
   "source": [
    "That's it, right? We need a model that is better than 60% accurate.\n",
    "\n",
    "It's not so simple if you plan to use this data for betting. If we really want to make money, we would like to know if we think the odds of a team winning are better or worse that what the sportsbook thinks they are. Then we'd be able to use some sort of [expected value calculation](https://en.wikipedia.org/wiki/Expected_value) to determine if the bet is profitable."
   ],
   "metadata": {
    "collapsed": false
   }
  },
  {
   "cell_type": "markdown",
   "source": [
    "# Sportsbook Calibration\n",
    "We really want to know if we can build a model that is better [calibrated](https://en.wikipedia.org/wiki/Calibration_(statistics)) than the casino's sportsbooks. High calibration will help us with bet sizing, as well as more sophisticated betting algorithms."
   ],
   "metadata": {
    "collapsed": false
   }
  },
  {
   "cell_type": "code",
   "execution_count": null,
   "outputs": [],
   "source": [
    "from sklearn.calibration import calibration_curve\n",
    "from sklearn.metrics import accuracy_score, brier_score_loss\n",
    "import matplotlib.pyplot as plt\n",
    "\n",
    "def cal_curve(data, bins):\n",
    "    # adapted from:\n",
    "    #https://scikit-learn.org/stable/auto_examples/calibration/plot_calibration_curve.html\n",
    "    fig = plt.figure(1, figsize=(12, 5))\n",
    "    ax1 = plt.subplot2grid((3, 1), (0, 0), rowspan=2)\n",
    "    ax2 = plt.subplot2grid((3, 1), (2, 0))\n",
    "\n",
    "    ax1.plot([0, 1], [0, 1], \"k:\", label=\"Perfectly calibrated\")\n",
    "\n",
    "    for y_test, y_pred, y_proba, name in data:\n",
    "        fraction_of_positives, mean_predicted_value = \\\n",
    "            calibration_curve(y_test, y_proba, n_bins=bins)\n",
    "\n",
    "        brier = brier_score_loss(y_test, y_pred)\n",
    "        print(f\"{name}:\\tAccuracy: {accuracy_score(y_test, y_pred):.4f}\\t\\tBrier Loss: {brier:.4f}\")\n",
    "\n",
    "        ax1.plot(mean_predicted_value, fraction_of_positives,\n",
    "                 label=\"%s (%1.4f)\" % (name, brier))\n",
    "\n",
    "        ax2.hist(y_proba, range=(0, 1), bins=bins, label=name,\n",
    "                 histtype=\"step\", lw=2)\n",
    "\n",
    "    ax1.set_ylabel(\"Fraction of positives\")\n",
    "    ax1.set_ylim([-0.05, 1.05])\n",
    "    ax1.legend(loc=\"lower right\")\n",
    "    ax1.set_title('Calibration plots  (reliability curve)')\n",
    "\n",
    "    ax2.set_xlabel(\"Mean predicted value\")\n",
    "    ax2.set_ylabel(\"Count\")\n",
    "    ax2.legend(loc=\"lower right\")\n",
    "\n",
    "    plt.tight_layout()\n",
    "\n",
    "data = [\n",
    "    (outcomes, predictions, probabilities, 'SportsBook')\n",
    "]\n",
    "cal_curve(data, 15)"
   ],
   "metadata": {
    "collapsed": false,
    "pycharm": {
     "name": "#%%\n",
     "is_executing": true
    }
   }
  },
  {
   "cell_type": "markdown",
   "source": [
    "The graph above tells us several things about the calibration of the casino's predictions. The reliability curve clearly shows that if the casino says the home team has a 40% chance of winning, over the course of the season very near 40% of those teams will win. The histogram below shows what portion of the games fall into each bucket.\n",
    "\n",
    "A metric well suited for calibration measurement is the [Brier Score](https://en.wikipedia.org/wiki/Brier_score), which I'll be using to measure the model effectiveness going forward."
   ],
   "metadata": {
    "collapsed": false,
    "pycharm": {
     "name": "#%% md\n"
    }
   }
  },
  {
   "cell_type": "markdown",
   "source": [
    "# Next Up\n",
    "Next, we'll start building out our historic data and training the model using XGBoost and LightGBM.\n"
   ],
   "metadata": {
    "collapsed": false,
    "pycharm": {
     "name": "#%% md\n"
    }
   }
  }
 ],
 "metadata": {
  "kernelspec": {
   "display_name": "Python 3",
   "language": "python",
   "name": "python3"
  },
  "language_info": {
   "codemirror_mode": {
    "name": "ipython",
    "version": 2
   },
   "file_extension": ".py",
   "mimetype": "text/x-python",
   "name": "python",
   "nbconvert_exporter": "python",
   "pygments_lexer": "ipython2",
   "version": "2.7.6"
  }
 },
 "nbformat": 4,
 "nbformat_minor": 0
}