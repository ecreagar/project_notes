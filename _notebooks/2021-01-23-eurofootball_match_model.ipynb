{
 "cells": [
  {
   "cell_type": "markdown",
   "metadata": {},
   "source": [
    "# European Football Match Modeling\n",
    "> Creating a model that outperforms the oddsmakers\n",
    "\n",
    "- toc: false\n",
    "- badges: true\n",
    "- comments: true\n",
    "- categories: [soccer, machine learning, xgboost]"
   ]
  },
  {
   "cell_type": "markdown",
   "metadata": {},
   "source": [
    "Last year, I published my work on [predicting Major League Baseball](https://rdpharr.github.io/project_notes/baseball/benchmark/webscraping/brier/accuracy/calibration/machine%20learning/2020/09/20/baseball_project.html) outcomes. This model uses the same formula, but improves it in several ways. First of all it's about half the size and code, which has to be a relief. More importantly it gives us better results. The recipe is the same:\n",
    " - Download all the match data ([previous notebook](https://rdpharr.github.io/project_notes/soccer/benchmark/brier/accuracy/calibration/machine%20learning/2020/12/26/eurofootball_odds_analysis.html))\n",
    " - Download all of the odds data from a casino aggregator ([previous notebook](https://rdpharr.github.io/project_notes/soccer/machine%20learning/webscraping/2021/01/03/eurofootball_match_scraper.html))\n",
    " - Transform the data in 3 ways:\n",
    "     - Calculate which team usually has better stats\n",
    "     - Assign a skill ranking to each team, like they do for chess or online video game players\n",
    "     - Add the odds data from the aggregator\n",
    " - Feed the resulting dataset into xgboost, with some tuning of hyperparameters\n",
    "\n",
    "Et voila, when we are done we have a model that can be used for prediction. That is what this notebook will cover, with some analysis of model performance at the end. I won't cover my prediction process, as it's pretty much the same as I [described last year](https://rdpharr.github.io/project_notes/baseball/webscraping/kelly%20criterion/xgboost/machine%20learning/2020/09/26/predictions-and-betting-strategy.html) in the baseball model.\n",
    "\n",
    "> Important: This blog post is executable. Use the buttons at the top to run the code on Binder of Colab and get fresh results for yourself. You can also download it from Github to run the notebook locally.\n",
    "\n",
    "> Important: This notebook depends on files from the previous notebooks linked above. You'll need to run those and save the resulting files to use this notebook."
   ]
  },
  {
   "cell_type": "code",
   "execution_count": 1,
   "metadata": {},
   "outputs": [],
   "source": [
    "#collapse-hide\n",
    "\n",
    "import datetime as dt\n",
    "import numpy as np\n",
    "import matplotlib.pyplot as plt\n",
    "import pandas as pd\n",
    "import pickle\n",
    "import shap\n",
    "import xgboost as xgb\n",
    "\n",
    "from elote import GlickoCompetitor\n",
    "from fuzzywuzzy import process\n",
    "from sklearn.metrics import classification_report, brier_score_loss, f1_score\n",
    "from sklearn.calibration import calibration_curve\n",
    "\n",
    "import warnings\n",
    "warnings.filterwarnings('ignore')"
   ]
  },
  {
   "cell_type": "markdown",
   "metadata": {},
   "source": [
    "## Get and clean the historical game data"
   ]
  },
  {
   "cell_type": "markdown",
   "metadata": {},
   "source": [
    "The first thing is to get eh historic game data that was preduced in a [previous notebook](https://rdpharr.github.io/project_notes/soccer/benchmark/brier/accuracy/calibration/machine%20learning/2020/12/26/eurofootball_odds_analysis.html). You can see it's mostly numeric w/ 6 objects and takes up 12M of memory on my machine."
   ]
  },
  {
   "cell_type": "code",
   "execution_count": 2,
   "metadata": {},
   "outputs": [
    {
     "name": "stdout",
     "output_type": "stream",
     "text": [
      "<class 'pandas.core.frame.DataFrame'>\n",
      "RangeIndex: 6165 entries, 0 to 6164\n",
      "Columns: 257 entries, game_id to home_carries_into_penalty_area\n",
      "dtypes: float64(52), int64(199), object(6)\n",
      "memory usage: 12.1+ MB\n"
     ]
    }
   ],
   "source": [
    "df = pd.read_csv('matches.csv.gzip', compression='gzip')\n",
    "df.info()"
   ]
  },
  {
   "cell_type": "markdown",
   "metadata": {},
   "source": [
    "Really we should only have 3 strings in the data: home team, away team and game_id. What are the rest?"
   ]
  },
  {
   "cell_type": "code",
   "execution_count": 3,
   "metadata": {},
   "outputs": [
    {
     "data": {
      "text/plain": [
       "Index(['game_id', 'date', 'game_time', 'away_team', 'home_team', 'home_score'], dtype='object')"
      ]
     },
     "execution_count": 3,
     "metadata": {},
     "output_type": "execute_result"
    }
   ],
   "source": [
    "df.select_dtypes(include=['object']).columns"
   ]
  },
  {
   "cell_type": "markdown",
   "metadata": {},
   "source": [
    "The below code puts date & time into one column, and fixes home_score, which for some unknown reason was imported as a string."
   ]
  },
  {
   "cell_type": "code",
   "execution_count": 4,
   "metadata": {},
   "outputs": [
    {
     "data": {
      "text/plain": [
       "int64             199\n",
       "float64            53\n",
       "object              3\n",
       "datetime64[ns]      1\n",
       "dtype: int64"
      ]
     },
     "execution_count": 4,
     "metadata": {},
     "output_type": "execute_result"
    }
   ],
   "source": [
    "# fix dtypes\n",
    "df['home_score'] = pd.to_numeric(df['home_score'], errors='coerce')\n",
    "df.dropna(subset=['home_score','away_score'], inplace=True)\n",
    "\n",
    "df['datetime'] = pd.to_datetime(df['date'] + ' ' + df['game_time'])\n",
    "df.drop(columns=['date','game_time'], inplace=True)\n",
    "df.dtypes.value_counts()"
   ]
  },
  {
   "cell_type": "markdown",
   "metadata": {},
   "source": [
    "The other thing that happened when I downloaded this dataset was that some of the team names had the character '�' in them. The code below fixes those using the excellent [fuzzywuzzy](https://github.com/seatgeek/fuzzywuzzy) string matching package. "
   ]
  },
  {
   "cell_type": "code",
   "execution_count": 5,
   "metadata": {},
   "outputs": [],
   "source": [
    "# repair names\n",
    "def name_repair(x):\n",
    "    if '�' in x:\n",
    "        return process.extract(x,df.home_team.unique(), limit=2)[1][0]\n",
    "    else:\n",
    "        return x\n",
    "df['home_team'] = df['home_team'].apply(lambda x: name_repair(x))\n",
    "df['away_team'] = df['away_team'].apply(lambda x: name_repair(x))"
   ]
  },
  {
   "cell_type": "markdown",
   "metadata": {},
   "source": [
    "Lastly, let's downcast the dataset to save memory. Going from 64bit values to 32bit saves us half the memory and generally makes the work go faster."
   ]
  },
  {
   "cell_type": "code",
   "execution_count": 6,
   "metadata": {},
   "outputs": [
    {
     "name": "stdout",
     "output_type": "stream",
     "text": [
      "<class 'pandas.core.frame.DataFrame'>\n",
      "Int64Index: 6164 entries, 0 to 6164\n",
      "Columns: 256 entries, game_id to datetime\n",
      "dtypes: datetime64[ns](1), float32(252), object(3)\n",
      "memory usage: 6.2+ MB\n"
     ]
    }
   ],
   "source": [
    "def downcast(df):\n",
    "    for x in df.select_dtypes(include=['float','int']).columns:\n",
    "        df[x]=pd.to_numeric(df[x], downcast='float')\n",
    "    return df\n",
    "df = downcast(df)\n",
    "df.info()"
   ]
  },
  {
   "cell_type": "markdown",
   "metadata": {},
   "source": [
    "I want to add one more stat before we get started. These columns show which team won the on points or on expected goals."
   ]
  },
  {
   "cell_type": "code",
   "execution_count": 7,
   "metadata": {},
   "outputs": [],
   "source": [
    "# add outcomes for calculating team histories\n",
    "df['home_win'] = (df['home_score']>df['away_score']).astype('float')\n",
    "df['home_draw']= (df['home_score']==df['away_score']).astype('float')\n",
    "df['away_win'] = (df['home_score']<df['away_score']).astype('float')\n",
    "df['away_draw']= (df['home_score']==df['away_score']).astype('float')\n",
    "df['home_win_xg'] = (df['home_score_xg']>df['away_score_xg']).astype('float')\n",
    "df['away_win_xg'] = (df['home_score_xg']<df['away_score_xg']).astype('float')"
   ]
  },
  {
   "cell_type": "markdown",
   "metadata": {},
   "source": [
    "## Which team <span style=\"color:blue\">**usually**</span> has <span style=\"color:green\">**better stats**</span>?\n",
    "\n",
    "This is really the core idea of this model. We can take the large number of stats kept about each game and feed them into the model by asking with a simple transformation: calculating which team usually has better stats.\n",
    "\n",
    "- <span style=\"color:green\">**Better Stats**</span>: We'll compare stats of two teams by subtacting each team's <span style=\"color:blue\">usual</span> stat.\n",
    "- <span style=\"color:blue\">**Usual**</span>: This word has to mean some average of the historical stat for the team. After trying a bunch of ways, I've landed on [Exponetially Weighted Average](https://en.wikipedia.org/wiki/Moving_average#Exponential_moving_average) as my preference.\n",
    "\n",
    "Implementing this calculating is a multistep process. The first step is to stack the team statistics. Currently each match is one row with the home stats and away stat columns prefixied by \"home_\" or \"away_\" respectively. We need to stack them so that home and way teams are on separate rows."
   ]
  },
  {
   "cell_type": "code",
   "execution_count": 8,
   "metadata": {},
   "outputs": [
    {
     "data": {
      "text/plain": [
       "(130, 130, 262)"
      ]
     },
     "execution_count": 8,
     "metadata": {},
     "output_type": "execute_result"
    }
   ],
   "source": [
    "# stack team data\n",
    "base_columns = ['game_id','datetime']\n",
    "home_columns = [x for x in df.columns if 'home_' in x]\n",
    "away_columns = [x for x in df.columns if 'away_' in x]\n",
    "len(away_columns), len(home_columns), len(df.columns)"
   ]
  },
  {
   "cell_type": "markdown",
   "metadata": {},
   "source": [
    "We can see there are 129 statistics for each team in each game (130 with the team name)."
   ]
  },
  {
   "cell_type": "code",
   "execution_count": 9,
   "metadata": {},
   "outputs": [
    {
     "data": {
      "text/plain": [
       "(12328, 133)"
      ]
     },
     "execution_count": 9,
     "metadata": {},
     "output_type": "execute_result"
    }
   ],
   "source": [
    "home_df = df[base_columns + home_columns].copy().reset_index(drop=True)\n",
    "home_df.columns = base_columns + [x[5:] for x in home_columns] # get rid of \"home_\" prefix\n",
    "home_df[\"is_home_team\"]=True\n",
    "\n",
    "away_df = df[base_columns + away_columns].copy().reset_index(drop=True)\n",
    "away_df.columns = base_columns + [x[5:] for x in away_columns] # get rid of \"away_\" prefix\n",
    "away_df[\"is_home_team\"]=False\n",
    "\n",
    "#stack the two dfs together to make one big one\n",
    "stat_df = pd.concat([away_df,home_df]).sort_values(by='datetime').reset_index(drop=True)\n",
    "stat_df.shape"
   ]
  },
  {
   "cell_type": "markdown",
   "metadata": {},
   "source": [
    "Now we have the long form dataframe with \"game_id\", \"team\", \"is_home_team\", \"datetime\" and the 129 statistics. Now we can calculate the Exponetially Weighted Average using [pandas.DataFrame.ewm](https://pandas.pydata.org/pandas-docs/stable/reference/api/pandas.DataFrame.ewm.html)"
   ]
  },
  {
   "cell_type": "code",
   "execution_count": 10,
   "metadata": {},
   "outputs": [
    {
     "data": {
      "text/html": [
       "<div>\n",
       "<style scoped>\n",
       "    .dataframe tbody tr th:only-of-type {\n",
       "        vertical-align: middle;\n",
       "    }\n",
       "\n",
       "    .dataframe tbody tr th {\n",
       "        vertical-align: top;\n",
       "    }\n",
       "\n",
       "    .dataframe thead th {\n",
       "        text-align: right;\n",
       "    }\n",
       "</style>\n",
       "<table border=\"1\" class=\"dataframe\">\n",
       "  <thead>\n",
       "    <tr style=\"text-align: right;\">\n",
       "      <th></th>\n",
       "      <th>game_id</th>\n",
       "      <th>datetime</th>\n",
       "      <th>team</th>\n",
       "      <th>score</th>\n",
       "      <th>score_xg</th>\n",
       "      <th>minutes</th>\n",
       "      <th>passes_completed</th>\n",
       "      <th>passes</th>\n",
       "      <th>passes_pct</th>\n",
       "      <th>passes_total_distance</th>\n",
       "      <th>...</th>\n",
       "      <th>crosses_stopped_gk_ewm</th>\n",
       "      <th>crosses_stopped_pct_gk_ewm</th>\n",
       "      <th>def_actions_outside_pen_area_gk_ewm</th>\n",
       "      <th>avg_distance_def_actions_gk_ewm</th>\n",
       "      <th>progressive_carries_ewm</th>\n",
       "      <th>carries_into_final_third_ewm</th>\n",
       "      <th>carries_into_penalty_area_ewm</th>\n",
       "      <th>win_ewm</th>\n",
       "      <th>draw_ewm</th>\n",
       "      <th>win_xg_ewm</th>\n",
       "    </tr>\n",
       "  </thead>\n",
       "  <tbody>\n",
       "    <tr>\n",
       "      <th>12323</th>\n",
       "      <td>Villarreal-Granada-January-20-2021-La-Liga</td>\n",
       "      <td>2021-01-20 21:30:00</td>\n",
       "      <td>Granada</td>\n",
       "      <td>2.0</td>\n",
       "      <td>0.2</td>\n",
       "      <td>989.0</td>\n",
       "      <td>227.0</td>\n",
       "      <td>316.0</td>\n",
       "      <td>71.800003</td>\n",
       "      <td>4599.0</td>\n",
       "      <td>...</td>\n",
       "      <td>1.164333</td>\n",
       "      <td>12.142904</td>\n",
       "      <td>0.981302</td>\n",
       "      <td>14.601805</td>\n",
       "      <td>17.549999</td>\n",
       "      <td>4.100000</td>\n",
       "      <td>2.900000</td>\n",
       "      <td>0.421667</td>\n",
       "      <td>0.250260</td>\n",
       "      <td>0.301829</td>\n",
       "    </tr>\n",
       "    <tr>\n",
       "      <th>12324</th>\n",
       "      <td>Valencia-Osasuna-January-21-2021-La-Liga</td>\n",
       "      <td>2021-01-21 19:00:00</td>\n",
       "      <td>Osasuna</td>\n",
       "      <td>1.0</td>\n",
       "      <td>1.2</td>\n",
       "      <td>990.0</td>\n",
       "      <td>268.0</td>\n",
       "      <td>359.0</td>\n",
       "      <td>74.699997</td>\n",
       "      <td>5904.0</td>\n",
       "      <td>...</td>\n",
       "      <td>1.003265</td>\n",
       "      <td>8.387432</td>\n",
       "      <td>1.134634</td>\n",
       "      <td>15.613114</td>\n",
       "      <td>33.400002</td>\n",
       "      <td>8.600000</td>\n",
       "      <td>2.100000</td>\n",
       "      <td>0.078420</td>\n",
       "      <td>0.600918</td>\n",
       "      <td>0.452652</td>\n",
       "    </tr>\n",
       "    <tr>\n",
       "      <th>12325</th>\n",
       "      <td>Valencia-Osasuna-January-21-2021-La-Liga</td>\n",
       "      <td>2021-01-21 19:00:00</td>\n",
       "      <td>Valencia</td>\n",
       "      <td>1.0</td>\n",
       "      <td>0.7</td>\n",
       "      <td>990.0</td>\n",
       "      <td>524.0</td>\n",
       "      <td>636.0</td>\n",
       "      <td>82.400002</td>\n",
       "      <td>11003.0</td>\n",
       "      <td>...</td>\n",
       "      <td>1.166096</td>\n",
       "      <td>7.491065</td>\n",
       "      <td>0.601986</td>\n",
       "      <td>13.587904</td>\n",
       "      <td>59.000000</td>\n",
       "      <td>17.000000</td>\n",
       "      <td>2.000000</td>\n",
       "      <td>0.214238</td>\n",
       "      <td>0.498456</td>\n",
       "      <td>0.339046</td>\n",
       "    </tr>\n",
       "    <tr>\n",
       "      <th>12326</th>\n",
       "      <td>Liverpool-Burnley-January-21-2021-Premier-League</td>\n",
       "      <td>2021-01-21 20:00:00</td>\n",
       "      <td>Burnley</td>\n",
       "      <td>1.0</td>\n",
       "      <td>1.4</td>\n",
       "      <td>990.0</td>\n",
       "      <td>182.0</td>\n",
       "      <td>280.0</td>\n",
       "      <td>65.000000</td>\n",
       "      <td>4307.0</td>\n",
       "      <td>...</td>\n",
       "      <td>1.814314</td>\n",
       "      <td>14.459406</td>\n",
       "      <td>1.320769</td>\n",
       "      <td>15.413902</td>\n",
       "      <td>25.355482</td>\n",
       "      <td>8.837210</td>\n",
       "      <td>1.803987</td>\n",
       "      <td>0.427791</td>\n",
       "      <td>0.131629</td>\n",
       "      <td>0.224939</td>\n",
       "    </tr>\n",
       "    <tr>\n",
       "      <th>12327</th>\n",
       "      <td>Liverpool-Burnley-January-21-2021-Premier-League</td>\n",
       "      <td>2021-01-21 20:00:00</td>\n",
       "      <td>Liverpool</td>\n",
       "      <td>0.0</td>\n",
       "      <td>2.4</td>\n",
       "      <td>990.0</td>\n",
       "      <td>604.0</td>\n",
       "      <td>736.0</td>\n",
       "      <td>82.099998</td>\n",
       "      <td>11655.0</td>\n",
       "      <td>...</td>\n",
       "      <td>1.448721</td>\n",
       "      <td>15.356124</td>\n",
       "      <td>1.227189</td>\n",
       "      <td>14.979864</td>\n",
       "      <td>83.050003</td>\n",
       "      <td>26.700001</td>\n",
       "      <td>7.450000</td>\n",
       "      <td>0.244784</td>\n",
       "      <td>0.438290</td>\n",
       "      <td>0.878756</td>\n",
       "    </tr>\n",
       "  </tbody>\n",
       "</table>\n",
       "<p>5 rows × 262 columns</p>\n",
       "</div>"
      ],
      "text/plain": [
       "                                                game_id            datetime  \\\n",
       "12323        Villarreal-Granada-January-20-2021-La-Liga 2021-01-20 21:30:00   \n",
       "12324          Valencia-Osasuna-January-21-2021-La-Liga 2021-01-21 19:00:00   \n",
       "12325          Valencia-Osasuna-January-21-2021-La-Liga 2021-01-21 19:00:00   \n",
       "12326  Liverpool-Burnley-January-21-2021-Premier-League 2021-01-21 20:00:00   \n",
       "12327  Liverpool-Burnley-January-21-2021-Premier-League 2021-01-21 20:00:00   \n",
       "\n",
       "            team  score  score_xg  minutes  passes_completed  passes  \\\n",
       "12323    Granada    2.0       0.2    989.0             227.0   316.0   \n",
       "12324    Osasuna    1.0       1.2    990.0             268.0   359.0   \n",
       "12325   Valencia    1.0       0.7    990.0             524.0   636.0   \n",
       "12326    Burnley    1.0       1.4    990.0             182.0   280.0   \n",
       "12327  Liverpool    0.0       2.4    990.0             604.0   736.0   \n",
       "\n",
       "       passes_pct  passes_total_distance  ...  crosses_stopped_gk_ewm  \\\n",
       "12323   71.800003                 4599.0  ...                1.164333   \n",
       "12324   74.699997                 5904.0  ...                1.003265   \n",
       "12325   82.400002                11003.0  ...                1.166096   \n",
       "12326   65.000000                 4307.0  ...                1.814314   \n",
       "12327   82.099998                11655.0  ...                1.448721   \n",
       "\n",
       "       crosses_stopped_pct_gk_ewm  def_actions_outside_pen_area_gk_ewm  \\\n",
       "12323                   12.142904                             0.981302   \n",
       "12324                    8.387432                             1.134634   \n",
       "12325                    7.491065                             0.601986   \n",
       "12326                   14.459406                             1.320769   \n",
       "12327                   15.356124                             1.227189   \n",
       "\n",
       "       avg_distance_def_actions_gk_ewm  progressive_carries_ewm  \\\n",
       "12323                        14.601805                17.549999   \n",
       "12324                        15.613114                33.400002   \n",
       "12325                        13.587904                59.000000   \n",
       "12326                        15.413902                25.355482   \n",
       "12327                        14.979864                83.050003   \n",
       "\n",
       "       carries_into_final_third_ewm  carries_into_penalty_area_ewm   win_ewm  \\\n",
       "12323                      4.100000                       2.900000  0.421667   \n",
       "12324                      8.600000                       2.100000  0.078420   \n",
       "12325                     17.000000                       2.000000  0.214238   \n",
       "12326                      8.837210                       1.803987  0.427791   \n",
       "12327                     26.700001                       7.450000  0.244784   \n",
       "\n",
       "       draw_ewm  win_xg_ewm  \n",
       "12323  0.250260    0.301829  \n",
       "12324  0.600918    0.452652  \n",
       "12325  0.498456    0.339046  \n",
       "12326  0.131629    0.224939  \n",
       "12327  0.438290    0.878756  \n",
       "\n",
       "[5 rows x 262 columns]"
      ]
     },
     "execution_count": 10,
     "metadata": {},
     "output_type": "execute_result"
    }
   ],
   "source": [
    "stat_df = stat_df.sort_values(by='datetime').reset_index(drop=True)\n",
    "stat_cols = [x for x in stat_df.columns if 'float' in str(stat_df[x].dtype)]\n",
    "\n",
    "# exponentially weighted moving (ewm) average of each stat\n",
    "for s in stat_cols:\n",
    "    stat_df[s+'_ewm'] = stat_df.groupby('team')[s].transform(lambda x:x.ewm(span=10).mean())\n",
    "\n",
    "stat_df.tail()"
   ]
  },
  {
   "cell_type": "markdown",
   "metadata": {},
   "source": [
    "Since we know that our statistics are post-match, we want to shift them so that each row is pre-match. This ensures that the model learn to predict the outcome based on pre-match data."
   ]
  },
  {
   "cell_type": "code",
   "execution_count": 11,
   "metadata": {},
   "outputs": [],
   "source": [
    "# shift results so that each row is  a pregame stat\n",
    "stat_cols = [x for x in stat_df.columns if 'float' in str(stat_df[x].dtype)]\n",
    "stat_df = stat_df.sort_values(by='datetime').reset_index(drop=True)\n",
    "for s in stat_cols:\n",
    "    stat_df[s] = stat_df.groupby('team')[s].shift(1)"
   ]
  },
  {
   "cell_type": "markdown",
   "metadata": {},
   "source": [
    "Finally, we can calculate the difference between the matched team splitting our stat_df into home and away dataframes and then using pandas.DataFrame.subtract to get the difference."
   ]
  },
  {
   "cell_type": "code",
   "execution_count": 12,
   "metadata": {},
   "outputs": [
    {
     "data": {
      "text/plain": [
       "(6164, 259)"
      ]
     },
     "execution_count": 12,
     "metadata": {},
     "output_type": "execute_result"
    }
   ],
   "source": [
    "# calculate differences in pregame stats from home vs. away teams\n",
    "away_df = stat_df[~stat_df['is_home_team']].copy()\n",
    "away_df = away_df.set_index('game_id')\n",
    "away_df = away_df[stat_cols]\n",
    "\n",
    "home_df = stat_df[stat_df['is_home_team']].copy()\n",
    "home_df = home_df.set_index('game_id')\n",
    "home_df = home_df[stat_cols]\n",
    "\n",
    "diff_df = home_df.subtract(away_df, fill_value=0)\n",
    "diff_df = diff_df.reset_index()\n",
    "diff_df.shape"
   ]
  },
  {
   "cell_type": "markdown",
   "metadata": {},
   "source": [
    "After all of this we're left with the **diff_df** dataframe, which contains \"game_id\", 129 columns for difference of the **_ususal_** stats (indicated by the suffix \"ewm\") and 129 coumns for the difference in performance in the previous game (without suffix). \n",
    "\n",
    "That was the hard part. The rest is relatively straightforward.\n",
    "\n",
    "## Create our training_df and add our features into it\n",
    "\n",
    "Our training dataframe is going to be called \"game_df\". It will be based on our originally imported \"df\". We'll start is out with a few identifying features and add the \"target\" column, which will be what we train our model to predict."
   ]
  },
  {
   "cell_type": "code",
   "execution_count": 13,
   "metadata": {},
   "outputs": [
    {
     "data": {
      "text/plain": [
       "(6164, 5)"
      ]
     },
     "execution_count": 13,
     "metadata": {},
     "output_type": "execute_result"
    }
   ],
   "source": [
    "game_df = df[['game_id','datetime','home_team','away_team']].copy()\n",
    "game_df['target'] = 'H'\n",
    "game_df['target'][df['home_score']==df['away_score']]='D'\n",
    "game_df['target'][df['home_score']<df['away_score']]='A'\n",
    "game_df.shape"
   ]
  },
  {
   "cell_type": "markdown",
   "metadata": {},
   "source": [
    "The first feature we'll apply is the difference in skill rankings. For this, we'll use the excellent [elote](https://github.com/helton-tech/elote). This is the ranking system originally invented to rank competitive chess players in the 1940's, but has been iterated and expanded since. Most of the variations of the algorithm will work for our purposes, below I've implemented the [Glicko ranking algorithm](https://en.wikipedia.org/wiki/Glicko_rating_system) as it tends to see a lot of modern usage.\n",
    "\n",
    "It's probably worth testing some of the others (Elo, Trueskill) to see if they offer any improvement. I haven't done that yet."
   ]
  },
  {
   "cell_type": "code",
   "execution_count": 14,
   "metadata": {},
   "outputs": [
    {
     "data": {
      "text/plain": [
       "(6164, 6)"
      ]
     },
     "execution_count": 14,
     "metadata": {},
     "output_type": "execute_result"
    }
   ],
   "source": [
    "# skill rankings\n",
    "ratings = {}\n",
    "for x in df.home_team.unique():\n",
    "    ratings[x]=GlickoCompetitor()\n",
    "\n",
    "home_team_glick = []\n",
    "away_team_glick = []\n",
    "\n",
    "game_df = game_df.sort_values(by='datetime').reset_index(drop=True)\n",
    "for i, r in game_df.iterrows():\n",
    "    # pregame ratings will be used for our stats\n",
    "    home_team_glick.append(ratings[r.home_team].rating)\n",
    "    away_team_glick.append(ratings[r.away_team].rating)\n",
    "    # update ratings\n",
    "    if r['target'] == 'H':\n",
    "        ratings[r.home_team].beat(ratings[r.away_team])\n",
    "        ratings[r.away_team].lost_to(ratings[r.home_team])\n",
    "    elif r['target'] == 'D':\n",
    "        ratings[r.home_team].tied(ratings[r.away_team])\n",
    "        ratings[r.away_team].tied(ratings[r.home_team])\n",
    "    else:\n",
    "        ratings[r.home_team].lost_to(ratings[r.away_team])\n",
    "        ratings[r.away_team].beat(ratings[r.home_team])\n",
    "\n",
    "\n",
    "game_df['glicko_diff'] = pd.Series(home_team_glick)-pd.Series(away_team_glick)\n",
    "game_df.shape"
   ]
  },
  {
   "cell_type": "markdown",
   "metadata": {},
   "source": [
    "Next the big pile of historical match stats gets merged in."
   ]
  },
  {
   "cell_type": "code",
   "execution_count": 15,
   "metadata": {},
   "outputs": [
    {
     "data": {
      "text/plain": [
       "(6164, 264)"
      ]
     },
     "execution_count": 15,
     "metadata": {},
     "output_type": "execute_result"
    }
   ],
   "source": [
    "# merge in diff_df\n",
    "game_df = pd.merge(left=game_df, right=diff_df, on='game_id', how='left')\n",
    "game_df.shape"
   ]
  },
  {
   "cell_type": "markdown",
   "metadata": {},
   "source": [
    "### Odds Data"
   ]
  },
  {
   "cell_type": "markdown",
   "metadata": {},
   "source": [
    "Switch to william hill odds"
   ]
  },
  {
   "cell_type": "code",
   "execution_count": 16,
   "metadata": {},
   "outputs": [
    {
     "data": {
      "text/plain": [
       "(6277, 6)"
      ]
     },
     "execution_count": 16,
     "metadata": {},
     "output_type": "execute_result"
    }
   ],
   "source": [
    "odds_df = pd.read_csv(\"football_odds.csv.gzip\", compression='gzip')\n",
    "\n",
    "# add one hour for times to match times in game_df\n",
    "odds_df['Date'] = pd.to_datetime(odds_df['Date'], dayfirst=True).dt.date\n",
    "odds_df.drop(columns=['Time'], inplace=True)\n",
    "\n",
    "# filter to just the data we'll need: odds from William Hill \n",
    "odds_df = odds_df[['HomeTeam','AwayTeam','Date','WHH','WHD','WHA']]\n",
    "odds_df.columns = ['HomeTeam','AwayTeam','Date','OddsH','OddsD','OddsA']\n",
    "\n",
    "# convert to percentages\n",
    "for x in ['OddsH','OddsD','OddsA']:\n",
    "    odds_df[x]=1/odds_df[x]\n",
    "\n",
    "odds_df.shape"
   ]
  },
  {
   "cell_type": "code",
   "execution_count": 17,
   "metadata": {},
   "outputs": [
    {
     "data": {
      "text/html": [
       "<div>\n",
       "<style scoped>\n",
       "    .dataframe tbody tr th:only-of-type {\n",
       "        vertical-align: middle;\n",
       "    }\n",
       "\n",
       "    .dataframe tbody tr th {\n",
       "        vertical-align: top;\n",
       "    }\n",
       "\n",
       "    .dataframe thead th {\n",
       "        text-align: right;\n",
       "    }\n",
       "</style>\n",
       "<table border=\"1\" class=\"dataframe\">\n",
       "  <thead>\n",
       "    <tr style=\"text-align: right;\">\n",
       "      <th></th>\n",
       "      <th>team</th>\n",
       "      <th>HomeTeam</th>\n",
       "    </tr>\n",
       "  </thead>\n",
       "  <tbody>\n",
       "    <tr>\n",
       "      <th>0</th>\n",
       "      <td>Monaco</td>\n",
       "      <td>Monaco</td>\n",
       "    </tr>\n",
       "    <tr>\n",
       "      <th>1</th>\n",
       "      <td>Paris Saint-Germain</td>\n",
       "      <td>Paris SG</td>\n",
       "    </tr>\n",
       "    <tr>\n",
       "      <th>2</th>\n",
       "      <td>Saint-Étienne</td>\n",
       "      <td>St Etienne</td>\n",
       "    </tr>\n",
       "    <tr>\n",
       "      <th>3</th>\n",
       "      <td>Montpellier</td>\n",
       "      <td>Montpellier</td>\n",
       "    </tr>\n",
       "    <tr>\n",
       "      <th>4</th>\n",
       "      <td>Metz</td>\n",
       "      <td>Metz</td>\n",
       "    </tr>\n",
       "  </tbody>\n",
       "</table>\n",
       "</div>"
      ],
      "text/plain": [
       "                  team     HomeTeam\n",
       "0               Monaco       Monaco\n",
       "1  Paris Saint-Germain     Paris SG\n",
       "2        Saint-Étienne   St Etienne\n",
       "3          Montpellier  Montpellier\n",
       "4                 Metz         Metz"
      ]
     },
     "execution_count": 17,
     "metadata": {},
     "output_type": "execute_result"
    }
   ],
   "source": [
    "odds_teams = odds_df.HomeTeam.unique()\n",
    "teams = game_df.home_team.unique()\n",
    "lookup = []\n",
    "for t in teams:\n",
    "    if t == 'Athletic Club':\n",
    "        lookup.append({\n",
    "            'team': t,\n",
    "            'HomeTeam': 'Ath Bilbao'\n",
    "        })\n",
    "    else:\n",
    "        lookup.append({\n",
    "            'team': t,\n",
    "            'HomeTeam': process.extractOne(t,odds_teams)[0]\n",
    "        })\n",
    "lookup_df = pd.DataFrame(lookup)\n",
    "lookup_df.head()"
   ]
  },
  {
   "cell_type": "code",
   "execution_count": 18,
   "metadata": {},
   "outputs": [
    {
     "data": {
      "text/html": [
       "<div>\n",
       "<style scoped>\n",
       "    .dataframe tbody tr th:only-of-type {\n",
       "        vertical-align: middle;\n",
       "    }\n",
       "\n",
       "    .dataframe tbody tr th {\n",
       "        vertical-align: top;\n",
       "    }\n",
       "\n",
       "    .dataframe thead th {\n",
       "        text-align: right;\n",
       "    }\n",
       "</style>\n",
       "<table border=\"1\" class=\"dataframe\">\n",
       "  <thead>\n",
       "    <tr style=\"text-align: right;\">\n",
       "      <th></th>\n",
       "      <th>HomeTeam</th>\n",
       "      <th>AwayTeam</th>\n",
       "      <th>Date</th>\n",
       "      <th>OddsH</th>\n",
       "      <th>OddsD</th>\n",
       "      <th>OddsA</th>\n",
       "      <th>team</th>\n",
       "    </tr>\n",
       "  </thead>\n",
       "  <tbody>\n",
       "    <tr>\n",
       "      <th>0</th>\n",
       "      <td>Eibar</td>\n",
       "      <td>Celta</td>\n",
       "      <td>2020-09-12</td>\n",
       "      <td>0.392157</td>\n",
       "      <td>0.322581</td>\n",
       "      <td>0.333333</td>\n",
       "      <td>Eibar</td>\n",
       "    </tr>\n",
       "    <tr>\n",
       "      <th>1</th>\n",
       "      <td>Granada</td>\n",
       "      <td>Ath Bilbao</td>\n",
       "      <td>2020-09-12</td>\n",
       "      <td>0.357143</td>\n",
       "      <td>0.333333</td>\n",
       "      <td>0.363636</td>\n",
       "      <td>Granada</td>\n",
       "    </tr>\n",
       "    <tr>\n",
       "      <th>2</th>\n",
       "      <td>Cadiz</td>\n",
       "      <td>Osasuna</td>\n",
       "      <td>2020-09-12</td>\n",
       "      <td>0.357143</td>\n",
       "      <td>0.344828</td>\n",
       "      <td>0.347222</td>\n",
       "      <td>Cádiz</td>\n",
       "    </tr>\n",
       "    <tr>\n",
       "      <th>3</th>\n",
       "      <td>Alaves</td>\n",
       "      <td>Betis</td>\n",
       "      <td>2020-09-13</td>\n",
       "      <td>0.357143</td>\n",
       "      <td>0.312500</td>\n",
       "      <td>0.381679</td>\n",
       "      <td>Alavés</td>\n",
       "    </tr>\n",
       "    <tr>\n",
       "      <th>4</th>\n",
       "      <td>Valladolid</td>\n",
       "      <td>Sociedad</td>\n",
       "      <td>2020-09-13</td>\n",
       "      <td>0.344828</td>\n",
       "      <td>0.312500</td>\n",
       "      <td>0.392157</td>\n",
       "      <td>Valladolid</td>\n",
       "    </tr>\n",
       "    <tr>\n",
       "      <th>...</th>\n",
       "      <td>...</td>\n",
       "      <td>...</td>\n",
       "      <td>...</td>\n",
       "      <td>...</td>\n",
       "      <td>...</td>\n",
       "      <td>...</td>\n",
       "      <td>...</td>\n",
       "    </tr>\n",
       "    <tr>\n",
       "      <th>6386</th>\n",
       "      <td>Nantes</td>\n",
       "      <td>Strasbourg</td>\n",
       "      <td>2018-05-19</td>\n",
       "      <td>0.546448</td>\n",
       "      <td>0.285714</td>\n",
       "      <td>0.230947</td>\n",
       "      <td>Nantes</td>\n",
       "    </tr>\n",
       "    <tr>\n",
       "      <th>6387</th>\n",
       "      <td>Rennes</td>\n",
       "      <td>Montpellier</td>\n",
       "      <td>2018-05-19</td>\n",
       "      <td>0.523560</td>\n",
       "      <td>0.312500</td>\n",
       "      <td>0.222222</td>\n",
       "      <td>Rennes</td>\n",
       "    </tr>\n",
       "    <tr>\n",
       "      <th>6388</th>\n",
       "      <td>St Etienne</td>\n",
       "      <td>Lille</td>\n",
       "      <td>2018-05-19</td>\n",
       "      <td>0.636943</td>\n",
       "      <td>0.263158</td>\n",
       "      <td>0.166667</td>\n",
       "      <td>Saint-Étienne</td>\n",
       "    </tr>\n",
       "    <tr>\n",
       "      <th>6389</th>\n",
       "      <td>Toulouse</td>\n",
       "      <td>Guingamp</td>\n",
       "      <td>2018-05-19</td>\n",
       "      <td>0.636943</td>\n",
       "      <td>0.263158</td>\n",
       "      <td>0.166667</td>\n",
       "      <td>Toulouse</td>\n",
       "    </tr>\n",
       "    <tr>\n",
       "      <th>6390</th>\n",
       "      <td>Troyes</td>\n",
       "      <td>Monaco</td>\n",
       "      <td>2018-05-19</td>\n",
       "      <td>0.166667</td>\n",
       "      <td>0.263158</td>\n",
       "      <td>0.636943</td>\n",
       "      <td>Troyes</td>\n",
       "    </tr>\n",
       "  </tbody>\n",
       "</table>\n",
       "<p>6391 rows × 7 columns</p>\n",
       "</div>"
      ],
      "text/plain": [
       "        HomeTeam     AwayTeam        Date     OddsH     OddsD     OddsA  \\\n",
       "0          Eibar        Celta  2020-09-12  0.392157  0.322581  0.333333   \n",
       "1        Granada   Ath Bilbao  2020-09-12  0.357143  0.333333  0.363636   \n",
       "2          Cadiz      Osasuna  2020-09-12  0.357143  0.344828  0.347222   \n",
       "3         Alaves        Betis  2020-09-13  0.357143  0.312500  0.381679   \n",
       "4     Valladolid     Sociedad  2020-09-13  0.344828  0.312500  0.392157   \n",
       "...          ...          ...         ...       ...       ...       ...   \n",
       "6386      Nantes   Strasbourg  2018-05-19  0.546448  0.285714  0.230947   \n",
       "6387      Rennes  Montpellier  2018-05-19  0.523560  0.312500  0.222222   \n",
       "6388  St Etienne        Lille  2018-05-19  0.636943  0.263158  0.166667   \n",
       "6389    Toulouse     Guingamp  2018-05-19  0.636943  0.263158  0.166667   \n",
       "6390      Troyes       Monaco  2018-05-19  0.166667  0.263158  0.636943   \n",
       "\n",
       "               team  \n",
       "0             Eibar  \n",
       "1           Granada  \n",
       "2             Cádiz  \n",
       "3            Alavés  \n",
       "4        Valladolid  \n",
       "...             ...  \n",
       "6386         Nantes  \n",
       "6387         Rennes  \n",
       "6388  Saint-Étienne  \n",
       "6389       Toulouse  \n",
       "6390         Troyes  \n",
       "\n",
       "[6391 rows x 7 columns]"
      ]
     },
     "execution_count": 18,
     "metadata": {},
     "output_type": "execute_result"
    }
   ],
   "source": [
    "odds_df = pd.merge(left=odds_df, right=lookup_df, on='HomeTeam', how='left')\n",
    "odds_df"
   ]
  },
  {
   "cell_type": "code",
   "execution_count": 19,
   "metadata": {},
   "outputs": [
    {
     "name": "stdout",
     "output_type": "stream",
     "text": [
      "OddsH    46\n",
      "OddsD    46\n",
      "OddsA    46\n",
      "dtype: int64\n"
     ]
    }
   ],
   "source": [
    "game_df['Date'] = game_df['datetime'].dt.date\n",
    "game_df = pd.merge(left=game_df, right=odds_df[['Date', 'OddsH', 'OddsD', 'OddsA', 'team']],\n",
    "                  left_on= ['home_team','Date'], right_on=['team','Date'],\n",
    "                  how='left')\n",
    "game_df.drop(columns=['Date','team'], inplace=True)\n",
    "\n",
    "# dropgames with na odds\n",
    "print(game_df[['OddsH', 'OddsD', 'OddsA']].isna().sum())\n",
    "game_df.dropna(subset=['OddsH', 'OddsD', 'OddsA'], inplace=True)"
   ]
  },
  {
   "cell_type": "markdown",
   "metadata": {},
   "source": [
    "### Final features"
   ]
  },
  {
   "cell_type": "code",
   "execution_count": 20,
   "metadata": {},
   "outputs": [
    {
     "data": {
      "text/plain": [
       "(6118, 270)"
      ]
     },
     "execution_count": 20,
     "metadata": {},
     "output_type": "execute_result"
    }
   ],
   "source": [
    "# datetime feats\n",
    "game_df['month']=game_df['datetime'].dt.month\n",
    "game_df['dow']=game_df['datetime'].dt.weekday\n",
    "game_df['is_night_game'] = game_df['datetime'].dt.hour>18\n",
    "game_df['datetime'] = game_df['datetime'].astype('int')\n",
    "game_df = game_df.sort_values(by='datetime').copy().reset_index(drop=True)\n",
    "game_df.shape"
   ]
  },
  {
   "cell_type": "markdown",
   "metadata": {},
   "source": [
    "## Train model"
   ]
  },
  {
   "cell_type": "code",
   "execution_count": 21,
   "metadata": {},
   "outputs": [
    {
     "data": {
      "text/plain": [
       "(6118, 261)"
      ]
     },
     "execution_count": 21,
     "metadata": {},
     "output_type": "execute_result"
    }
   ],
   "source": [
    "# drop unused columns\n",
    "training_df = game_df.drop(columns=['game_id','home_team','away_team'])\n",
    "training_df = training_df.sort_values(by='datetime').copy().reset_index(drop=True)\n",
    "\n",
    "# drop highna columns\n",
    "training_df.dropna(axis=1, thresh=int(len(training_df)*.95), inplace=True)\n",
    "training_df.shape"
   ]
  },
  {
   "cell_type": "code",
   "execution_count": 22,
   "metadata": {},
   "outputs": [
    {
     "data": {
      "text/plain": [
       "(6118, 226)"
      ]
     },
     "execution_count": 22,
     "metadata": {},
     "output_type": "execute_result"
    }
   ],
   "source": [
    "# drop highly correlated\n",
    "# from: https://chrisalbon.com/machine_learning/feature_selection/drop_highly_correlated_features/\n",
    "\n",
    "corr_matrix = training_df.corr().abs()\n",
    "upper = corr_matrix.where(np.triu(np.ones(corr_matrix.shape), k=1).astype(np.bool))\n",
    "to_drop = [column for column in upper.columns if any(upper[column] > 0.95)]\n",
    "\n",
    "\n",
    "training_df.drop(training_df[to_drop], axis=1, inplace=True)\n",
    "training_df.shape"
   ]
  },
  {
   "cell_type": "code",
   "execution_count": 23,
   "metadata": {},
   "outputs": [
    {
     "data": {
      "text/plain": [
       "(4895, 711, 512)"
      ]
     },
     "execution_count": 23,
     "metadata": {},
     "output_type": "execute_result"
    }
   ],
   "source": [
    "split = -int(len(training_df)/5) # most recent 20% of matches are held back for validation and test\n",
    "X_train = training_df[:split].drop(columns=['target'])\n",
    "y_train = training_df[:split].target\n",
    "\n",
    "# randomly assign most recent matches to validation and test sets\n",
    "rand_idx = np.random.random(-split)>0.4 #60% go to validation, rest to final test\n",
    "\n",
    "X_valid = training_df[split:][rand_idx].drop(columns=['target'])\n",
    "y_valid = training_df[split:][rand_idx].target\n",
    "X_test = training_df[split:][~rand_idx].drop(columns=['target'])\n",
    "y_test = training_df[split:][~rand_idx].target\n",
    "\n",
    "len(X_train), len(X_valid), len(X_test)"
   ]
  },
  {
   "cell_type": "code",
   "execution_count": 24,
   "metadata": {},
   "outputs": [
    {
     "name": "stdout",
     "output_type": "stream",
     "text": [
      "Model Training:\n",
      "==============\n",
      "f1_score: 0.425\tparams:{'learning_rate': 0.1, 'max_depth': 5}\n",
      "f1_score: 0.436\tparams:{'learning_rate': 0.1, 'max_depth': 6}\n",
      "f1_score: 0.448\tparams:{'learning_rate': 0.1, 'max_depth': 7}\n",
      "f1_score: 0.451\tparams:{'learning_rate': 0.1, 'max_depth': 9}\n",
      "f1_score: 0.453\tparams:{'learning_rate': 0.1, 'max_depth': 10}\n",
      "f1_score: 0.472\tparams:{'learning_rate': 0.08, 'max_depth': 10}\n"
     ]
    }
   ],
   "source": [
    "print(\"Model Training:\\n==============\")\n",
    "\n",
    "all_params = []\n",
    "best_params = {}\n",
    "best_f1=0\n",
    "for i in range(10,1,-2):\n",
    "    for j in range(5,11):\n",
    "        params = {\n",
    "            'learning_rate': i/100,\n",
    "            'max_depth':j\n",
    "        }\n",
    "        gbm = xgb.XGBClassifier(**params,n_estimators=500)\n",
    "        model = gbm.fit(X_train, y_train,\n",
    "                eval_set = [[X_train, y_train],\n",
    "                          [X_valid, y_valid]],\n",
    "                verbose=False,\n",
    "                eval_metric = 'mlogloss',\n",
    "                early_stopping_rounds=10)\n",
    "        xgb_test_preds = model.predict(X_valid)\n",
    "        f1 = f1_score(y_valid, xgb_test_preds, average='macro')\n",
    "        \n",
    "        all_params.append((i/100,j,f1)) # save results these to plot later\n",
    "        \n",
    "        if f1 > best_f1:\n",
    "            print(f\"f1_score: {f1:.3f}\\tparams:{params}\")\n",
    "            best_params = params\n",
    "            best_model = model\n",
    "            best_f1=f1\n",
    "pickle.dump(best_model,open('tmp_model.pkl','wb'))\n",
    "model = pickle.load(open('tmp_model.pkl','rb'))\n",
    "params = best_params"
   ]
  },
  {
   "cell_type": "code",
   "execution_count": 25,
   "metadata": {},
   "outputs": [
    {
     "data": {
      "text/plain": [
       "<Figure size 432x288 with 0 Axes>"
      ]
     },
     "metadata": {},
     "output_type": "display_data"
    },
    {
     "data": {
      "image/png": "[encoded data removed]",
      "text/plain": [
       "<Figure size 864x288 with 3 Axes>"
      ]
     },
     "metadata": {
      "needs_background": "light"
     },
     "output_type": "display_data"
    }
   ],
   "source": [
    "X = [x[0] for x in all_params]\n",
    "Y = [x[1] for x in all_params]\n",
    "Z = np.array([x[2] for x in all_params])\n",
    "\n",
    "plt.set_cmap('Blues')\n",
    "fig, ax = plt.subplots(1,2, figsize=(12,4))\n",
    "\n",
    "im = ax[1].scatter(X,Y,c=Z, s=1000)\n",
    "fig.colorbar(im, ax=ax[1]).set_label('f1 Score')\n",
    "ax[1].set_xlabel('Learn rate')\n",
    "ax[1].set_ylabel('Max Depth')\n",
    "ax[1].title.set_text('Optimization Outcomes')\n",
    "\n",
    "ax[0].hist(Z)\n",
    "ax[0].set_xlabel('F1 Score')\n",
    "ax[0].set_ylabel('Frequency')\n",
    "ax[0].title.set_text('Distribution of F1 scores')\n",
    "\n",
    "fig.suptitle(\"Model Selection Results\", fontsize=14)\n",
    "plt.tight_layout();"
   ]
  },
  {
   "cell_type": "markdown",
   "metadata": {},
   "source": [
    "### Model Eval"
   ]
  },
  {
   "cell_type": "code",
   "execution_count": 26,
   "metadata": {},
   "outputs": [
    {
     "name": "stdout",
     "output_type": "stream",
     "text": [
      "Overall Performance vs Casino:\n",
      "=============================\n",
      "casino f1 for these games: 0.349, model f1: 0.449, skill increase = 28.4%\n",
      "favorites are the same 76.37% of the time\n"
     ]
    },
    {
     "data": {
      "image/png": "[encoded data removed]",
      "text/plain": [
       "<Figure size 1008x288 with 3 Axes>"
      ]
     },
     "metadata": {
      "needs_background": "light"
     },
     "output_type": "display_data"
    }
   ],
   "source": [
    "# how do we compare with casino predictions?\n",
    "odds = game_df[['OddsH','OddsA','OddsD']][split:][~rand_idx]\n",
    "odds_pred = odds.idxmax(axis=1).str[-1]\n",
    "model_pred = model.predict(X_test)\n",
    "\n",
    "casino_f1 = f1_score(y_test, odds_pred, average='macro')\n",
    "model_f1 = f1_score(y_test, model_pred, average='macro')\n",
    "improvement = (model_f1/casino_f1)-1\n",
    "print(\"Overall Performance vs Casino:\\n=============================\")\n",
    "print(f\"casino f1 for these games: {casino_f1:.3f}, model f1: {model_f1:.3f}, skill increase = {improvement*100:.1f}%\")\n",
    "print(f\"favorites are the same {(odds_pred==model_pred).mean()*100:.2f}% of the time\")\n",
    "\n",
    "fig, ax = plt.subplots(1,3,figsize=(14,4))\n",
    "for i,j in enumerate(['OddsA','OddsD','OddsH']):\n",
    "    x = odds[j]\n",
    "    y = model.predict_proba(X_test)[:,i]\n",
    "    ax[i].scatter(x,y)\n",
    "    ax[i].set_ylabel('model pred')\n",
    "    ax[i].set_xlabel('casino odds')\n",
    "    ax[i].set_ylim(0,1)\n",
    "    ax[i].set_xlim(0,1)\n",
    "    ax[i].title.set_text(j + ' vs. Predicted Odds')\n",
    "fig.suptitle(\"How do our prediction's odds line up with casino odds? (messier is better)\", fontsize=14)\n",
    "fig.tight_layout()"
   ]
  },
  {
   "cell_type": "code",
   "execution_count": 27,
   "metadata": {},
   "outputs": [
    {
     "data": {
      "image/png": "[encoded data removed]",
      "text/plain": [
       "<Figure size 432x288 with 1 Axes>"
      ]
     },
     "metadata": {
      "needs_background": "light"
     },
     "output_type": "display_data"
    }
   ],
   "source": [
    "from sklearn.metrics import confusion_matrix\n",
    "def plot_confusion_matrix(y_true, y_pred, classes,\n",
    "                          ax=None,\n",
    "                          normalize=False,\n",
    "                          title=None,\n",
    "                          cmap=plt.cm.Blues):\n",
    "    \"\"\"\n",
    "    # https://scikit-learn.org/stable/auto_examples/model_selection/plot_confusion_matrix.html\n",
    "    This function prints and plots the confusion matrix.\n",
    "    Normalization can be applied by setting `normalize=True`.\n",
    "    \"\"\"\n",
    "    if not title:\n",
    "        if normalize:\n",
    "            title = 'Normalized confusion matrix'\n",
    "        else:\n",
    "            title = 'Confusion matrix'\n",
    "\n",
    "    # Compute confusion matrix\n",
    "    cm = confusion_matrix(y_true, y_pred)\n",
    "    if normalize:\n",
    "        cm = cm.astype('float') / cm.sum(axis=1)[:, np.newaxis]\n",
    "\n",
    "    if ax==None:\n",
    "        fig, ax = plt.subplots()\n",
    "    im = ax.imshow(cm, interpolation='nearest', cmap=cmap)\n",
    "    #ax.figure.colorbar(im, ax=ax)\n",
    "    # We want to show all ticks...\n",
    "    ax.set(xticks=np.arange(cm.shape[1]),\n",
    "           yticks=np.arange(cm.shape[0]),\n",
    "           # ... and label them with the respective list entries\n",
    "           xticklabels=classes, yticklabels=classes,\n",
    "           title=title,\n",
    "           ylabel='True label',\n",
    "           xlabel='Predicted label')\n",
    "\n",
    "    # Rotate the tick labels and set their alignment.\n",
    "    plt.setp(ax.get_xticklabels(), rotation=45, ha=\"right\",\n",
    "             rotation_mode=\"anchor\")\n",
    "\n",
    "    # Loop over data dimensions and create text annotations.\n",
    "    fmt = '.2f' if normalize else 'd'\n",
    "    thresh = cm.max() / 2.\n",
    "    for i in range(cm.shape[0]):\n",
    "        for j in range(cm.shape[1]):\n",
    "            ax.text(j, i, format(cm[i, j], fmt),\n",
    "                    ha=\"center\", va=\"center\",\n",
    "                    color=\"white\" if cm[i, j] > thresh else \"black\")\n",
    "    return ax\n",
    "_ = plot_confusion_matrix(y_test, model_pred, ['Away Win', 'Draw', 'Home Win'])"
   ]
  },
  {
   "cell_type": "code",
   "execution_count": 28,
   "metadata": {},
   "outputs": [
    {
     "name": "stdout",
     "output_type": "stream",
     "text": [
      "Classification Report:\n",
      "=====================\n",
      "              precision    recall  f1-score   support\n",
      "\n",
      "           A       0.55      0.52      0.54       183\n",
      "           D       0.35      0.13      0.19       126\n",
      "           H       0.52      0.74      0.61       203\n",
      "\n",
      "    accuracy                           0.52       512\n",
      "   macro avg       0.47      0.47      0.45       512\n",
      "weighted avg       0.49      0.52      0.48       512\n",
      "\n"
     ]
    }
   ],
   "source": [
    "print(\"Classification Report:\\n=====================\")\n",
    "print(classification_report(y_test, model.predict(X_test)))\n",
    "#precision/recall: \n",
    "# - A model that produces no false positives has a precision of 1.0.\n",
    "# - A model that produces no false negatives has a recall of 1.0."
   ]
  },
  {
   "cell_type": "code",
   "execution_count": 29,
   "metadata": {},
   "outputs": [
    {
     "name": "stdout",
     "output_type": "stream",
     "text": [
      "Model Calibration Report:\n",
      "========================\n",
      "Away Brier Score\tCasino: 0.2123\tModel: 0.2022\n",
      "Draw Brier Score\tCasino: 0.1869\tModel: 0.1856\n",
      "Home Brier Score\tCasino: 0.2201\tModel: 0.2061\n"
     ]
    },
    {
     "data": {
      "image/png": "[encoded data removed]",
      "text/plain": [
       "<Figure size 720x432 with 2 Axes>"
      ]
     },
     "metadata": {
      "needs_background": "light"
     },
     "output_type": "display_data"
    }
   ],
   "source": [
    "def cal_curve(data, bins):\n",
    "    # adapted from:\n",
    "    #https://scikit-learn.org/stable/auto_examples/calibration/plot_calibration_curve.html\n",
    "    fig = plt.figure(1, figsize=(10, 6))\n",
    "    ax1 = plt.subplot2grid((3, 1), (0, 0), rowspan=2)\n",
    "    ax2 = plt.subplot2grid((3, 1), (2, 0))\n",
    "\n",
    "    ax1.plot([0, 1], [0, 1], \"k:\", label=\"Perfectly calibrated\")\n",
    "\n",
    "    for y_test, y_proba, name in data:\n",
    "        brier = brier_score_loss(y_test, y_proba)\n",
    "        fraction_of_positives, mean_predicted_value = \\\n",
    "            calibration_curve(y_test, y_proba, n_bins=bins)\n",
    "        ax1.plot(mean_predicted_value, fraction_of_positives,\n",
    "                 label=\"%s (%1.4f)\" % (name, brier))\n",
    "        ax2.hist(y_proba, range=(0, 1), bins=bins, label=name,\n",
    "                 histtype=\"step\", lw=2)\n",
    "\n",
    "    ax1.set_ylabel(\"Fraction of positives\")\n",
    "    ax1.set_ylim([-0.05, 1.05])\n",
    "    ax1.legend(loc=\"lower right\")\n",
    "    ax1.set_title('Calibration plots  (reliability curve)')\n",
    "\n",
    "    ax2.set_xlabel(\"Mean predicted value\")\n",
    "    ax2.set_ylabel(\"Count\")\n",
    "    ax2.legend(loc=\"lower right\")\n",
    "\n",
    "    plt.tight_layout()\n",
    "    plt.show()\n",
    "\n",
    "model_proba = model.predict_proba(X_test)\n",
    "data = [\n",
    "    # truth, probabilities, labels\n",
    "    (y_test=='A', model_proba[:,0], 'Away Win'),\n",
    "    (y_test=='D', model_proba[:,1], 'Draw\\t'),\n",
    "    (y_test=='H', model_proba[:,2], 'Home Win'),\n",
    "]\n",
    "print(\"Model Calibration Report:\\n========================\")\n",
    "for i, y in enumerate(['Away','Draw','Home']):\n",
    "    b_model = brier_score_loss(y_test==y[0], model_proba[:,i])\n",
    "    b_casino = brier_score_loss(y_test==y[0], odds['Odds'+y[0]])\n",
    "    print(f'{y} Brier Score\\tCasino: {b_casino:.4f}\\tModel: {b_model:.4f}')\n",
    "cal_curve(data, 15)"
   ]
  },
  {
   "cell_type": "code",
   "execution_count": 30,
   "metadata": {},
   "outputs": [
    {
     "name": "stdout",
     "output_type": "stream",
     "text": [
      "SHAP Model Explanability Values:\n",
      "===============================\n"
     ]
    },
    {
     "data": {
      "image/png": "[encoded data removed]",
      "text/plain": [
       "<Figure size 576x684 with 1 Axes>"
      ]
     },
     "metadata": {
      "needs_background": "light"
     },
     "output_type": "display_data"
    }
   ],
   "source": [
    "# patch model to work with shap\n",
    "shap_model = pickle.load(open('tmp_model.pkl','rb'))\n",
    "booster = shap_model.get_booster() \n",
    "model_bytearray = booster.save_raw()[4:]\n",
    "booster.save_raw = lambda : model_bytearray\n",
    "\n",
    "# shap explainer\n",
    "print(\"SHAP Model Explanability Values:\\n===============================\")\n",
    "explainer = shap.TreeExplainer(booster)\n",
    "shap_values = explainer.shap_values(X_test)\n",
    "shap.summary_plot(shap_values, X_test, class_names=shap_model.classes_)\n"
   ]
  },
  {
   "cell_type": "code",
   "execution_count": 31,
   "metadata": {},
   "outputs": [],
   "source": [
    "pickle.dump(model,open('xgb_model.pkl','wb'))"
   ]
  },
  {
   "cell_type": "code",
   "execution_count": null,
   "metadata": {},
   "outputs": [],
   "source": []
  }
 ],
 "metadata": {
  "kernelspec": {
   "display_name": "Python 3",
   "language": "python",
   "name": "python3"
  },
  "language_info": {
   "codemirror_mode": {
    "name": "ipython",
    "version": 3
   },
   "file_extension": ".py",
   "mimetype": "text/x-python",
   "name": "python",
   "nbconvert_exporter": "python",
   "pygments_lexer": "ipython3",
   "version": "3.7.6"
  }
 },
 "nbformat": 4,
 "nbformat_minor": 4
}
