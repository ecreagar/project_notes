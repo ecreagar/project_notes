{
 "cells": [
  {
   "cell_type": "markdown",
   "metadata": {
    "collapsed": true,
    "pycharm": {
     "name": "#%% md\n"
    }
   },
   "source": [
    "# MLB Predictions and Betting Strategy\n",
    "> Part 5 - Making our guesses, assessing confidence, and deciding how much to bet\n",
    "\n",
    "- toc: false\n",
    "- badges: true\n",
    "- comments: true\n",
    "- categories: [baseball, webscraping, kelly criterion, xgboost]\n",
    "- image: images/chart-preview.png"
   ]
  },
  {
   "cell_type": "markdown",
   "source": [
    "It's finally time to put all of this work into practice. This is going to be another long notebook, though. It's a lot of work.\n",
    "> Warning: Do this at your own risk. If you lose money, it's not my problem. Gamble responsibly. If you have think you may have a problem controlling yourself, [get some help](http://www.gamblersanonymous.org/ga/).\n",
    "\n",
    ">Important: But if you win, you owe me 10%.\n",
    "\n",
    "To make bet recommendations, this notebook needs to do all this:\n",
    "- Download games and odds that have completed\n",
    "- Download today's games and their odds\n",
    "- Calculate the stats for today's games\n",
    "- Generate predictions using our saved model\n",
    "- Calculate bet sizes based on the moneyline odds and our predictions\n",
    "\n",
    "Luckily a bunch of the code for this was written in previous posts, we just need to get it into this notebook.\n",
    "\n",
    "## Update Historic Data\n",
    "First, we'll update the data from our web scraping. I've hidden all the code you saw in parts 2 and 3. Click the button to unhide it."
   ],
   "metadata": {
    "collapsed": false,
    "pycharm": {
     "name": "#%% md\n"
    }
   }
  },
  {
   "cell_type": "code",
   "execution_count": 1,
   "outputs": [],
   "source": [
    "#collapse-hide\n",
    "from bs4 import BeautifulSoup as bs\n",
    "import requests\n",
    "\n",
    "# these are functions related to parsing the baseball reference page\n",
    "\n",
    "def get_game_summary(soup, game_id):\n",
    "    game = {'game_id': game_id}\n",
    "    scorebox = soup.find('div', {'class':'scorebox'})\n",
    "    teams = scorebox.findAll('a',{'itemprop':'name'})\n",
    "    game['away_team_abbr'] = teams[0]['href'].split('/')[2]\n",
    "    game['home_team_abbr'] = teams[1]['href'].split('/')[2]\n",
    "    meta = scorebox.find('div', {'class':'scorebox_meta'}).findAll('div')\n",
    "    game['date'] = meta[0].text.strip()\n",
    "    game['start_time'] = meta[1].text[12:-6].strip()\n",
    "    return game\n",
    "\n",
    "def get_table_summary(soup, table_no):\n",
    "    stats_tables = soup.findAll('table', {'class':'stats_table'})\n",
    "    t = stats_tables[table_no].find('tfoot')\n",
    "    summary = {x['data-stat']:x.text.strip() for x in t.findAll('td')}\n",
    "    return summary\n",
    "\n",
    "def get_pitcher_data(soup, table_no):\n",
    "    stats_tables = soup.findAll('table', {'class':'stats_table'})\n",
    "    t = stats_tables[table_no]\n",
    "    data = []\n",
    "    rows = t.findAll('tr')[1:-1] # not the header and footer rows\n",
    "    for r in rows:\n",
    "        summary = {x['data-stat']:x.text.strip() for x in r.findAll('td')}\n",
    "        summary['name'] = r.find('th',{'data-stat':'player'}).find('a')['href'].split('/')[-1][:-6].strip()\n",
    "        data.append(summary)\n",
    "    return data\n",
    "\n",
    "def process_link(url):\n",
    "    resp = requests.get(url)\n",
    "    game_id = url.split('/')[-1][:-6]\n",
    "\n",
    "    # strange preprocessing routine\n",
    "    uncommented_html = ''\n",
    "    for h in resp.text.split('\\n'):\n",
    "        if '<!--     <div' in h: continue\n",
    "        if h.strip() == '<!--': continue\n",
    "        if h.strip() == '-->': continue\n",
    "        uncommented_html += h + '\\n'\n",
    "\n",
    "    soup = bs(uncommented_html)\n",
    "    data = {\n",
    "        'game': get_game_summary(soup, game_id),\n",
    "        'away_batting': get_table_summary(soup, 1),\n",
    "        'home_batting':get_table_summary(soup, 2),\n",
    "        'away_pitching':get_table_summary(soup, 3),\n",
    "        'home_pitching':get_table_summary(soup, 4),\n",
    "        'away_pitchers': get_pitcher_data(soup, 3),\n",
    "        'home_pitchers': get_pitcher_data(soup, 4)\n",
    "    }\n",
    "    return data\n",
    "\n",
    "def get_covers_data(date_string):\n",
    "    odds_data = []\n",
    "    # get the web page with game data on it\n",
    "    url = f'https://www.covers.com/Sports/MLB/Matchups?selectedDate={date_string}'\n",
    "    resp = requests.get(url)\n",
    "\n",
    "    # parse the games\n",
    "    scraped_games = bs(resp.text).findAll('div',{'class':'cmg_matchup_game_box'})\n",
    "    for g in scraped_games:\n",
    "        game = {}\n",
    "        game['home_moneyline'] = g['data-game-odd']\n",
    "        game['date'] = g['data-game-date']\n",
    "        game['away_team_abbr'] = g['data-away-team-shortname-search']\n",
    "        game['home_team_abbr'] = g['data-home-team-shortname-search']\n",
    "        try:\n",
    "            game['home_score'] =g.find('div',{'class':'cmg_matchup_list_score_home'}).text.strip()\n",
    "            game['away_score'] =g.find('div',{'class':'cmg_matchup_list_score_away'}).text.strip()\n",
    "        except:\n",
    "            game['home_score'] =''\n",
    "            game['away_score'] =''\n",
    "\n",
    "        odds_data.append(game)\n",
    "    return odds_data"
   ],
   "metadata": {
    "collapsed": false,
    "pycharm": {
     "name": "#%%\n"
    }
   }
  },
  {
   "cell_type": "markdown",
   "source": [
    "First we'll load our saved data\n"
   ],
   "metadata": {
    "collapsed": false,
    "pycharm": {
     "name": "#%% md\n"
    }
   }
  },
  {
   "cell_type": "code",
   "execution_count": 2,
   "outputs": [],
   "source": [
    "import pickle\n",
    "game_data = pickle.load(open('game_data.pkl','rb'))"
   ],
   "metadata": {
    "collapsed": false,
    "pycharm": {
     "name": "#%%\n"
    }
   }
  },
  {
   "cell_type": "markdown",
   "source": [
    "Let's get the scores for the games that aren't in our database yet."
   ],
   "metadata": {
    "collapsed": false,
    "pycharm": {
     "name": "#%% md\n"
    }
   }
  },
  {
   "cell_type": "code",
   "execution_count": 3,
   "outputs": [
    {
     "name": "stdout",
     "output_type": "stream",
     "text": [
      "New games downloaded:  46\n"
     ]
    }
   ],
   "source": [
    "current_year=2020\n",
    "\n",
    "# find all games for the year\n",
    "url = f\"https://www.baseball-reference.com/leagues/MLB/{current_year}-schedule.shtml\"\n",
    "resp = requests.get(url)\n",
    "soup=bs(resp.text)\n",
    "game_soups = soup.findAll('a',text='Boxscore')\n",
    "game_links = [x['href'] for x in game_soups] # for instance '/boxes/LAN/LAN202007230.shtml'\n",
    "\n",
    "# compare against downloaded games\n",
    "downloaded_games = [g['game']['game_id'] for g in game_data]\n",
    "new_game_links = [x for x in game_links if x[-18:-6] not in downloaded_games]\n",
    "\n",
    "# get the new games\n",
    "for link in new_game_links:\n",
    "    url = 'https://www.baseball-reference.com' + link\n",
    "    game_data.append(process_link(url))\n",
    "print(\"New games downloaded: \", len(new_game_links))"
   ],
   "metadata": {
    "collapsed": false,
    "pycharm": {
     "name": "#%%\n"
    }
   }
  },
  {
   "cell_type": "markdown",
   "source": [
    "## Append Today's Games\n",
    "Now we'll append today's games to this data"
   ],
   "metadata": {
    "collapsed": false
   }
  },
  {
   "cell_type": "code",
   "source": [
    "import pandas as pd\n",
    "import datetime as dt\n",
    "\n",
    "today_games=[]\n",
    "url = 'https://www.baseball-reference.com/previews/'\n",
    "page = requests.get(url).text\n",
    "soup = bs(page)\n",
    "summaries = soup.findAll('div', {'class':'game_summary'})\n",
    "for s in summaries:\n",
    "    game = {\n",
    "        'game':{\n",
    "            'game_id': s.find('a', text='Preview')['href'][-18:-6],\n",
    "            'is_test':True,\n",
    "            'date': dt.datetime.now().strftime('%A, %B %d, %Y')\n",
    "        },\n",
    "        'home_batting':{'R':0},\n",
    "        'away_batting':{'R':0},\n",
    "        'home_pitching':{'R':0},\n",
    "        'away_pitching':{'R':0},\n",
    "        'home_pitchers':[{'R':0}],\n",
    "        'away_pitchers':[{'R':0}]\n",
    "    }\n",
    "    cells = s.findAll('table')[0].findAll('td')\n",
    "\n",
    "    # skip postponed games\n",
    "    if not s.find('a', text=\"Preview\"): continue\n",
    "\n",
    "    # skip game 2 in double header - links look like this for 2nd games: \"/previews/2020/PHI202008051.shtml\"\n",
    "    if s.find('a', text=\"Preview\")['href'][-7]=='2': continue\n",
    "\n",
    "    try:\n",
    "        team_links = s.findAll('a')\n",
    "        game['game']['away_team_abbr'] = team_links[0]['href'].split('/')[2]\n",
    "        game['game']['home_team_abbr'] = team_links[2]['href'].split('/')[2]\n",
    "    except Exception as e:\n",
    "        #just all star games trigger this, I think\n",
    "        print(team_links)\n",
    "        continue\n",
    "\n",
    "    # get time\n",
    "    game['game']['start_time'] = s.find('table',{'class':'teams'}).find('tbody').findAll('tr')[1].findAll('td')[2].text.strip()\n",
    "    # get pitchers\n",
    "    try:\n",
    "        cells = s.findAll('table')[1].findAll('td')\n",
    "        game['away_pitchers'][0]['name'] = cells[1].find('a')['href'].split('/')[-1][:-6].strip()\n",
    "        game['home_pitchers'][0]['name'] = cells[3].find('a')['href'].split('/')[-1][:-6].strip()\n",
    "    except Exception as e:\n",
    "        # no pitcher\n",
    "        game['away_pitchers'][0]['name'] = ''\n",
    "        game['home_pitchers'][0]['name'] = ''\n",
    "    today_games.append(game)\n",
    "game_data.extend(today_games)\n",
    "print(len(today_games), \"Games today\")\n",
    "for x in today_games: print(x['game']['game_id'], x['game']['start_time'],\n",
    "                            x['game']['away_team_abbr'],x['away_pitchers'][0]['name'],\n",
    "                            x['game']['home_team_abbr'],x['home_pitchers'][0]['name'])"
   ],
   "metadata": {
    "collapsed": false,
    "pycharm": {
     "name": "#%%\n"
    }
   },
   "execution_count": 4,
   "outputs": [
    {
     "name": "stdout",
     "output_type": "stream",
     "text": [
      "15 Games today\n",
      "NYA202009260 1:05PM MIA rogertr01 NYY garcide01\n",
      "WAS202009261 3:05PM NYM degroja01 WSN scherma01\n",
      "OAK202009261 4:10PM SEA sheffju01 OAK minormi01\n",
      "TOR202009260 6:37PM BAL meansjo01 TOR zeuchtj01\n",
      "KCA202009260 7:05PM DET boydma01 KCR hernaca04\n",
      "TEX202009260 7:05PM HOU  TEX \n",
      "SLN202009260 7:07PM MIL woodrbr01 STL wainwad01\n",
      "TBA202009260 7:07PM PHI wheelza01 TBR curtijo02\n",
      "ATL202009260 7:10PM BOS houckta01 ATL \n",
      "CHA202009260 7:10PM CHC lestejo01 CHW dunnida01\n",
      "CLE202009260 7:10PM PIT musgrjo01 CLE civalaa01\n",
      "MIN202009260 7:10PM CIN castilu02 MIN pinedmi01\n",
      "ARI202009260 8:10PM COL marquge01 ARI weavelu01\n",
      "LAN202009260 9:10PM LAA bundydy01 LAD gonsoto01\n",
      "SFN202009260 9:15PM SDP davieza02 SFG cuetojo01\n"
     ]
    }
   ]
  },
  {
   "cell_type": "markdown",
   "source": [
    "# Generate Stats and Features Using Code from Part 2 and Part 3 of this Series\n",
    "Now we'll create our dataframe in the same way we did in Part 2 of this series. Since the above data is just appended to the end of the db, the stats for our test data will get filled in during the `shift(1)` statements that build the stats.\n",
    "\n",
    "Again I hid the code because it's a lot and you've already seen it."
   ],
   "metadata": {
    "collapsed": false,
    "pycharm": {
     "name": "#%% md\n"
    }
   }
  },
  {
   "cell_type": "code",
   "execution_count": 5,
   "outputs": [
    {
     "name": "stdout",
     "output_type": "stream",
     "text": [
      "Created game_df, batting_df, pitching_df and pitcher_df\n"
     ]
    }
   ],
   "source": [
    "#collapse-hide\n",
    "\n",
    "import pandas as pd\n",
    "\n",
    "games = []\n",
    "batting = []\n",
    "pitching = []\n",
    "pitchers = []\n",
    "\n",
    "for g in game_data:\n",
    "    game_summary = g['game']\n",
    "    if 'is_test' not in game_summary.keys(): game_summary['is_test']=False\n",
    "    # fix date\n",
    "    game_summary['date'] = game_summary['date'] + \" \" + game_summary['start_time']\n",
    "    del game_summary['start_time']\n",
    "\n",
    "    # get starting pitchers\n",
    "    game_summary['home_pitcher'] = g['home_pitchers'][0]['name']\n",
    "    game_summary['away_pitcher'] = g['away_pitchers'][0]['name']\n",
    "\n",
    "    # this is the field we'll train our model to predict\n",
    "    game_summary['home_team_win'] = int(g['home_batting']['R'])>int(g['away_batting']['R'])\n",
    "    games.append(game_summary)\n",
    "\n",
    "    # add all stats to appropriate lists\n",
    "    target_pairs = [\n",
    "        ('away_batting', batting),\n",
    "        ('home_batting', batting),\n",
    "        ('away_pitching', pitching),\n",
    "        ('home_pitching', pitching),\n",
    "        ('away_pitchers', pitchers),\n",
    "        ('home_pitchers', pitchers)\n",
    "    ]\n",
    "    for key, d in target_pairs:\n",
    "        if isinstance(g[key], list): # pitchers\n",
    "            for x in g[key]:\n",
    "                if 'home' in key:\n",
    "                    x['is_home_team'] = True\n",
    "                    x['team'] = g['game']['home_team_abbr']\n",
    "                else:\n",
    "                    x['is_home_team'] = False\n",
    "                    x['team'] = g['game']['away_team_abbr']\n",
    "                x['game_id'] = g['game']['game_id']\n",
    "                d.append(x)\n",
    "        else: #batting, pitching\n",
    "            x = g[key]\n",
    "            if 'home' in key:\n",
    "                x['is_home_team'] = True\n",
    "                x['team'] = g['game']['home_team_abbr']\n",
    "                x['spread'] = int(g[key]['R']) - int(g[key.replace('home','away')]['R'])\n",
    "            else:\n",
    "                x['is_home_team'] = False\n",
    "                x['team'] = g['game']['away_team_abbr']\n",
    "                x['spread'] = int(g[key]['R']) - int(g[key.replace('away','home')]['R'])\n",
    "            x['game_id'] = g['game']['game_id']\n",
    "            d.append(x)\n",
    "\n",
    "game_df = pd.DataFrame(games)\n",
    "game_df['date'] = pd.to_datetime(game_df['date'], errors='coerce')\n",
    "game_df = game_df[~game_df['game_id'].str.contains('allstar')].copy() #don't care about allstar games\n",
    "\n",
    "batting_df = pd.DataFrame(batting)\n",
    "for k in batting_df.keys():\n",
    "    if any(x in k for x in ['team','game_id', 'home_away']): continue\n",
    "    batting_df[k] =pd.to_numeric(batting_df[k],errors='coerce', downcast='float')\n",
    "batting_df.drop(columns=['details'], inplace=True)\n",
    "\n",
    "pitching_df = pd.DataFrame(pitching)\n",
    "for k in pitching_df.keys():\n",
    "    if any(x in k for x in ['team','game_id', 'home_away']): continue\n",
    "    pitching_df[k] =pd.to_numeric(pitching_df[k],errors='coerce', downcast='float')\n",
    "pitcher_df = pd.DataFrame(pitchers)\n",
    "\n",
    "for k in pitcher_df.keys():\n",
    "    if any(x in k for x in ['team','name','game_id', 'home_away']): continue\n",
    "    pitcher_df[k] =pd.to_numeric(pitcher_df[k],errors='coerce', downcast='float')\n",
    "# filter the pitcher performances to just the starting pitcher\n",
    "pitcher_df = pitcher_df[~pitcher_df['game_score'].isna()].copy().reset_index(drop=True)\n",
    "pitcher_df.drop(columns=[x for x in pitcher_df.keys() if 'inherited' in x], inplace=True)\n",
    "\n",
    "print(\"Created game_df, batting_df, pitching_df and pitcher_df\")"
   ],
   "metadata": {
    "collapsed": false,
    "pycharm": {
     "name": "#%%\n"
    }
   }
  },
  {
   "cell_type": "markdown",
   "source": [
    "Now we'll create all the calculated features of the model that we made in Part 2 of this blog\n"
   ],
   "metadata": {
    "collapsed": false,
    "pycharm": {
     "name": "#%% md\n"
    }
   }
  },
  {
   "cell_type": "code",
   "execution_count": 6,
   "outputs": [
    {
     "name": "stdout",
     "output_type": "stream",
     "text": [
      "The shape of our main dataframe is now (rows x columns): (10596, 1037)\n"
     ]
    }
   ],
   "source": [
    "#collapse-hide\n",
    "\n",
    "import numpy as np\n",
    "\n",
    "def add_rolling(period, df, stat_columns):\n",
    "    for s in stat_columns:\n",
    "        if 'object' in str(df[s].dtype): continue\n",
    "        df[s+'_'+str(period)+'_Avg'] = df.groupby('team')[s].apply(lambda x:x.rolling(period).mean())\n",
    "        df[s+'_'+str(period)+'_Std'] = df.groupby('team')[s].apply(lambda x:x.rolling(period).std())\n",
    "        df[s+'_'+str(period)+'_Skew'] = df.groupby('team')[s].apply(lambda x:x.rolling(period).skew())\n",
    "    return df\n",
    "\n",
    "def get_diff_df(df, name, is_pitcher=False):\n",
    "    #runs for each of the stat dataframes, returns the difference in stats\n",
    "\n",
    "    #set up dataframe with time index\n",
    "    df['date'] = pd.to_datetime(df['game_id'].str[3:-1], format=\"%Y%m%d\")\n",
    "    df = df.sort_values(by='date').copy()\n",
    "    newindex = df.groupby('date')['date']\\\n",
    "             .apply(lambda x: x + np.arange(x.size).astype(np.timedelta64))\n",
    "    df = df.set_index(newindex).sort_index()\n",
    "\n",
    "    # get stat columns\n",
    "    stat_cols = [x for x in df.columns if 'int' in str(df[x].dtype)]\n",
    "    stat_cols.extend([x for x in df.columns if 'float' in str(df[x].dtype)])\n",
    "\n",
    "    #add lags\n",
    "    df = add_rolling('5d', df, stat_cols) # this game series\n",
    "    df = add_rolling('10d', df, stat_cols)\n",
    "    df = add_rolling('45d', df, stat_cols)\n",
    "    df = add_rolling('180d', df, stat_cols) # this season\n",
    "    df = add_rolling('730d', df, stat_cols) # 2 years\n",
    "\n",
    "    # reset stat columns to just the lags (removing the original stats)\n",
    "    df.drop(columns=stat_cols, inplace=True)\n",
    "    stat_cols = [x for x in df.columns if 'int' in str(df[x].dtype)]\n",
    "    stat_cols.extend([x for x in df.columns if 'float' in str(df[x].dtype)])\n",
    "\n",
    "    # shift results so that each row is  a pregame stat\n",
    "    df = df.reset_index(drop=True)\n",
    "    df = df.sort_values(by='date')\n",
    "    for s in stat_cols:\n",
    "        if is_pitcher:\n",
    "            df[s] = df.groupby('name')[s].shift(1)\n",
    "        else:\n",
    "            df[s] = df.groupby('team')[s].shift(1)\n",
    "\n",
    "    # calculate differences in pregame stats from home vs. away teams\n",
    "    away_df = df[~df['is_home_team']].copy()\n",
    "    away_df = away_df.set_index('game_id')\n",
    "    away_df = away_df[stat_cols]\n",
    "\n",
    "    home_df = df[df['is_home_team']].copy()\n",
    "    home_df = home_df.set_index('game_id')\n",
    "    home_df = home_df[stat_cols]\n",
    "\n",
    "    diff_df = home_df.subtract(away_df, fill_value=0)\n",
    "    diff_df = diff_df.reset_index()\n",
    "\n",
    "    # clean column names\n",
    "    for s in stat_cols:\n",
    "        diff_df[name + \"_\" + s] = diff_df[s]\n",
    "        diff_df.drop(columns=s, inplace=True)\n",
    "\n",
    "    return diff_df\n",
    "\n",
    "df = game_df\n",
    "df = pd.merge(left=df, right = get_diff_df(batting_df, 'batting'),\n",
    "               on = 'game_id', how='left')\n",
    "df = pd.merge(left=df, right = get_diff_df(pitching_df, 'pitching'),\n",
    "               on = 'game_id', how='left')\n",
    "df = pd.merge(left=df, right = get_diff_df(pitcher_df, 'pitcher',is_pitcher=True),\n",
    "               on = 'game_id', how='left')\n",
    "\n",
    "#pitcher rest feature\n",
    "pitcher_df = pd.DataFrame(pitchers) # old version was filtered to just starters\n",
    "dates = pitcher_df['game_id'].str[3:-1]\n",
    "pitcher_df['date'] = pd.to_datetime(dates,format='%Y%m%d', errors='coerce')\n",
    "pitcher_df['rest'] = pitcher_df.groupby('name')['date'].diff().dt.days\n",
    "# filter the pitcher performances to just the starting pitcher\n",
    "pitcher_df = pitcher_df[~pitcher_df['game_score'].isna()].copy().reset_index(drop=True)\n",
    "home_pitchers = pitcher_df[pitcher_df['is_home_team']].copy().reset_index(drop=True)\n",
    "df = pd.merge(left=df, right=home_pitchers[['game_id','name', 'rest']],\n",
    "              left_on=['game_id','home_pitcher'],\n",
    "              right_on=['game_id','name'],\n",
    "              how='left')\n",
    "df.rename(columns={'rest':'home_pitcher_rest'}, inplace=True)\n",
    "away_pitchers = pitcher_df[~pitcher_df['is_home_team']].copy().reset_index(drop=True)\n",
    "df = pd.merge(left=df, right=away_pitchers[['game_id','name','rest']],\n",
    "              left_on=['game_id','away_pitcher'],\n",
    "              right_on=['game_id','name'],\n",
    "              how='left')\n",
    "df.rename(columns={'rest':'away_pitcher_rest'}, inplace=True)\n",
    "df['rest_diff'] = df['home_pitcher_rest']-df['away_pitcher_rest']\n",
    "\n",
    "#datetime features\n",
    "df.dropna(subset=['date'], inplace=True)\n",
    "df['season'] = df['date'].dt.year\n",
    "df['month']=df['date'].dt.month\n",
    "df['week']=df['date'].dt.isocalendar().week.astype('int')\n",
    "df['dow']=df['date'].dt.weekday\n",
    "df['date'] = (pd.to_datetime(df['date']) - pd.Timestamp(\"1970-01-01\")) // pd.Timedelta('1s') #epoch time\n",
    "\n",
    "print(\"The shape of our main dataframe is now (rows x columns):\",df.shape)\n"
   ],
   "metadata": {
    "collapsed": false,
    "pycharm": {
     "name": "#%%\n"
    }
   }
  },
  {
   "cell_type": "markdown",
   "source": [
    "Now we'll add the power rankings using the code we built in Part 3 of this series.\n"
   ],
   "metadata": {
    "collapsed": false,
    "pycharm": {
     "name": "#%% md\n"
    }
   }
  },
  {
   "cell_type": "code",
   "execution_count": 7,
   "outputs": [
    {
     "name": "stdout",
     "output_type": "stream",
     "text": [
      "The shape of our main dataframe after adding skill rankings is (rows x columns): (10596, 1053)\n"
     ]
    }
   ],
   "source": [
    "#collapse-hide\n",
    "\n",
    "from elote import EloCompetitor\n",
    "ratings = {}\n",
    "for x in df.home_team_abbr.unique():\n",
    "    ratings[x]=EloCompetitor()\n",
    "for x in df.away_team_abbr.unique():\n",
    "    ratings[x]=EloCompetitor()\n",
    "\n",
    "home_team_elo = []\n",
    "away_team_elo = []\n",
    "elo_exp = []\n",
    "\n",
    "df = df.sort_values(by='date').reset_index(drop=True)\n",
    "for i, r in df.iterrows():\n",
    "    # get pre-game ratings\n",
    "    elo_exp.append(ratings[r.home_team_abbr].expected_score(ratings[r.away_team_abbr]))\n",
    "    home_team_elo.append(ratings[r.home_team_abbr].rating)\n",
    "    away_team_elo.append(ratings[r.away_team_abbr].rating)\n",
    "    # update ratings\n",
    "    if r.home_team_win:\n",
    "        ratings[r.home_team_abbr].beat(ratings[r.away_team_abbr])\n",
    "    else:\n",
    "        ratings[r.away_team_abbr].beat(ratings[r.home_team_abbr])\n",
    "\n",
    "df['elo_exp'] = elo_exp\n",
    "df['home_team_elo'] = home_team_elo\n",
    "df['away_team_elo'] = away_team_elo\n",
    "\n",
    "#elo slow\n",
    "ratings = {}\n",
    "for x in df.home_team_abbr.unique():\n",
    "    ratings[x]=EloCompetitor()\n",
    "    ratings[x]._k_score=16\n",
    "for x in df.away_team_abbr.unique():\n",
    "    ratings[x]=EloCompetitor()\n",
    "    ratings[x]._k_score=16\n",
    "\n",
    "home_team_elo = []\n",
    "away_team_elo = []\n",
    "elo_exp = []\n",
    "\n",
    "df = df.sort_values(by='date').reset_index(drop=True)\n",
    "for i, r in df.iterrows():\n",
    "    # get pregame ratings\n",
    "    elo_exp.append(ratings[r.home_team_abbr].expected_score(ratings[r.away_team_abbr]))\n",
    "    home_team_elo.append(ratings[r.home_team_abbr].rating)\n",
    "    away_team_elo.append(ratings[r.away_team_abbr].rating)\n",
    "    # update ratings\n",
    "    if r.home_team_win:\n",
    "        ratings[r.home_team_abbr].beat(ratings[r.away_team_abbr])\n",
    "    else:\n",
    "        ratings[r.away_team_abbr].beat(ratings[r.home_team_abbr])\n",
    "\n",
    "df['elo_slow_exp'] = elo_exp\n",
    "df['home_team_elo_slow'] = home_team_elo\n",
    "df['away_team_elo_slow'] = away_team_elo\n",
    "\n",
    "#glicko\n",
    "from elote import GlickoCompetitor\n",
    "ratings = {}\n",
    "for x in df.home_team_abbr.unique():\n",
    "    ratings[x]=GlickoCompetitor()\n",
    "for x in df.away_team_abbr.unique():\n",
    "    ratings[x]=GlickoCompetitor()\n",
    "\n",
    "home_team_glick = []\n",
    "away_team_glick = []\n",
    "glick_exp = []\n",
    "\n",
    "df = df.sort_values(by='date').reset_index(drop=True)\n",
    "for i, r in df.iterrows():\n",
    "    # get pregame ratings\n",
    "    glick_exp.append(ratings[r.home_team_abbr].expected_score(ratings[r.away_team_abbr]))\n",
    "    home_team_glick.append(ratings[r.home_team_abbr].rating)\n",
    "    away_team_glick.append(ratings[r.away_team_abbr].rating)\n",
    "    # update ratings\n",
    "    if r.home_team_win:\n",
    "        ratings[r.home_team_abbr].beat(ratings[r.away_team_abbr])\n",
    "    else:\n",
    "        ratings[r.away_team_abbr].beat(ratings[r.home_team_abbr])\n",
    "\n",
    "df['glick_exp'] = glick_exp\n",
    "df['home_team_glick'] = home_team_glick\n",
    "df['away_team_glick'] = away_team_glick\n",
    "\n",
    "#trueskill\n",
    "from trueskill import Rating, quality, rate\n",
    "ratings = {}\n",
    "for x in df.home_team_abbr.unique():\n",
    "    ratings[x]=Rating(25)\n",
    "for x in df.away_team_abbr.unique():\n",
    "    ratings[x]=Rating(25)\n",
    "for x in df.home_pitcher.unique():\n",
    "    ratings[x]=Rating(25)\n",
    "for x in df.away_pitcher.unique():\n",
    "    ratings[x]=Rating(25)\n",
    "\n",
    "ts_quality = []\n",
    "pitcher_ts_diff = []\n",
    "team_ts_diff = []\n",
    "home_pitcher_ts = []\n",
    "away_pitcher_ts = []\n",
    "home_team_ts = []\n",
    "away_team_ts = []\n",
    "df = df.sort_values(by='date').copy()\n",
    "for i, r in df.iterrows():\n",
    "    # get pre-match trueskill ratings from dict\n",
    "    match = [(ratings[r.home_team_abbr], ratings[r.home_pitcher]),\n",
    "            (ratings[r.away_team_abbr], ratings[r.away_pitcher])]\n",
    "    ts_quality.append(quality(match))\n",
    "    pitcher_ts_diff.append(ratings[r.home_pitcher].mu-ratings[r.away_pitcher].mu)\n",
    "    team_ts_diff.append(ratings[r.home_team_abbr].mu-ratings[r.away_team_abbr].mu)\n",
    "    home_pitcher_ts.append(ratings[r.home_pitcher].mu)\n",
    "    away_pitcher_ts.append(ratings[r.away_pitcher].mu)\n",
    "    home_team_ts.append(ratings[r.home_team_abbr].mu)\n",
    "    away_team_ts.append(ratings[r.away_team_abbr].mu)\n",
    "\n",
    "    if r.date < df.date.max():\n",
    "        # update ratings dictionary with post-match ratings\n",
    "        if r.home_team_win==1:\n",
    "            match = [(ratings[r.home_team_abbr], ratings[r.home_pitcher]),\n",
    "                     (ratings[r.away_team_abbr], ratings[r.away_pitcher])]\n",
    "            [(ratings[r.home_team_abbr], ratings[r.home_pitcher]),\n",
    "            (ratings[r.away_team_abbr], ratings[r.away_pitcher])] = rate(match)\n",
    "        else:\n",
    "            match = [(ratings[r.away_team_abbr], ratings[r.away_pitcher]),\n",
    "                     (ratings[r.home_team_abbr], ratings[r.home_pitcher])]\n",
    "            [(ratings[r.away_team_abbr], ratings[r.away_pitcher]),\n",
    "            (ratings[r.home_team_abbr], ratings[r.home_pitcher])] = rate(match)\n",
    "\n",
    "df['ts_game_quality'] = ts_quality\n",
    "df['pitcher_ts_diff'] = pitcher_ts_diff\n",
    "df['team_ts_diff'] = team_ts_diff\n",
    "df['home_pitcher_ts'] = home_pitcher_ts\n",
    "df['away_pitcher_ts'] = away_pitcher_ts\n",
    "df['home_team_ts'] = home_team_ts\n",
    "df['away_team_ts'] = away_team_ts\n",
    "\n",
    "print(\"The shape of our main dataframe after adding skill rankings is (rows x columns):\",df.shape)"
   ],
   "metadata": {
    "collapsed": false,
    "pycharm": {
     "name": "#%%\n"
    }
   }
  },
  {
   "cell_type": "markdown",
   "source": [
    "Now to update the odds data and get it into the dataframe properly\n",
    "\n"
   ],
   "metadata": {
    "collapsed": false,
    "pycharm": {
     "name": "#%% md\n"
    }
   }
  },
  {
   "cell_type": "code",
   "execution_count": 8,
   "outputs": [],
   "source": [
    "import pickle\n",
    "odds_data = pickle.load(open('covers_data_2.pkl','rb'))"
   ],
   "metadata": {
    "collapsed": false,
    "pycharm": {
     "name": "#%%\n"
    }
   }
  },
  {
   "cell_type": "code",
   "execution_count": 9,
   "outputs": [
    {
     "name": "stdout",
     "output_type": "stream",
     "text": [
      "Done! Days of odds downloaded: 4\n"
     ]
    }
   ],
   "source": [
    "import pandas as pd\n",
    "import requests\n",
    "from bs4 import BeautifulSoup as bs\n",
    "\n",
    "dates = pd.to_datetime(df['date'], unit='s')\n",
    "game_days = dates.dt.strftime('%Y-%m-%d').unique()\n",
    "existing_odds_days = [x['date'][:10] for x in odds_data]\n",
    "new_game_days = [x for x in game_days if x not in existing_odds_days]\n",
    "\n",
    "for d in new_game_days:\n",
    "    # get the web page with game data on it\n",
    "    url = f'https://www.covers.com/Sports/MLB/Matchups?selectedDate={d}'\n",
    "    resp = requests.get(url)\n",
    "\n",
    "    # parse the games\n",
    "    scraped_games = bs(resp.text).findAll('div',{'class':'cmg_matchup_game_box'})\n",
    "    for g in scraped_games:\n",
    "        game = {}\n",
    "        game['home_moneyline'] = g['data-game-odd']\n",
    "        game['date'] = g['data-game-date']\n",
    "        game['away_team_abbr'] = g['data-away-team-shortname-search']\n",
    "        game['home_team_abbr'] = g['data-home-team-shortname-search']\n",
    "        try:\n",
    "            game['home_score'] =g.find('div',{'class':'cmg_matchup_list_score_home'}).text.strip()\n",
    "            game['away_score'] =g.find('div',{'class':'cmg_matchup_list_score_away'}).text.strip()\n",
    "        except:\n",
    "            game['home_score'] =''\n",
    "            game['away_score'] =''\n",
    "\n",
    "        odds_data.append(game)\n",
    "print(\"Done! Days of odds downloaded:\", len(new_game_days))\n"
   ],
   "metadata": {
    "collapsed": false,
    "pycharm": {
     "name": "#%%\n"
    }
   }
  },
  {
   "cell_type": "markdown",
   "source": [
    "Let's integrate that into the dataframe in the same way as in Part 3\n",
    "\n"
   ],
   "metadata": {
    "collapsed": false,
    "pycharm": {
     "name": "#%% md\n"
    }
   }
  },
  {
   "cell_type": "code",
   "execution_count": 10,
   "outputs": [
    {
     "name": "stdout",
     "output_type": "stream",
     "text": [
      "Dataframe shape after adding odds data: (10596, 1054)\n"
     ]
    }
   ],
   "source": [
    "#collapse-hide\n",
    "\n",
    "\n",
    "import numpy as np\n",
    "import pandas as pd\n",
    "odds = pd.DataFrame(odds_data)\n",
    "odds['home_moneyline'].replace('', np.nan, inplace=True)\n",
    "odds.dropna(subset=['home_moneyline'], inplace=True)\n",
    "odds.home_moneyline = pd.to_numeric(odds.home_moneyline)\n",
    "odds.date = pd.to_datetime(odds.date).dt.date\n",
    "\n",
    "import warnings\n",
    "warnings.filterwarnings('ignore')\n",
    "warnings.simplefilter(action='ignore', category=FutureWarning)\n",
    "\n",
    "odds.home_team_abbr[odds.home_team_abbr=='SF']='SFG'\n",
    "odds.home_team_abbr[odds.home_team_abbr=='TB']='TBR'\n",
    "odds.home_team_abbr[odds.home_team_abbr=='WAS']='WSN'\n",
    "odds.home_team_abbr[odds.home_team_abbr=='KC']='KCR'\n",
    "odds.home_team_abbr[odds.home_team_abbr=='SD']='SDP'\n",
    "\n",
    "odds.away_team_abbr[odds.away_team_abbr=='SF']='SFG'\n",
    "odds.away_team_abbr[odds.away_team_abbr=='TB']='TBR'\n",
    "odds.away_team_abbr[odds.away_team_abbr=='WAS']='WSN'\n",
    "odds.away_team_abbr[odds.away_team_abbr=='KC']='KCR'\n",
    "odds.away_team_abbr[odds.away_team_abbr=='SD']='SDP'\n",
    "\n",
    "odds['odds_proba']=np.nan\n",
    "odds['odds_proba'][odds.home_moneyline<0] = -odds.home_moneyline/(-odds.home_moneyline + 100)\n",
    "odds['odds_proba'][odds.home_moneyline>0] = (100/(odds.home_moneyline + 100))\n",
    "\n",
    "# get dates into the same format\n",
    "odds['date'] = (pd.to_datetime(pd.to_datetime(odds['date'])) - pd.Timestamp(\"1970-01-01\")) // pd.Timedelta('1s')\n",
    "\n",
    "# do the merge\n",
    "df = pd.merge_asof(left=df.sort_values(by='date'),\n",
    "                   right=odds[['home_team_abbr','date', 'away_team_abbr','odds_proba']].sort_values(by='date'),\n",
    "                   by=['home_team_abbr','away_team_abbr'],\n",
    "                   on='date')\n",
    "df = df.sort_values(by='date').copy().reset_index(drop=True)\n",
    "print('Dataframe shape after adding odds data:', df.shape)"
   ],
   "metadata": {
    "collapsed": false,
    "pycharm": {
     "name": "#%%\n"
    }
   }
  },
  {
   "cell_type": "code",
   "execution_count": 11,
   "outputs": [
    {
     "name": "stdout",
     "output_type": "stream",
     "text": [
      "Today's Games and the Home Team Win Probabilities\n"
     ]
    },
    {
     "data": {
      "text/plain": "      home_team_abbr away_team_abbr home_pitcher away_pitcher  odds_proba\n10581            NYY            MIA    garcide01    rogertr01    0.708455\n10582            WSN            NYM    scherma01    degroja01    0.434783\n10583            OAK            SEA    minormi01    sheffju01    0.677419\n10584            TOR            BAL    zeuchtj01    meansjo01    0.565217\n10585            KCR            DET    hernaca04     boydma01    0.565217\n10586            TEX            HOU                              0.444444\n10587            TBR            PHI    curtijo02    wheelza01    0.512195\n10588            STL            MIL    wainwad01    woodrbr01    0.500000\n10589            ATL            BOS                 houckta01    0.598394\n10590            CHW            CHC    dunnida01    lestejo01    0.607843\n10591            CLE            PIT    civalaa01    musgrjo01    0.636364\n10592            MIN            CIN    pinedmi01    castilu02    0.565217\n10593            ARI            COL    weavelu01    marquge01    0.534884\n10594            LAD            LAA    gonsoto01    bundydy01    0.649123\n10595            SFG            SDP    cuetojo01    davieza02    0.420168",
      "text/html": "<div>\n<style scoped>\n    .dataframe tbody tr th:only-of-type {\n        vertical-align: middle;\n    }\n\n    .dataframe tbody tr th {\n        vertical-align: top;\n    }\n\n    .dataframe thead th {\n        text-align: right;\n    }\n</style>\n<table border=\"1\" class=\"dataframe\">\n  <thead>\n    <tr style=\"text-align: right;\">\n      <th></th>\n      <th>home_team_abbr</th>\n      <th>away_team_abbr</th>\n      <th>home_pitcher</th>\n      <th>away_pitcher</th>\n      <th>odds_proba</th>\n    </tr>\n  </thead>\n  <tbody>\n    <tr>\n      <th>10581</th>\n      <td>NYY</td>\n      <td>MIA</td>\n      <td>garcide01</td>\n      <td>rogertr01</td>\n      <td>0.708455</td>\n    </tr>\n    <tr>\n      <th>10582</th>\n      <td>WSN</td>\n      <td>NYM</td>\n      <td>scherma01</td>\n      <td>degroja01</td>\n      <td>0.434783</td>\n    </tr>\n    <tr>\n      <th>10583</th>\n      <td>OAK</td>\n      <td>SEA</td>\n      <td>minormi01</td>\n      <td>sheffju01</td>\n      <td>0.677419</td>\n    </tr>\n    <tr>\n      <th>10584</th>\n      <td>TOR</td>\n      <td>BAL</td>\n      <td>zeuchtj01</td>\n      <td>meansjo01</td>\n      <td>0.565217</td>\n    </tr>\n    <tr>\n      <th>10585</th>\n      <td>KCR</td>\n      <td>DET</td>\n      <td>hernaca04</td>\n      <td>boydma01</td>\n      <td>0.565217</td>\n    </tr>\n    <tr>\n      <th>10586</th>\n      <td>TEX</td>\n      <td>HOU</td>\n      <td></td>\n      <td></td>\n      <td>0.444444</td>\n    </tr>\n    <tr>\n      <th>10587</th>\n      <td>TBR</td>\n      <td>PHI</td>\n      <td>curtijo02</td>\n      <td>wheelza01</td>\n      <td>0.512195</td>\n    </tr>\n    <tr>\n      <th>10588</th>\n      <td>STL</td>\n      <td>MIL</td>\n      <td>wainwad01</td>\n      <td>woodrbr01</td>\n      <td>0.500000</td>\n    </tr>\n    <tr>\n      <th>10589</th>\n      <td>ATL</td>\n      <td>BOS</td>\n      <td></td>\n      <td>houckta01</td>\n      <td>0.598394</td>\n    </tr>\n    <tr>\n      <th>10590</th>\n      <td>CHW</td>\n      <td>CHC</td>\n      <td>dunnida01</td>\n      <td>lestejo01</td>\n      <td>0.607843</td>\n    </tr>\n    <tr>\n      <th>10591</th>\n      <td>CLE</td>\n      <td>PIT</td>\n      <td>civalaa01</td>\n      <td>musgrjo01</td>\n      <td>0.636364</td>\n    </tr>\n    <tr>\n      <th>10592</th>\n      <td>MIN</td>\n      <td>CIN</td>\n      <td>pinedmi01</td>\n      <td>castilu02</td>\n      <td>0.565217</td>\n    </tr>\n    <tr>\n      <th>10593</th>\n      <td>ARI</td>\n      <td>COL</td>\n      <td>weavelu01</td>\n      <td>marquge01</td>\n      <td>0.534884</td>\n    </tr>\n    <tr>\n      <th>10594</th>\n      <td>LAD</td>\n      <td>LAA</td>\n      <td>gonsoto01</td>\n      <td>bundydy01</td>\n      <td>0.649123</td>\n    </tr>\n    <tr>\n      <th>10595</th>\n      <td>SFG</td>\n      <td>SDP</td>\n      <td>cuetojo01</td>\n      <td>davieza02</td>\n      <td>0.420168</td>\n    </tr>\n  </tbody>\n</table>\n</div>"
     },
     "metadata": {},
     "output_type": "display_data"
    }
   ],
   "source": [
    "print(\"Today's Games and the Home Team Win Probabilities\")\n",
    "test_df = df[df['is_test']][['home_team_abbr', 'away_team_abbr',\n",
    "                             'home_pitcher','away_pitcher',\n",
    "                             'odds_proba']]\n",
    "display(test_df)"
   ],
   "metadata": {
    "collapsed": false,
    "pycharm": {
     "name": "#%%\n"
    }
   }
  },
  {
   "cell_type": "markdown",
   "source": [
    "## Generate Predictions\n",
    "We'll continue to use code from the previous part of the series to prepare the data for predictions."
   ],
   "metadata": {
    "collapsed": false,
    "pycharm": {
     "name": "#%% md\n"
    }
   }
  },
  {
   "cell_type": "code",
   "execution_count": 12,
   "outputs": [
    {
     "data": {
      "text/plain": "15"
     },
     "execution_count": 12,
     "metadata": {},
     "output_type": "execute_result"
    }
   ],
   "source": [
    "# target encoding\n",
    "encode_me = [x for x in df.keys() if 'object' in str(df[x].dtype)]\n",
    "for x in encode_me:\n",
    "    df[x] = df.groupby(x)['home_team_win'].apply(lambda x:x.rolling(180).mean()).shift(1)\n",
    "\n",
    "# create Prediction Set\n",
    "X_test = df[df['is_test']].drop(columns=['home_team_win', 'game_id','is_test'])\n",
    "len(X_test)"
   ],
   "metadata": {
    "collapsed": false,
    "pycharm": {
     "name": "#%%\n"
    }
   }
  },
  {
   "cell_type": "code",
   "execution_count": 13,
   "outputs": [
    {
     "data": {
      "text/plain": "      home_team_abbr away_team_abbr home_pitcher away_pitcher  odds_proba  \\\n10581            NYY            MIA    garcide01    rogertr01    0.708455   \n10582            WSN            NYM    scherma01    degroja01    0.434783   \n10583            OAK            SEA    minormi01    sheffju01    0.677419   \n10584            TOR            BAL    zeuchtj01    meansjo01    0.565217   \n10585            KCR            DET    hernaca04     boydma01    0.565217   \n10586            TEX            HOU                              0.444444   \n10587            TBR            PHI    curtijo02    wheelza01    0.512195   \n10588            STL            MIL    wainwad01    woodrbr01    0.500000   \n10589            ATL            BOS                 houckta01    0.598394   \n10590            CHW            CHC    dunnida01    lestejo01    0.607843   \n10591            CLE            PIT    civalaa01    musgrjo01    0.636364   \n10592            MIN            CIN    pinedmi01    castilu02    0.565217   \n10593            ARI            COL    weavelu01    marquge01    0.534884   \n10594            LAD            LAA    gonsoto01    bundydy01    0.649123   \n10595            SFG            SDP    cuetojo01    davieza02    0.420168   \n\n       xgb_home_win  xgb_home_win_proba  \n10581          True            0.701283  \n10582         False            0.315103  \n10583          True            0.618798  \n10584         False            0.492718  \n10585         False            0.482250  \n10586         False            0.410267  \n10587         False            0.378972  \n10588         False            0.395375  \n10589          True            0.549559  \n10590          True            0.570431  \n10591          True            0.650989  \n10592          True            0.553619  \n10593         False            0.441937  \n10594          True            0.624194  \n10595         False            0.405266  ",
      "text/html": "<div>\n<style scoped>\n    .dataframe tbody tr th:only-of-type {\n        vertical-align: middle;\n    }\n\n    .dataframe tbody tr th {\n        vertical-align: top;\n    }\n\n    .dataframe thead th {\n        text-align: right;\n    }\n</style>\n<table border=\"1\" class=\"dataframe\">\n  <thead>\n    <tr style=\"text-align: right;\">\n      <th></th>\n      <th>home_team_abbr</th>\n      <th>away_team_abbr</th>\n      <th>home_pitcher</th>\n      <th>away_pitcher</th>\n      <th>odds_proba</th>\n      <th>xgb_home_win</th>\n      <th>xgb_home_win_proba</th>\n    </tr>\n  </thead>\n  <tbody>\n    <tr>\n      <th>10581</th>\n      <td>NYY</td>\n      <td>MIA</td>\n      <td>garcide01</td>\n      <td>rogertr01</td>\n      <td>0.708455</td>\n      <td>True</td>\n      <td>0.701283</td>\n    </tr>\n    <tr>\n      <th>10582</th>\n      <td>WSN</td>\n      <td>NYM</td>\n      <td>scherma01</td>\n      <td>degroja01</td>\n      <td>0.434783</td>\n      <td>False</td>\n      <td>0.315103</td>\n    </tr>\n    <tr>\n      <th>10583</th>\n      <td>OAK</td>\n      <td>SEA</td>\n      <td>minormi01</td>\n      <td>sheffju01</td>\n      <td>0.677419</td>\n      <td>True</td>\n      <td>0.618798</td>\n    </tr>\n    <tr>\n      <th>10584</th>\n      <td>TOR</td>\n      <td>BAL</td>\n      <td>zeuchtj01</td>\n      <td>meansjo01</td>\n      <td>0.565217</td>\n      <td>False</td>\n      <td>0.492718</td>\n    </tr>\n    <tr>\n      <th>10585</th>\n      <td>KCR</td>\n      <td>DET</td>\n      <td>hernaca04</td>\n      <td>boydma01</td>\n      <td>0.565217</td>\n      <td>False</td>\n      <td>0.482250</td>\n    </tr>\n    <tr>\n      <th>10586</th>\n      <td>TEX</td>\n      <td>HOU</td>\n      <td></td>\n      <td></td>\n      <td>0.444444</td>\n      <td>False</td>\n      <td>0.410267</td>\n    </tr>\n    <tr>\n      <th>10587</th>\n      <td>TBR</td>\n      <td>PHI</td>\n      <td>curtijo02</td>\n      <td>wheelza01</td>\n      <td>0.512195</td>\n      <td>False</td>\n      <td>0.378972</td>\n    </tr>\n    <tr>\n      <th>10588</th>\n      <td>STL</td>\n      <td>MIL</td>\n      <td>wainwad01</td>\n      <td>woodrbr01</td>\n      <td>0.500000</td>\n      <td>False</td>\n      <td>0.395375</td>\n    </tr>\n    <tr>\n      <th>10589</th>\n      <td>ATL</td>\n      <td>BOS</td>\n      <td></td>\n      <td>houckta01</td>\n      <td>0.598394</td>\n      <td>True</td>\n      <td>0.549559</td>\n    </tr>\n    <tr>\n      <th>10590</th>\n      <td>CHW</td>\n      <td>CHC</td>\n      <td>dunnida01</td>\n      <td>lestejo01</td>\n      <td>0.607843</td>\n      <td>True</td>\n      <td>0.570431</td>\n    </tr>\n    <tr>\n      <th>10591</th>\n      <td>CLE</td>\n      <td>PIT</td>\n      <td>civalaa01</td>\n      <td>musgrjo01</td>\n      <td>0.636364</td>\n      <td>True</td>\n      <td>0.650989</td>\n    </tr>\n    <tr>\n      <th>10592</th>\n      <td>MIN</td>\n      <td>CIN</td>\n      <td>pinedmi01</td>\n      <td>castilu02</td>\n      <td>0.565217</td>\n      <td>True</td>\n      <td>0.553619</td>\n    </tr>\n    <tr>\n      <th>10593</th>\n      <td>ARI</td>\n      <td>COL</td>\n      <td>weavelu01</td>\n      <td>marquge01</td>\n      <td>0.534884</td>\n      <td>False</td>\n      <td>0.441937</td>\n    </tr>\n    <tr>\n      <th>10594</th>\n      <td>LAD</td>\n      <td>LAA</td>\n      <td>gonsoto01</td>\n      <td>bundydy01</td>\n      <td>0.649123</td>\n      <td>True</td>\n      <td>0.624194</td>\n    </tr>\n    <tr>\n      <th>10595</th>\n      <td>SFG</td>\n      <td>SDP</td>\n      <td>cuetojo01</td>\n      <td>davieza02</td>\n      <td>0.420168</td>\n      <td>False</td>\n      <td>0.405266</td>\n    </tr>\n  </tbody>\n</table>\n</div>"
     },
     "execution_count": 13,
     "metadata": {},
     "output_type": "execute_result"
    }
   ],
   "source": [
    "import pickle\n",
    "model = pickle.load(open('xgb_model.pkl','rb'))\n",
    "\n",
    "test_df['xgb_home_win'] = model.predict(X_test).astype('bool')\n",
    "test_df['xgb_home_win_proba'] = model.predict_proba(X_test)[:,1]\n",
    "test_df"
   ],
   "metadata": {
    "collapsed": false,
    "pycharm": {
     "name": "#%%\n"
    }
   }
  },
  {
   "cell_type": "markdown",
   "source": [
    "This is good. It looks like our model disagrees with the casino odds for a few games. One trap you need to be thinking about is that when a pitcher is not announced, xgboost is still going to give you a prediction. It will be a very different prediction if you tell it about the pitchers, my advice is to wait for the pitcher announcements.\n",
    "\n",
    "Next step is to figure our if any of these games are good bets.\n",
    "\n",
    "## Kelly Criterion\n",
    "The [Kelly criterion](https://en.wikipedia.org/wiki/Kelly_criterion) is a betting strategy developed in the 50's that tells you the percentage of your bankroll to bet based on your advantage in the bets. Its objective is to maximize profit while minimizing risk of ruin, and it's been rigorously proven time and again.\n",
    "\n",
    "People still hate it though. The major criticism is that it sets you up for some pretty extreme bets. People have found two major ways of dealing with this. The first is using a [fractional-Kelly](https://www.pinnacle.com/en/betting-articles/Betting-Strategy/fractional-kelly-criterion/GBD27Z9NLJVGFLGG), usually a half-Kelly or quarter-Kelly, where they will use the Kelly formula and bet half or a quarter as much as it tells them. The other is a diversified approach, where the better will place several simultaneous bets dedicating a fraction of their bankroll to each bet. It's easy to utilize the latter in baseball, since multiple games are happening simultaneously.\n",
    "\n",
    "Implementing the formula is pretty straight forward. We're going to loop through the data from above, applying the formula to both the home and away teams, then print out only the bets that the formula says have good expected value."
   ],
   "metadata": {
    "collapsed": false,
    "pycharm": {
     "name": "#%% md\n"
    }
   }
  },
  {
   "cell_type": "code",
   "execution_count": 14,
   "outputs": [
    {
     "data": {
      "text/plain": "<IPython.core.display.HTML object>",
      "text/html": "<table border=\"1\" class=\"dataframe\">\n  <thead>\n    <tr style=\"text-align: right;\">\n      <th>date</th>\n      <th>team</th>\n      <th>pitcher</th>\n      <th>opposition</th>\n      <th>opp_pitcher</th>\n      <th>odds_proba</th>\n      <th>dollar return</th>\n      <th>ml_proba</th>\n      <th>kelly_criterion</th>\n    </tr>\n  </thead>\n  <tbody>\n    <tr>\n      <td>2020-09-26</td>\n      <td>NYM</td>\n      <td>degroja01</td>\n      <td>WSN</td>\n      <td>scherma01</td>\n      <td>0.565217</td>\n      <td>0.708767</td>\n      <td>0.684897</td>\n      <td>0.240319</td>\n    </tr>\n    <tr>\n      <td>2020-09-26</td>\n      <td>SEA</td>\n      <td>sheffju01</td>\n      <td>OAK</td>\n      <td>minormi01</td>\n      <td>0.322581</td>\n      <td>1.919021</td>\n      <td>0.381202</td>\n      <td>0.058747</td>\n    </tr>\n    <tr>\n      <td>2020-09-26</td>\n      <td>BAL</td>\n      <td>meansjo01</td>\n      <td>TOR</td>\n      <td>zeuchtj01</td>\n      <td>0.434783</td>\n      <td>1.198853</td>\n      <td>0.507282</td>\n      <td>0.096290</td>\n    </tr>\n    <tr>\n      <td>2020-09-26</td>\n      <td>DET</td>\n      <td>boydma01</td>\n      <td>KCR</td>\n      <td>hernaca04</td>\n      <td>0.434783</td>\n      <td>1.198853</td>\n      <td>0.517750</td>\n      <td>0.115490</td>\n    </tr>\n    <tr>\n      <td>2020-09-26</td>\n      <td>HOU</td>\n      <td></td>\n      <td>TEX</td>\n      <td></td>\n      <td>0.555556</td>\n      <td>0.737452</td>\n      <td>0.589733</td>\n      <td>0.033403</td>\n    </tr>\n    <tr>\n      <td>2020-09-26</td>\n      <td>PHI</td>\n      <td>wheelza01</td>\n      <td>TBR</td>\n      <td>curtijo02</td>\n      <td>0.487805</td>\n      <td>0.969260</td>\n      <td>0.621028</td>\n      <td>0.230037</td>\n    </tr>\n    <tr>\n      <td>2020-09-26</td>\n      <td>MIL</td>\n      <td>woodrbr01</td>\n      <td>STL</td>\n      <td>wainwad01</td>\n      <td>0.500000</td>\n      <td>0.923077</td>\n      <td>0.604625</td>\n      <td>0.176302</td>\n    </tr>\n    <tr>\n      <td>2020-09-26</td>\n      <td>BOS</td>\n      <td>houckta01</td>\n      <td>ATL</td>\n      <td></td>\n      <td>0.401606</td>\n      <td>1.371880</td>\n      <td>0.450441</td>\n      <td>0.049853</td>\n    </tr>\n    <tr>\n      <td>2020-09-26</td>\n      <td>CHC</td>\n      <td>lestejo01</td>\n      <td>CHW</td>\n      <td>dunnida01</td>\n      <td>0.392157</td>\n      <td>1.426261</td>\n      <td>0.429569</td>\n      <td>0.029620</td>\n    </tr>\n    <tr>\n      <td>2020-09-26</td>\n      <td>CLE</td>\n      <td>civalaa01</td>\n      <td>PIT</td>\n      <td>musgrjo01</td>\n      <td>0.636364</td>\n      <td>0.571429</td>\n      <td>0.650989</td>\n      <td>0.040219</td>\n    </tr>\n    <tr>\n      <td>2020-09-26</td>\n      <td>COL</td>\n      <td>marquge01</td>\n      <td>ARI</td>\n      <td>weavelu01</td>\n      <td>0.465116</td>\n      <td>1.061361</td>\n      <td>0.558063</td>\n      <td>0.141675</td>\n    </tr>\n    <tr>\n      <td>2020-09-26</td>\n      <td>LAA</td>\n      <td>bundydy01</td>\n      <td>LAD</td>\n      <td>gonsoto01</td>\n      <td>0.350877</td>\n      <td>1.696310</td>\n      <td>0.375806</td>\n      <td>0.007834</td>\n    </tr>\n  </tbody>\n</table>"
     },
     "execution_count": 14,
     "metadata": {},
     "output_type": "execute_result"
    }
   ],
   "source": [
    "from IPython.display import HTML\n",
    "bets = []\n",
    "for i,r in test_df.iterrows():\n",
    "    p = r['xgb_home_win_proba'] # probability of win\n",
    "    b = (1/r['odds_proba'])-1 #return\n",
    "    q = 1-r['xgb_home_win_proba'] # probability of loss\n",
    "    bet = {\n",
    "        'date': dt.datetime.now().date(),\n",
    "        'team': r['home_team_abbr'],\n",
    "        'pitcher': r['home_pitcher'],\n",
    "        'opposition':r['away_team_abbr'],\n",
    "        'opp_pitcher':r['away_pitcher'],\n",
    "        'odds_proba': r['odds_proba'],\n",
    "        'dollar return': b,\n",
    "        'ml_proba': p,\n",
    "        'kelly_criterion': p-(q/b)\n",
    "    }\n",
    "    bets.append(bet)\n",
    "\n",
    "    # away team\n",
    "    p = 1 - r['xgb_home_win_proba'] # probability of win\n",
    "    b = (1/(1.02-r['odds_proba']))-1 #1.02 is calibrated to mgm vs consensus odds\n",
    "    q = r['xgb_home_win_proba'] # probability of loss\n",
    "\n",
    "    bet = {\n",
    "        'date': dt.datetime.now().date(),\n",
    "        'team': r['away_team_abbr'],\n",
    "        'pitcher': r['away_pitcher'],\n",
    "        'opposition':r['home_team_abbr'],\n",
    "        'opp_pitcher':r['home_pitcher'],\n",
    "        'odds_proba': 1-r['odds_proba'],\n",
    "        'dollar return': b,\n",
    "        'ml_proba': p,\n",
    "        'kelly_criterion': p-(q/b)\n",
    "    }\n",
    "    bets.append(bet)\n",
    "bet_df = pd.DataFrame(bets)\n",
    "HTML(bet_df[bet_df['kelly_criterion']>0].to_html(index=False))"
   ],
   "metadata": {
    "collapsed": false,
    "pycharm": {
     "name": "#%%\n"
    }
   }
  },
  {
   "cell_type": "markdown",
   "source": [
    "### Model Interpretation\n",
    "Above it looks like the algorithm has selected 12 bets for us, with the Kelly formula ranging from <1% of our bankroll to 24%. Let's take a deeper look at each.\n",
    "\n",
    "In the first, the algorithm says to put 24% of our bankroll on the Nationals. The casino gives them a 57% chance of willing and so will payback only 1.471 for every dollar we bet (\"dollar return\"). Our machine learning model gives them a 68.5% chance, so there's money to be made.\n",
    "\n",
    "In the second, the algo says bet on Seattle, but only 5.8% of the bankroll. We think they are going to lose, but we thing there's a better chance of them winning than the casino does. Because there's a large payback, Kelly says we should make a bet.\n",
    "\n",
    "In the Seattle game, the casino think they are going to lose, and so does our model. But we give them a much better chance of winning, so it makes sense to bet on the underdog. Especially at that level of return.\n",
    "\n",
    "In the Houston game, we don't have pitcher data, so maybe we shoudl not bet on that one.\n",
    "\n",
    "Etc., etc. I feel like you can take it from here.\n",
    "\n",
    "## My Learnings\n",
    "I've used this approach this season and done well. It's been a money maker overall. But my results are still super streaky. I've had 2 days in a row where I've gotten every game right, and then whole weeks where I've steadily lost money every day. I haven't had any day where I lost every game, thankfully. But I'm sure it's coming.\n",
    "\n",
    " One thing I will say is that it's pretty boring. Betting off a spreadsheet and taking small wins/losses is not exactly an adventure. It starts to feel like more of a job.\n",
    "\n",
    " I hope this series has helped you out, either getting you started, or giving you some ideas to incorporate back into your process. Get in touch and let me know. I'd love to hear what you are up to.\n",
    "\n"
   ],
   "metadata": {
    "collapsed": false,
    "pycharm": {
     "name": "#%% md\n"
    }
   }
  }
 ],
 "metadata": {
  "kernelspec": {
   "display_name": "Python 3",
   "language": "python",
   "name": "python3"
  },
  "language_info": {
   "codemirror_mode": {
    "name": "ipython",
    "version": 2
   },
   "file_extension": ".py",
   "mimetype": "text/x-python",
   "name": "python",
   "nbconvert_exporter": "python",
   "pygments_lexer": "ipython2",
   "version": "2.7.6"
  }
 },
 "nbformat": 4,
 "nbformat_minor": 0
}