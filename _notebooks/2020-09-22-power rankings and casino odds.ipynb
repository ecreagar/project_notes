{
 "cells": [
  {
   "cell_type": "markdown",
   "metadata": {
    "collapsed": true,
    "pycharm": {
     "name": "#%% md\n"
    }
   },
   "source": [
    "# MLB Power Rankings and Casino Odds\n",
    "> Part 3 - adding power rankings and odds into the MLB prediction model\n",
    "\n",
    "- toc: false\n",
    "- badges: true\n",
    "- comments: true\n",
    "- categories: [baseball, webscraping, Elo, Trueskill, Glick, machine learning]\n",
    "- image: images/chart-preview.png"
   ]
  },
  {
   "cell_type": "markdown",
   "source": [
    "|MLB Baseball Prediction Series:|[Part 1](https://rdpharr.github.io/project_notes/baseball/benchmark/webscraping/brier/accuracy/calibration/2020/09/20/baseball_project.html)|[Part 2](https://rdpharr.github.io/project_notes/baseball/webscraping/xgboost/brier/accuracy/calibration/2020/09/21/MLB-Part2-First-Model.html)|Part 3|[Part 4](https://rdpharr.github.io/project_notes/baseball/hyperopt/xgboost/2020/09/24/model-optimization.html)|[Part 5](https://rdpharr.github.io/project_notes/baseball/webscraping/kelly%20criterion/xgboost/2020/09/26/predictions-and-betting-strategy.html)|\n",
    "|-----|------|-----------|---------|----------|------|\n",
    "\n",
    "Last time, we created a model that performs pretty well just based on the statistics that we downloaded from [baseball-reference.com](http://baseball-reference.com). In this post, we'll extend that model by adding power rankings and casino odds to the model.\n",
    "> Important: You can run this notebook from Colab or Binder using the buttons above, but you'll also need the files we created in Part 2."
   ],
   "metadata": {
    "collapsed": false
   }
  },
  {
   "cell_type": "markdown",
   "source": [
    "## Power Rankings\n",
    "The 538 Blog has famously modified the [Elo system](https://en.wikipedia.org/wiki/Elo_rating_system) from chess to make [their baseball rankings](https://projects.fivethirtyeight.com/2020-mlb-predictions/). The Elo system tries to determine the relative skill level of a player based on the skill levels of the other players encountered. If you beat a person with a high skill level, your skill level is going to improve more than if you win against a player of the same or lower skill level than you. And if your skill level is higher than your opponent's then you will probably win the match.\n",
    "\n",
    "If 538 thinks Elo is foundational, then we should definitely put it in our model. The trouble is that not everyone agrees on how to implement it. In fact there are a whole family of different power ranking systems out there. In this project we're going to add four: 2 varieties of Elo ([slow and fast changing](https://en.wikipedia.org/wiki/Elo_rating_system#Most_accurate_K-factor)), [Glicko](https://en.wikipedia.org/wiki/Glicko_rating_system), and [Trueskill](https://en.wikipedia.org/wiki/TrueSkill). Luckily people have created libraries to help us get the code right.\n",
    ">Important: If you are running this notebook online, you may need to install the additional libraries. [Here's how to do it on Colab](https://colab.research.google.com/notebooks/snippets/importing_libraries.ipynb)."
   ],
   "metadata": {
    "collapsed": false
   }
  },
  {
   "cell_type": "markdown",
   "source": [
    "Let's get to it. We'll start by importing our dataframe from Part 2."
   ],
   "metadata": {
    "collapsed": false
   }
  },
  {
   "cell_type": "code",
   "execution_count": 9,
   "outputs": [],
   "source": [
    "import pickle\n",
    "df = pickle.load(open(\"dataframe.pkl\",\"rb\"))"
   ],
   "metadata": {
    "collapsed": false,
    "pycharm": {
     "name": "#%%\n"
    }
   }
  },
  {
   "cell_type": "markdown",
   "source": [
    "### Elo Rankings\n",
    "For Elo rankings, we're going to use the [elote library](https://github.com/helton-tech/elote), primarily because it's named after the Mexican habit of eating corn on the cob with mayonnaise (yuck!). Install it like this:\n",
    "```\n",
    "pip install elote\n",
    "```"
   ],
   "metadata": {
    "collapsed": false,
    "pycharm": {
     "name": "#%% md\n"
    }
   }
  },
  {
   "cell_type": "code",
   "execution_count": 10,
   "outputs": [],
   "source": [
    "from elote import EloCompetitor\n",
    "ratings = {}\n",
    "for x in df.home_team_abbr.unique():\n",
    "    ratings[x]=EloCompetitor()\n",
    "for x in df.away_team_abbr.unique():\n",
    "    ratings[x]=EloCompetitor()\n",
    "\n",
    "home_team_elo = []\n",
    "away_team_elo = []\n",
    "elo_exp = []\n",
    "\n",
    "df = df.sort_values(by='date').reset_index(drop=True)\n",
    "for i, r in df.iterrows():\n",
    "    # get pre-game ratings\n",
    "    elo_exp.append(ratings[r.home_team_abbr].expected_score(ratings[r.away_team_abbr]))\n",
    "    home_team_elo.append(ratings[r.home_team_abbr].rating)\n",
    "    away_team_elo.append(ratings[r.away_team_abbr].rating)\n",
    "    # update ratings\n",
    "    if r.home_team_win:\n",
    "        ratings[r.home_team_abbr].beat(ratings[r.away_team_abbr])\n",
    "    else:\n",
    "        ratings[r.away_team_abbr].beat(ratings[r.home_team_abbr])\n",
    "\n",
    "df['elo_exp'] = elo_exp\n",
    "df['home_team_elo'] = home_team_elo\n",
    "df['away_team_elo'] = away_team_elo\n"
   ],
   "metadata": {
    "collapsed": false,
    "pycharm": {
     "name": "#%%\n"
    }
   }
  },
  {
   "cell_type": "markdown",
   "source": [
    "Now we'll do the slow changing version, where we decrease the k-factor."
   ],
   "metadata": {
    "collapsed": false,
    "pycharm": {
     "name": "#%% md\n"
    }
   }
  },
  {
   "cell_type": "code",
   "execution_count": 11,
   "outputs": [],
   "source": [
    "ratings = {}\n",
    "for x in df.home_team_abbr.unique():\n",
    "    ratings[x]=EloCompetitor()\n",
    "    ratings[x]._k_score=16\n",
    "for x in df.away_team_abbr.unique():\n",
    "    ratings[x]=EloCompetitor()\n",
    "    ratings[x]._k_score=16\n",
    "\n",
    "home_team_elo = []\n",
    "away_team_elo = []\n",
    "elo_exp = []\n",
    "\n",
    "df = df.sort_values(by='date').reset_index(drop=True)\n",
    "for i, r in df.iterrows():\n",
    "    # get pregame ratings\n",
    "    elo_exp.append(ratings[r.home_team_abbr].expected_score(ratings[r.away_team_abbr]))\n",
    "    home_team_elo.append(ratings[r.home_team_abbr].rating)\n",
    "    away_team_elo.append(ratings[r.away_team_abbr].rating)\n",
    "    # update ratings\n",
    "    if r.home_team_win:\n",
    "        ratings[r.home_team_abbr].beat(ratings[r.away_team_abbr])\n",
    "    else:\n",
    "        ratings[r.away_team_abbr].beat(ratings[r.home_team_abbr])\n",
    "\n",
    "df['elo_slow_exp'] = elo_exp\n",
    "df['home_team_elo_slow'] = home_team_elo\n",
    "df['away_team_elo_slow'] = away_team_elo\n"
   ],
   "metadata": {
    "collapsed": false,
    "pycharm": {
     "name": "#%%\n"
    }
   }
  },
  {
   "cell_type": "markdown",
   "source": [
    "### Glicko Ratings\n",
    "Glicko can be calculated using the same library."
   ],
   "metadata": {
    "collapsed": false,
    "pycharm": {
     "name": "#%% md\n"
    }
   }
  },
  {
   "cell_type": "code",
   "execution_count": 12,
   "outputs": [],
   "source": [
    "from elote import GlickoCompetitor\n",
    "ratings = {}\n",
    "for x in df.home_team_abbr.unique():\n",
    "    ratings[x]=GlickoCompetitor()\n",
    "for x in df.away_team_abbr.unique():\n",
    "    ratings[x]=GlickoCompetitor()\n",
    "\n",
    "home_team_glick = []\n",
    "away_team_glick = []\n",
    "glick_exp = []\n",
    "\n",
    "df = df.sort_values(by='date').reset_index(drop=True)\n",
    "for i, r in df.iterrows():\n",
    "    # get pregame ratings\n",
    "    glick_exp.append(ratings[r.home_team_abbr].expected_score(ratings[r.away_team_abbr]))\n",
    "    home_team_glick.append(ratings[r.home_team_abbr].rating)\n",
    "    away_team_glick.append(ratings[r.away_team_abbr].rating)\n",
    "    # update ratings\n",
    "    if r.home_team_win:\n",
    "        ratings[r.home_team_abbr].beat(ratings[r.away_team_abbr])\n",
    "    else:\n",
    "        ratings[r.away_team_abbr].beat(ratings[r.home_team_abbr])\n",
    "\n",
    "df['glick_exp'] = glick_exp\n",
    "df['home_team_glick'] = home_team_glick\n",
    "df['away_team_glick'] = away_team_glick"
   ],
   "metadata": {
    "collapsed": false,
    "pycharm": {
     "name": "#%%\n"
    }
   }
  },
  {
   "cell_type": "markdown",
   "source": [
    "### Trueskill Ratings\n",
    "Trueskill was invented for Microsoft video games on the XBox. It's something you need to license if you are going to use it for commercial purposes. Trueskill ratings are a little bit more complex, because we have the opportunity to include the starting pitcher skill as well. Install the [python package](https://trueskill.org/) like this:\n",
    "```\n",
    "pip install trueskill\n",
    "```"
   ],
   "metadata": {
    "collapsed": false,
    "pycharm": {
     "name": "#%% md\n"
    }
   }
  },
  {
   "cell_type": "code",
   "execution_count": 13,
   "outputs": [],
   "source": [
    "from trueskill import Rating, quality, rate\n",
    "ratings = {}\n",
    "for x in df.home_team_abbr.unique():\n",
    "    ratings[x]=Rating(25)\n",
    "for x in df.away_team_abbr.unique():\n",
    "    ratings[x]=Rating(25)\n",
    "for x in df.home_pitcher.unique():\n",
    "    ratings[x]=Rating(25)\n",
    "for x in df.away_pitcher.unique():\n",
    "    ratings[x]=Rating(25)\n",
    "\n",
    "ts_quality = []\n",
    "pitcher_ts_diff = []\n",
    "team_ts_diff = []\n",
    "home_pitcher_ts = []\n",
    "away_pitcher_ts = []\n",
    "home_team_ts = []\n",
    "away_team_ts = []\n",
    "df = df.sort_values(by='date').copy()\n",
    "for i, r in df.iterrows():\n",
    "    # get pre-match trueskill ratings from dict\n",
    "    match = [(ratings[r.home_team_abbr], ratings[r.home_pitcher]),\n",
    "            (ratings[r.away_team_abbr], ratings[r.away_pitcher])]\n",
    "    ts_quality.append(quality(match))\n",
    "    pitcher_ts_diff.append(ratings[r.home_pitcher].mu-ratings[r.away_pitcher].mu)\n",
    "    team_ts_diff.append(ratings[r.home_team_abbr].mu-ratings[r.away_team_abbr].mu)\n",
    "    home_pitcher_ts.append(ratings[r.home_pitcher].mu)\n",
    "    away_pitcher_ts.append(ratings[r.away_pitcher].mu)\n",
    "    home_team_ts.append(ratings[r.home_team_abbr].mu)\n",
    "    away_team_ts.append(ratings[r.away_team_abbr].mu)\n",
    "\n",
    "    if r.date < df.date.max():\n",
    "        # update ratings dictionary with post-match ratings\n",
    "        if r.home_team_win==1:\n",
    "            match = [(ratings[r.home_team_abbr], ratings[r.home_pitcher]),\n",
    "                     (ratings[r.away_team_abbr], ratings[r.away_pitcher])]\n",
    "            [(ratings[r.home_team_abbr], ratings[r.home_pitcher]),\n",
    "            (ratings[r.away_team_abbr], ratings[r.away_pitcher])] = rate(match)\n",
    "        else:\n",
    "            match = [(ratings[r.away_team_abbr], ratings[r.away_pitcher]),\n",
    "                     (ratings[r.home_team_abbr], ratings[r.home_pitcher])]\n",
    "            [(ratings[r.away_team_abbr], ratings[r.away_pitcher]),\n",
    "            (ratings[r.home_team_abbr], ratings[r.home_pitcher])] = rate(match)\n",
    "\n",
    "df['ts_game_quality'] = ts_quality\n",
    "df['pitcher_ts_diff'] = pitcher_ts_diff\n",
    "df['team_ts_diff'] = team_ts_diff\n",
    "df['home_pitcher_ts'] = home_pitcher_ts\n",
    "df['away_pitcher_ts'] = away_pitcher_ts\n",
    "df['home_team_ts'] = home_team_ts\n",
    "df['away_team_ts'] = away_team_ts"
   ],
   "metadata": {
    "collapsed": false,
    "pycharm": {
     "name": "#%%\n"
    }
   }
  },
  {
   "cell_type": "markdown",
   "source": [
    "That's all we need for power rankings. Let's move on.\n",
    "## Casino Odds\n",
    "Having the casino odds in our model is really going to improve its predictions, but getting them in there is kind of a pain in the ass. The problem is that we need to match the games from two different systems (baseball-reference.com and covers.com). These systems don't use the same team abbreviations and don't even agree on what time the games started. So there's a bit of code to compensate.\n",
    "\n",
    "But it starts the same as in Part 1 of this blog series - we need to find out which days to download odds data for. We'll use our dataframe to get this list."
   ],
   "metadata": {
    "collapsed": false,
    "pycharm": {
     "name": "#%% md\n"
    }
   }
  },
  {
   "cell_type": "code",
   "execution_count": 6,
   "outputs": [
    {
     "name": "stdout",
     "output_type": "stream",
     "text": [
      "Days of odds data needed: 885\n"
     ]
    }
   ],
   "source": [
    "import pandas as pd\n",
    "dates = pd.to_datetime(df['date'], unit='s')\n",
    "game_days = dates.dt.strftime('%Y-%m-%d').unique()\n",
    "print(\"Days of odds data needed:\", len(game_days))\n"
   ],
   "metadata": {
    "collapsed": false,
    "pycharm": {
     "name": "#%%\n"
    }
   }
  },
  {
   "cell_type": "markdown",
   "source": [
    "The below code is largely the same from Part 1, except we are also grabbing team abbreviations from the data"
   ],
   "metadata": {
    "collapsed": false,
    "pycharm": {
     "name": "#%% md\n"
    }
   }
  },
  {
   "cell_type": "code",
   "execution_count": 7,
   "outputs": [
    {
     "name": "stdout",
     "output_type": "stream",
     "text": [
      "2020-09-23 16:52:21.794853 2016-06-15 1000\n",
      "2020-09-23 16:53:17.556900 2016-08-31 2000\n",
      "2020-09-23 16:54:28.987126 2017-05-10 3000\n",
      "2020-09-23 16:55:25.810966 2017-07-24 4000\n",
      "2020-09-23 16:56:35.138059 2018-03-29 5000\n",
      "2020-09-23 16:57:33.919756 2018-06-10 6000\n",
      "2020-09-23 16:58:54.173907 2018-08-26 7000\n",
      "2020-09-23 17:00:18.965869 2019-05-01 8000\n",
      "2020-09-23 17:01:23.090361 2019-07-17 9000\n",
      "2020-09-23 17:02:27.603102 2019-09-29 10000\n",
      "Done! Games downloaded: 10941\n"
     ]
    }
   ],
   "source": [
    "import requests\n",
    "from bs4 import BeautifulSoup as bs\n",
    "import datetime as dt\n",
    "\n",
    "game_data = []\n",
    "for d in game_days:\n",
    "    # get the web page with game data on it\n",
    "    url = f'https://www.covers.com/Sports/MLB/Matchups?selectedDate={d}'\n",
    "    resp = requests.get(url)\n",
    "\n",
    "    # parse the games\n",
    "    scraped_games = bs(resp.text).findAll('div',{'class':'cmg_matchup_game_box'})\n",
    "    for g in scraped_games:\n",
    "        game = {}\n",
    "        game['home_moneyline'] = g['data-game-odd']\n",
    "        game['date'] = g['data-game-date']\n",
    "        game['away_team_abbr'] = g['data-away-team-shortname-search']\n",
    "        game['home_team_abbr'] = g['data-home-team-shortname-search']\n",
    "        try:\n",
    "            game['home_score'] =g.find('div',{'class':'cmg_matchup_list_score_home'}).text.strip()\n",
    "            game['away_score'] =g.find('div',{'class':'cmg_matchup_list_score_away'}).text.strip()\n",
    "        except:\n",
    "            game['home_score'] =''\n",
    "            game['away_score'] =''\n",
    "\n",
    "        game_data.append(game)\n",
    "        if len(game_data) % 1000==0:\n",
    "            #show progress\n",
    "            print(dt.datetime.now(), d, len(game_data))\n",
    "print(\"Done! Games downloaded:\", len(game_data))"
   ],
   "metadata": {
    "collapsed": false,
    "pycharm": {
     "name": "#%%\n"
    }
   }
  },
  {
   "cell_type": "markdown",
   "source": [
    "So slow. Let's save this so we don't have to go through that again."
   ],
   "metadata": {
    "collapsed": false,
    "pycharm": {
     "name": "#%% md\n"
    }
   }
  },
  {
   "cell_type": "code",
   "execution_count": 8,
   "outputs": [],
   "source": [
    "import pickle\n",
    "pickle.dump(game_data, open('covers_data_2.pkl','wb'))"
   ],
   "metadata": {
    "collapsed": false,
    "pycharm": {
     "name": "#%%\n"
    }
   }
  },
  {
   "cell_type": "markdown",
   "source": [
    "We'll do some prepping and cleaning of the data."
   ],
   "metadata": {
    "collapsed": false,
    "pycharm": {
     "name": "#%% md\n"
    }
   }
  },
  {
   "cell_type": "code",
   "execution_count": 14,
   "outputs": [],
   "source": [
    "import pickle\n",
    "game_data = pickle.load(open('covers_data_2.pkl','rb'))"
   ],
   "metadata": {
    "collapsed": false,
    "pycharm": {
     "name": "#%%\n"
    }
   }
  },
  {
   "cell_type": "code",
   "execution_count": 15,
   "outputs": [],
   "source": [
    "import numpy as np\n",
    "import pandas as pd\n",
    "odds = pd.DataFrame(game_data)\n",
    "odds['home_moneyline'].replace('', np.nan, inplace=True)\n",
    "odds.dropna(subset=['home_moneyline'], inplace=True)\n",
    "odds.home_moneyline = pd.to_numeric(odds.home_moneyline)\n",
    "odds.date = pd.to_datetime(odds.date).dt.date"
   ],
   "metadata": {
    "collapsed": false,
    "pycharm": {
     "name": "#%%\n"
    }
   }
  },
  {
   "cell_type": "markdown",
   "source": [
    "Now we convert the team names to be the same as baseball-reference.com\n",
    "\n"
   ],
   "metadata": {
    "collapsed": false,
    "pycharm": {
     "name": "#%% md\n"
    }
   }
  },
  {
   "cell_type": "code",
   "execution_count": 16,
   "outputs": [],
   "source": [
    "import warnings\n",
    "warnings.filterwarnings('ignore')\n",
    "warnings.simplefilter(action='ignore', category=FutureWarning)\n",
    "\n",
    "odds.home_team_abbr[odds.home_team_abbr=='SF']='SFG'\n",
    "odds.home_team_abbr[odds.home_team_abbr=='TB']='TBR'\n",
    "odds.home_team_abbr[odds.home_team_abbr=='WAS']='WSN'\n",
    "odds.home_team_abbr[odds.home_team_abbr=='KC']='KCR'\n",
    "odds.home_team_abbr[odds.home_team_abbr=='SD']='SDP'\n",
    "\n",
    "odds.away_team_abbr[odds.away_team_abbr=='SF']='SFG'\n",
    "odds.away_team_abbr[odds.away_team_abbr=='TB']='TBR'\n",
    "odds.away_team_abbr[odds.away_team_abbr=='WAS']='WSN'\n",
    "odds.away_team_abbr[odds.away_team_abbr=='KC']='KCR'\n",
    "odds.away_team_abbr[odds.away_team_abbr=='SD']='SDP'"
   ],
   "metadata": {
    "collapsed": false,
    "pycharm": {
     "name": "#%%\n"
    }
   }
  },
  {
   "cell_type": "markdown",
   "source": [
    "Finally, convert the moneyline odds to probabilities\n"
   ],
   "metadata": {
    "collapsed": false,
    "pycharm": {
     "name": "#%% md\n"
    }
   }
  },
  {
   "cell_type": "code",
   "execution_count": 17,
   "outputs": [],
   "source": [
    "odds['odds_proba']=np.nan\n",
    "odds['odds_proba'][odds.home_moneyline<0] = -odds.home_moneyline/(-odds.home_moneyline + 100)\n",
    "odds['odds_proba'][odds.home_moneyline>0] = (100/(odds.home_moneyline + 100))\n"
   ],
   "metadata": {
    "collapsed": false,
    "pycharm": {
     "name": "#%%\n"
    }
   }
  },
  {
   "cell_type": "markdown",
   "source": [
    "Because the game times aren't exact, we'll use [pandas merge_asof](https://pandas.pydata.org/docs/reference/api/pandas.merge_asof.html) to find the closest match. The syntax is that you the fields in \"by\" parameter need to be exact, and it will find the closest by the \"on\" parameter. I think this feature is awesome, and another reason I love pandas.\n"
   ],
   "metadata": {
    "collapsed": false,
    "pycharm": {
     "name": "#%% md\n"
    }
   }
  },
  {
   "cell_type": "code",
   "execution_count": 18,
   "outputs": [
    {
     "name": "stdout",
     "output_type": "stream",
     "text": [
      "dataframe shape before merge: (10535, 1052)\n",
      "dataframe shape after merge: (10535, 1053)\n"
     ]
    }
   ],
   "source": [
    "print('dataframe shape before merge:', df.shape)\n",
    "# get dates into the same format\n",
    "odds['date'] = (pd.to_datetime(pd.to_datetime(odds['date'])) - pd.Timestamp(\"1970-01-01\")) // pd.Timedelta('1s')\n",
    "\n",
    "# do the merge\n",
    "df = pd.merge_asof(left=df.sort_values(by='date'),\n",
    "                   right=odds[['home_team_abbr','date', 'away_team_abbr','odds_proba']].sort_values(by='date'),\n",
    "                   by=['home_team_abbr','away_team_abbr'],\n",
    "                   on='date')\n",
    "df = df.sort_values(by='date').copy().reset_index(drop=True)\n",
    "print('dataframe shape after merge:', df.shape)"
   ],
   "metadata": {
    "collapsed": false,
    "pycharm": {
     "name": "#%%\n"
    }
   }
  },
  {
   "cell_type": "markdown",
   "source": [
    "Things look good now. Let's save this dataframe before we move on"
   ],
   "metadata": {
    "collapsed": false
   }
  },
  {
   "cell_type": "code",
   "execution_count": 19,
   "outputs": [],
   "source": [
    "import pickle\n",
    "pickle.dump(df, open('dataframe_part3.pkl','wb'))"
   ],
   "metadata": {
    "collapsed": false,
    "pycharm": {
     "name": "#%%\n"
    }
   }
  },
  {
   "cell_type": "markdown",
   "source": [
    "## Run The Model\n",
    "This is almost the exact code we ran in part 2"
   ],
   "metadata": {
    "collapsed": false,
    "pycharm": {
     "name": "#%% md\n"
    }
   }
  },
  {
   "cell_type": "code",
   "execution_count": 20,
   "outputs": [],
   "source": [
    "import pickle\n",
    "df = pickle.load(open('dataframe_part3.pkl','rb'))\n"
   ],
   "metadata": {
    "collapsed": false,
    "pycharm": {
     "name": "#%%\n"
    }
   }
  },
  {
   "cell_type": "code",
   "execution_count": 21,
   "outputs": [],
   "source": [
    "import xgboost as xgb\n",
    "\n",
    "# target encoding\n",
    "encode_me = [x for x in df.keys() if 'object' in str(df[x].dtype)]\n",
    "for x in encode_me:\n",
    "    df[x] = df.groupby(x)['home_team_win'].apply(lambda x:x.rolling(180).mean()).shift(1)\n",
    "\n",
    "# create test, train splits\n",
    "df = df.sort_values(by='date').copy().reset_index(drop=True)\n",
    "X = df.drop(columns=['home_team_win', 'game_id'])\n",
    "y = df.home_team_win\n",
    "\n",
    "X_train = X[:-1000]\n",
    "y_train = y[:-1000]\n",
    "X_valid = X[-1000:-500]\n",
    "y_valid = y[-1000:-500]\n",
    "X_test = X[-500:]\n",
    "y_test = y[-500:]\n"
   ],
   "metadata": {
    "collapsed": false,
    "pycharm": {
     "name": "#%%\n"
    }
   }
  },
  {
   "cell_type": "markdown",
   "source": [
    "Run the model"
   ],
   "metadata": {
    "collapsed": false,
    "pycharm": {
     "name": "#%% md\n"
    }
   }
  },
  {
   "cell_type": "code",
   "execution_count": 98,
   "outputs": [
    {
     "name": "stdout",
     "output_type": "stream",
     "text": [
      "[0]\tvalidation_0-logloss:0.69210\tvalidation_1-logloss:0.69159\n",
      "Multiple eval metrics have been passed: 'validation_1-logloss' will be used for early stopping.\n",
      "\n",
      "Will train until validation_1-logloss hasn't improved in 10 rounds.\n",
      "[1]\tvalidation_0-logloss:0.69111\tvalidation_1-logloss:0.69047\n",
      "[2]\tvalidation_0-logloss:0.69019\tvalidation_1-logloss:0.68902\n",
      "[3]\tvalidation_0-logloss:0.68932\tvalidation_1-logloss:0.68802\n",
      "[4]\tvalidation_0-logloss:0.68850\tvalidation_1-logloss:0.68670\n",
      "[5]\tvalidation_0-logloss:0.68773\tvalidation_1-logloss:0.68580\n",
      "[6]\tvalidation_0-logloss:0.68699\tvalidation_1-logloss:0.68471\n",
      "[7]\tvalidation_0-logloss:0.68630\tvalidation_1-logloss:0.68360\n",
      "[8]\tvalidation_0-logloss:0.68564\tvalidation_1-logloss:0.68261\n",
      "[9]\tvalidation_0-logloss:0.68502\tvalidation_1-logloss:0.68188\n",
      "[10]\tvalidation_0-logloss:0.68443\tvalidation_1-logloss:0.68097\n",
      "[11]\tvalidation_0-logloss:0.68385\tvalidation_1-logloss:0.68031\n",
      "[12]\tvalidation_0-logloss:0.68332\tvalidation_1-logloss:0.67944\n",
      "[13]\tvalidation_0-logloss:0.68279\tvalidation_1-logloss:0.67883\n",
      "[14]\tvalidation_0-logloss:0.68230\tvalidation_1-logloss:0.67825\n",
      "[15]\tvalidation_0-logloss:0.68183\tvalidation_1-logloss:0.67750\n",
      "[16]\tvalidation_0-logloss:0.68137\tvalidation_1-logloss:0.67700\n",
      "[17]\tvalidation_0-logloss:0.68094\tvalidation_1-logloss:0.67663\n",
      "[18]\tvalidation_0-logloss:0.68052\tvalidation_1-logloss:0.67595\n",
      "[19]\tvalidation_0-logloss:0.68012\tvalidation_1-logloss:0.67521\n",
      "[20]\tvalidation_0-logloss:0.67974\tvalidation_1-logloss:0.67488\n",
      "[21]\tvalidation_0-logloss:0.67937\tvalidation_1-logloss:0.67428\n",
      "[22]\tvalidation_0-logloss:0.67902\tvalidation_1-logloss:0.67389\n",
      "[23]\tvalidation_0-logloss:0.67869\tvalidation_1-logloss:0.67324\n",
      "[24]\tvalidation_0-logloss:0.67837\tvalidation_1-logloss:0.67297\n",
      "[25]\tvalidation_0-logloss:0.67806\tvalidation_1-logloss:0.67245\n",
      "[26]\tvalidation_0-logloss:0.67776\tvalidation_1-logloss:0.67209\n",
      "[27]\tvalidation_0-logloss:0.67748\tvalidation_1-logloss:0.67178\n",
      "[28]\tvalidation_0-logloss:0.67720\tvalidation_1-logloss:0.67133\n",
      "[29]\tvalidation_0-logloss:0.67694\tvalidation_1-logloss:0.67102\n",
      "[30]\tvalidation_0-logloss:0.67669\tvalidation_1-logloss:0.67060\n",
      "[31]\tvalidation_0-logloss:0.67644\tvalidation_1-logloss:0.67038\n",
      "[32]\tvalidation_0-logloss:0.67621\tvalidation_1-logloss:0.67012\n",
      "[33]\tvalidation_0-logloss:0.67598\tvalidation_1-logloss:0.66963\n",
      "[34]\tvalidation_0-logloss:0.67576\tvalidation_1-logloss:0.66926\n",
      "[35]\tvalidation_0-logloss:0.67554\tvalidation_1-logloss:0.66903\n",
      "[36]\tvalidation_0-logloss:0.67534\tvalidation_1-logloss:0.66904\n",
      "[37]\tvalidation_0-logloss:0.67514\tvalidation_1-logloss:0.66879\n",
      "[38]\tvalidation_0-logloss:0.67494\tvalidation_1-logloss:0.66844\n",
      "[39]\tvalidation_0-logloss:0.67476\tvalidation_1-logloss:0.66821\n",
      "[40]\tvalidation_0-logloss:0.67458\tvalidation_1-logloss:0.66824\n",
      "[41]\tvalidation_0-logloss:0.67440\tvalidation_1-logloss:0.66801\n",
      "[42]\tvalidation_0-logloss:0.67423\tvalidation_1-logloss:0.66771\n",
      "[43]\tvalidation_0-logloss:0.67406\tvalidation_1-logloss:0.66755\n",
      "[44]\tvalidation_0-logloss:0.67390\tvalidation_1-logloss:0.66737\n",
      "[45]\tvalidation_0-logloss:0.67374\tvalidation_1-logloss:0.66729\n",
      "[46]\tvalidation_0-logloss:0.67359\tvalidation_1-logloss:0.66719\n",
      "[47]\tvalidation_0-logloss:0.67344\tvalidation_1-logloss:0.66708\n",
      "[48]\tvalidation_0-logloss:0.67329\tvalidation_1-logloss:0.66713\n",
      "[49]\tvalidation_0-logloss:0.67315\tvalidation_1-logloss:0.66707\n",
      "[50]\tvalidation_0-logloss:0.67302\tvalidation_1-logloss:0.66689\n",
      "[51]\tvalidation_0-logloss:0.67288\tvalidation_1-logloss:0.66676\n",
      "[52]\tvalidation_0-logloss:0.67275\tvalidation_1-logloss:0.66660\n",
      "[53]\tvalidation_0-logloss:0.67262\tvalidation_1-logloss:0.66656\n",
      "[54]\tvalidation_0-logloss:0.67250\tvalidation_1-logloss:0.66644\n",
      "[55]\tvalidation_0-logloss:0.67238\tvalidation_1-logloss:0.66635\n",
      "[56]\tvalidation_0-logloss:0.67226\tvalidation_1-logloss:0.66641\n",
      "[57]\tvalidation_0-logloss:0.67214\tvalidation_1-logloss:0.66628\n",
      "[58]\tvalidation_0-logloss:0.67203\tvalidation_1-logloss:0.66614\n",
      "[59]\tvalidation_0-logloss:0.67192\tvalidation_1-logloss:0.66612\n",
      "[60]\tvalidation_0-logloss:0.67182\tvalidation_1-logloss:0.66599\n",
      "[61]\tvalidation_0-logloss:0.67171\tvalidation_1-logloss:0.66591\n",
      "[62]\tvalidation_0-logloss:0.67161\tvalidation_1-logloss:0.66578\n",
      "[63]\tvalidation_0-logloss:0.67151\tvalidation_1-logloss:0.66569\n",
      "[64]\tvalidation_0-logloss:0.67142\tvalidation_1-logloss:0.66567\n",
      "[65]\tvalidation_0-logloss:0.67132\tvalidation_1-logloss:0.66575\n",
      "[66]\tvalidation_0-logloss:0.67123\tvalidation_1-logloss:0.66582\n",
      "[67]\tvalidation_0-logloss:0.67114\tvalidation_1-logloss:0.66571\n",
      "[68]\tvalidation_0-logloss:0.67105\tvalidation_1-logloss:0.66577\n",
      "[69]\tvalidation_0-logloss:0.67096\tvalidation_1-logloss:0.66594\n",
      "[70]\tvalidation_0-logloss:0.67088\tvalidation_1-logloss:0.66593\n",
      "[71]\tvalidation_0-logloss:0.67079\tvalidation_1-logloss:0.66582\n",
      "[72]\tvalidation_0-logloss:0.67071\tvalidation_1-logloss:0.66575\n",
      "[73]\tvalidation_0-logloss:0.67063\tvalidation_1-logloss:0.66565\n",
      "[74]\tvalidation_0-logloss:0.67055\tvalidation_1-logloss:0.66571\n",
      "[75]\tvalidation_0-logloss:0.67048\tvalidation_1-logloss:0.66578\n",
      "[76]\tvalidation_0-logloss:0.67040\tvalidation_1-logloss:0.66594\n",
      "[77]\tvalidation_0-logloss:0.67033\tvalidation_1-logloss:0.66598\n",
      "[78]\tvalidation_0-logloss:0.67025\tvalidation_1-logloss:0.66589\n",
      "[79]\tvalidation_0-logloss:0.67018\tvalidation_1-logloss:0.66595\n",
      "[80]\tvalidation_0-logloss:0.67011\tvalidation_1-logloss:0.66587\n",
      "[81]\tvalidation_0-logloss:0.67005\tvalidation_1-logloss:0.66573\n",
      "[82]\tvalidation_0-logloss:0.66998\tvalidation_1-logloss:0.66580\n",
      "[83]\tvalidation_0-logloss:0.66991\tvalidation_1-logloss:0.66585\n",
      "Stopping. Best iteration:\n",
      "[73]\tvalidation_0-logloss:0.67063\tvalidation_1-logloss:0.66565\n",
      "\n"
     ]
    }
   ],
   "source": [
    "params = {'learning_rate': 0.035,'max_depth': 1}\n",
    "gbm = xgb.XGBClassifier(**params)\n",
    "model = gbm.fit(X_train, y_train,\n",
    "                eval_set = [[X_train, y_train],\n",
    "                          [X_valid, y_valid]],\n",
    "                eval_metric='logloss',\n",
    "                early_stopping_rounds=10)\n",
    "xgb_test_preds = model.predict(X_test)\n",
    "xgb_test_proba = model.predict_proba(X_test)[:,1]"
   ],
   "metadata": {
    "collapsed": false,
    "pycharm": {
     "name": "#%%\n"
    }
   }
  },
  {
   "cell_type": "markdown",
   "source": [
    "Since we now know the casino odds for these specific games, we can directly compare our model preditions with on the same games. Peviously we'd been comparing our results against how the casino predicted 2019 games."
   ],
   "metadata": {
    "collapsed": false
   }
  },
  {
   "cell_type": "code",
   "execution_count": 99,
   "outputs": [
    {
     "name": "stdout",
     "output_type": "stream",
     "text": [
      "Casino\t\tAccuracy:0.5840\t Brier Loss: 0.2401\n",
      "XGBoost\t\tAccuracy:0.5900\t Brier Loss: 0.2406\n"
     ]
    },
    {
     "data": {
      "text/plain": "<Figure size 864x576 with 2 Axes>",
      "image/png": "[encoded data removed]"
     },
     "metadata": {
      "needs_background": "light"
     },
     "output_type": "display_data"
    }
   ],
   "source": [
    "#collapse-hide\n",
    "from sklearn.calibration import calibration_curve\n",
    "from sklearn.metrics import accuracy_score, brier_score_loss\n",
    "import matplotlib.pyplot as plt\n",
    "import pickle\n",
    "\n",
    "def cal_curve(data, bins):\n",
    "    # adapted from:\n",
    "    #https://scikit-learn.org/stable/auto_examples/calibration/plot_calibration_curve.html\n",
    "    fig = plt.figure(1, figsize=(12, 8))\n",
    "    ax1 = plt.subplot2grid((3, 1), (0, 0), rowspan=2)\n",
    "    ax2 = plt.subplot2grid((3, 1), (2, 0))\n",
    "\n",
    "    ax1.plot([0, 1], [0, 1], \"k:\", label=\"Perfectly calibrated\")\n",
    "\n",
    "    for y_test, y_pred, y_proba, name in data:\n",
    "        brier = brier_score_loss(y_test, y_proba)\n",
    "        print(\"{}\\t\\tAccuracy:{:.4f}\\t Brier Loss: {:.4f}\".format(\n",
    "            name, accuracy_score(y_test, y_pred), brier))\n",
    "        fraction_of_positives, mean_predicted_value = \\\n",
    "            calibration_curve(y_test, y_proba, n_bins=bins)\n",
    "        ax1.plot(mean_predicted_value, fraction_of_positives,\n",
    "                 label=\"%s (%1.4f)\" % (name, brier))\n",
    "        ax2.hist(y_proba, range=(0, 1), bins=bins, label=name,\n",
    "                 histtype=\"step\", lw=2)\n",
    "\n",
    "    ax1.set_ylabel(\"Fraction of positives\")\n",
    "    ax1.set_ylim([-0.05, 1.05])\n",
    "    ax1.legend(loc=\"lower right\")\n",
    "    ax1.set_title('Calibration plots  (reliability curve)')\n",
    "\n",
    "    ax2.set_xlabel(\"Mean predicted value\")\n",
    "    ax2.set_ylabel(\"Count\")\n",
    "    ax2.legend(loc=\"lower right\")\n",
    "\n",
    "    plt.tight_layout()\n",
    "    plt.show()\n",
    "\n",
    "casino_proba = X_test['odds_proba']\n",
    "casino_preds = X_test['odds_proba']>.5\n",
    "\n",
    "data = [\n",
    "    (y_test, casino_preds, casino_proba, 'Casino'),\n",
    "    (y_test,xgb_test_preds, xgb_test_proba, 'XGBoost')\n",
    "]\n",
    "cal_curve(data, 15)"
   ],
   "metadata": {
    "collapsed": false,
    "pycharm": {
     "name": "#%%\n"
    }
   }
  },
  {
   "cell_type": "markdown",
   "source": [
    "Now we're talking. Our accuracy in our test data is 0.6% better than the oddsmakers and our calibration is virtually the same. It's a concern that to get these results, I needed to set the max depth to 1. That is very low, and implies that we are susceptible to overfitting. One way to fix that is to get more data...\n",
    "\n",
    "\n",
    "## Next up\n",
    "In [Part 4](https://rdpharr.github.io/project_notes/baseball/hyperopt/xgboost/2020/09/24/model-optimization.html), we're going to train this thing for real, and try to squeak out a few more % through downloading more data and hyperparameter optimization. You may want to run the next notebook overnight...\n",
    "\n"
   ],
   "metadata": {
    "collapsed": false,
    "pycharm": {
     "name": "#%% md\n"
    }
   }
  },
  {
   "cell_type": "code",
   "execution_count": null,
   "outputs": [],
   "source": [],
   "metadata": {
    "collapsed": false,
    "pycharm": {
     "name": "#%%\n"
    }
   }
  }
 ],
 "metadata": {
  "kernelspec": {
   "display_name": "Python 3",
   "language": "python",
   "name": "python3"
  },
  "language_info": {
   "codemirror_mode": {
    "name": "ipython",
    "version": 2
   },
   "file_extension": ".py",
   "mimetype": "text/x-python",
   "name": "python",
   "nbconvert_exporter": "python",
   "pygments_lexer": "ipython2",
   "version": "2.7.6"
  }
 },
 "nbformat": 4,
 "nbformat_minor": 0
}