{
 "cells": [
  {
   "cell_type": "markdown",
   "metadata": {
    "collapsed": true,
    "pycharm": {
     "name": "#%% md\n"
    }
   },
   "source": [
    "# MLB Power Rankings and Casino Odds\n",
    "> Part 3 - adding power rankings and odds into the MLB prediction model\n",
    "\n",
    "- toc: false\n",
    "- badges: true\n",
    "- comments: true\n",
    "- categories: [baseball, webscraping, Elo, Trueskill, Glick]\n",
    "- image: images/chart-preview.png"
   ]
  },
  {
   "cell_type": "markdown",
   "source": [
    "Last time, we created a model that performs pretty well just based on the statistics that we downloaded from [baseball-reference.com](http://baseball-reference.com). In this post, we'll extend that model by adding power rankings and casino odds to the model.\n",
    "> Important: You can run this notebook from Colab or Binder using the buttons above, but you'll also need the files we created in Part 2."
   ],
   "metadata": {
    "collapsed": false
   }
  },
  {
   "cell_type": "markdown",
   "source": [
    "## Power Rankings\n",
    "The 538 Blog has famously modified the [Elo system](https://en.wikipedia.org/wiki/Elo_rating_system) from chess to make [their baseball rankings](https://projects.fivethirtyeight.com/2020-mlb-predictions/). The Elo system tries to determine the relative skill level of a player based on the skill levels of the other players encountered. If you beat a person with a high skill level, your skill level is going to improve more than if you win against a player of the same or lower skill level than you. And if your skill level is higher than your opponent's then you will probably win the match.\n",
    "\n",
    "If 538 thinks Elo is foundational, then we should definitely put it in our model. The trouble is that not everyone agrees on how to implement it. In fact there are a whole family of different power ranking systems out there. In this project we're going to add four: 2 varieties of Elo ([slow and fast changing](https://en.wikipedia.org/wiki/Elo_rating_system#Most_accurate_K-factor)), [Glicko](https://en.wikipedia.org/wiki/Glicko_rating_system), and [Trueskill](https://en.wikipedia.org/wiki/TrueSkill). Luckily people have created libraries to help us get the code right.\n",
    ">Important: If you are running this notebook online, you may need to install the additional libraries. [Here's how to do it on Colab](https://colab.research.google.com/notebooks/snippets/importing_libraries.ipynb)."
   ],
   "metadata": {
    "collapsed": false
   }
  },
  {
   "cell_type": "markdown",
   "source": [
    "Let's get to it. We'll start by importing our dataframe from Part 2."
   ],
   "metadata": {
    "collapsed": false
   }
  },
  {
   "cell_type": "code",
   "execution_count": 1,
   "outputs": [],
   "source": [
    "import pickle\n",
    "df = pickle.load(open(\"dataframe.pkl\",\"rb\"))"
   ],
   "metadata": {
    "collapsed": false,
    "pycharm": {
     "name": "#%%\n"
    }
   }
  },
  {
   "cell_type": "markdown",
   "source": [
    "### Elo Rankings\n",
    "For Elo rankings, we're going to use the [elote library](https://github.com/helton-tech/elote), primarily because it's named after the Mexican habit of eating corn on the cob with mayonnaise (yuck!). Install it like this:\n",
    "```\n",
    "pip install elote\n",
    "```"
   ],
   "metadata": {
    "collapsed": false,
    "pycharm": {
     "name": "#%% md\n"
    }
   }
  },
  {
   "cell_type": "code",
   "execution_count": 2,
   "outputs": [],
   "source": [
    "from elote import EloCompetitor\n",
    "ratings = {}\n",
    "for x in df.home_team_abbr.unique():\n",
    "    ratings[x]=EloCompetitor()\n",
    "for x in df.away_team_abbr.unique():\n",
    "    ratings[x]=EloCompetitor()\n",
    "\n",
    "home_team_elo = []\n",
    "away_team_elo = []\n",
    "elo_exp = []\n",
    "\n",
    "df = df.sort_values(by='date').reset_index(drop=True)\n",
    "for i, r in df.iterrows():\n",
    "    # get pre-game ratings\n",
    "    elo_exp.append(ratings[r.home_team_abbr].expected_score(ratings[r.away_team_abbr]))\n",
    "    home_team_elo.append(ratings[r.home_team_abbr].rating)\n",
    "    away_team_elo.append(ratings[r.away_team_abbr].rating)\n",
    "    # update ratings\n",
    "    if r.home_team_win:\n",
    "        ratings[r.home_team_abbr].beat(ratings[r.away_team_abbr])\n",
    "    else:\n",
    "        ratings[r.away_team_abbr].beat(ratings[r.home_team_abbr])\n",
    "\n",
    "df['elo_exp'] = elo_exp\n",
    "df['home_team_elo'] = home_team_elo\n",
    "df['away_team_elo'] = away_team_elo\n"
   ],
   "metadata": {
    "collapsed": false,
    "pycharm": {
     "name": "#%%\n"
    }
   }
  },
  {
   "cell_type": "markdown",
   "source": [
    "Now we'll do the slow changing version, where we decrease the k-factor."
   ],
   "metadata": {
    "collapsed": false,
    "pycharm": {
     "name": "#%% md\n"
    }
   }
  },
  {
   "cell_type": "code",
   "execution_count": 3,
   "outputs": [],
   "source": [
    "ratings = {}\n",
    "for x in df.home_team_abbr.unique():\n",
    "    ratings[x]=EloCompetitor()\n",
    "    ratings[x]._k_score=16\n",
    "for x in df.away_team_abbr.unique():\n",
    "    ratings[x]=EloCompetitor()\n",
    "    ratings[x]._k_score=16\n",
    "\n",
    "home_team_elo = []\n",
    "away_team_elo = []\n",
    "elo_exp = []\n",
    "\n",
    "df = df.sort_values(by='date').reset_index(drop=True)\n",
    "for i, r in df.iterrows():\n",
    "    # get pregame ratings\n",
    "    elo_exp.append(ratings[r.home_team_abbr].expected_score(ratings[r.away_team_abbr]))\n",
    "    home_team_elo.append(ratings[r.home_team_abbr].rating)\n",
    "    away_team_elo.append(ratings[r.away_team_abbr].rating)\n",
    "    # update ratings\n",
    "    if r.home_team_win:\n",
    "        ratings[r.home_team_abbr].beat(ratings[r.away_team_abbr])\n",
    "    else:\n",
    "        ratings[r.away_team_abbr].beat(ratings[r.home_team_abbr])\n",
    "\n",
    "df['elo_slow_exp'] = elo_exp\n",
    "df['home_team_elo_slow'] = home_team_elo\n",
    "df['away_team_elo_slow'] = away_team_elo\n"
   ],
   "metadata": {
    "collapsed": false,
    "pycharm": {
     "name": "#%%\n"
    }
   }
  },
  {
   "cell_type": "markdown",
   "source": [
    "### Glicko Ratings\n",
    "Glicko can be calculated using the same library."
   ],
   "metadata": {
    "collapsed": false,
    "pycharm": {
     "name": "#%% md\n"
    }
   }
  },
  {
   "cell_type": "code",
   "execution_count": 4,
   "outputs": [],
   "source": [
    "from elote import GlickoCompetitor\n",
    "ratings = {}\n",
    "for x in df.home_team_abbr.unique():\n",
    "    ratings[x]=GlickoCompetitor()\n",
    "for x in df.away_team_abbr.unique():\n",
    "    ratings[x]=GlickoCompetitor()\n",
    "\n",
    "home_team_glick = []\n",
    "away_team_glick = []\n",
    "glick_exp = []\n",
    "\n",
    "df = df.sort_values(by='date').reset_index(drop=True)\n",
    "for i, r in df.iterrows():\n",
    "    # get pregame ratings\n",
    "    glick_exp.append(ratings[r.home_team_abbr].expected_score(ratings[r.away_team_abbr]))\n",
    "    home_team_glick.append(ratings[r.home_team_abbr].rating)\n",
    "    away_team_glick.append(ratings[r.away_team_abbr].rating)\n",
    "    # update ratings\n",
    "    if r.home_team_win:\n",
    "        ratings[r.home_team_abbr].beat(ratings[r.away_team_abbr])\n",
    "    else:\n",
    "        ratings[r.away_team_abbr].beat(ratings[r.home_team_abbr])\n",
    "\n",
    "df['glick_exp'] = glick_exp\n",
    "df['home_team_glick'] = home_team_glick\n",
    "df['away_team_glick'] = away_team_glick"
   ],
   "metadata": {
    "collapsed": false,
    "pycharm": {
     "name": "#%%\n"
    }
   }
  },
  {
   "cell_type": "markdown",
   "source": [
    "### Trueskill Ratings\n",
    "Trueskill was invented for Microsoft video games on the XBox. It's something you need to license if you are going to use it for commercial purposes. Trueskill ratings are a little bit more complex, because we have the opportunity to include the starting pitcher skill as well. Install the [python package](https://trueskill.org/) like this:\n",
    "```\n",
    "pip install trueskill\n",
    "```"
   ],
   "metadata": {
    "collapsed": false,
    "pycharm": {
     "name": "#%% md\n"
    }
   }
  },
  {
   "cell_type": "code",
   "execution_count": 5,
   "outputs": [],
   "source": [
    "from trueskill import Rating, quality, rate\n",
    "ratings = {}\n",
    "for x in df.home_team_abbr.unique():\n",
    "    ratings[x]=Rating(25)\n",
    "for x in df.away_team_abbr.unique():\n",
    "    ratings[x]=Rating(25)\n",
    "for x in df.home_pitcher.unique():\n",
    "    ratings[x]=Rating(25)\n",
    "for x in df.away_pitcher.unique():\n",
    "    ratings[x]=Rating(25)\n",
    "\n",
    "ts_quality = []\n",
    "pitcher_ts_diff = []\n",
    "team_ts_diff = []\n",
    "home_pitcher_ts = []\n",
    "away_pitcher_ts = []\n",
    "home_team_ts = []\n",
    "away_team_ts = []\n",
    "df = df.sort_values(by='date').copy()\n",
    "for i, r in df.iterrows():\n",
    "    # get pre-match trueskill ratings from dict\n",
    "    match = [(ratings[r.home_team_abbr], ratings[r.home_pitcher]),\n",
    "            (ratings[r.away_team_abbr], ratings[r.away_pitcher])]\n",
    "    ts_quality.append(quality(match))\n",
    "    pitcher_ts_diff.append(ratings[r.home_pitcher].mu-ratings[r.away_pitcher].mu)\n",
    "    team_ts_diff.append(ratings[r.home_team_abbr].mu-ratings[r.away_team_abbr].mu)\n",
    "    home_pitcher_ts.append(ratings[r.home_pitcher].mu)\n",
    "    away_pitcher_ts.append(ratings[r.away_pitcher].mu)\n",
    "    home_team_ts.append(ratings[r.home_team_abbr].mu)\n",
    "    away_team_ts.append(ratings[r.away_team_abbr].mu)\n",
    "\n",
    "    if r.date < df.date.max():\n",
    "        # update ratings dictionary with post-match ratings\n",
    "        if r.home_team_win==1:\n",
    "            match = [(ratings[r.home_team_abbr], ratings[r.home_pitcher]),\n",
    "                     (ratings[r.away_team_abbr], ratings[r.away_pitcher])]\n",
    "            [(ratings[r.home_team_abbr], ratings[r.home_pitcher]),\n",
    "            (ratings[r.away_team_abbr], ratings[r.away_pitcher])] = rate(match)\n",
    "        else:\n",
    "            match = [(ratings[r.away_team_abbr], ratings[r.away_pitcher]),\n",
    "                     (ratings[r.home_team_abbr], ratings[r.home_pitcher])]\n",
    "            [(ratings[r.away_team_abbr], ratings[r.away_pitcher]),\n",
    "            (ratings[r.home_team_abbr], ratings[r.home_pitcher])] = rate(match)\n",
    "\n",
    "df['ts_game_quality'] = ts_quality\n",
    "df['pitcher_ts_diff'] = pitcher_ts_diff\n",
    "df['team_ts_diff'] = team_ts_diff\n",
    "df['home_pitcher_ts'] = home_pitcher_ts\n",
    "df['away_pitcher_ts'] = away_pitcher_ts\n",
    "df['home_team_ts'] = home_team_ts\n",
    "df['away_team_ts'] = away_team_ts"
   ],
   "metadata": {
    "collapsed": false,
    "pycharm": {
     "name": "#%%\n"
    }
   }
  },
  {
   "cell_type": "markdown",
   "source": [
    "That's all we need for power rankings. Let's move on.\n",
    "## Casino Odds\n",
    "Having the casino odds in our model is really going to improve its predictions, but getting them in there is kind of a pain in the ass. The problem is that we need to match the games from two different systems (baseball-reference.com and covers.com). These systems don't use the same team abbreviations and don't even agree on what time the games started. So there's a bit of code to compensate.\n",
    "\n",
    "But it starts the same as in Part 1 of this blog series - we need to find out which days to download odds data for. We'll use our dataframe to get this list."
   ],
   "metadata": {
    "collapsed": false,
    "pycharm": {
     "name": "#%% md\n"
    }
   }
  },
  {
   "cell_type": "code",
   "execution_count": 56,
   "outputs": [
    {
     "name": "stdout",
     "output_type": "stream",
     "text": [
      "Days of odds data needed: 882\n"
     ]
    }
   ],
   "source": [
    "import pandas as pd\n",
    "dates = pd.to_datetime(df['date'], unit='s')\n",
    "game_days = dates.dt.strftime('%Y-%m-%d').unique()\n",
    "print(\"Days of odds data needed:\", len(game_days))\n"
   ],
   "metadata": {
    "collapsed": false,
    "pycharm": {
     "name": "#%%\n"
    }
   }
  },
  {
   "cell_type": "markdown",
   "source": [
    "The below code is largely the same from Part 1, except we are also grabbing team abbreviations from the data"
   ],
   "metadata": {
    "collapsed": false,
    "pycharm": {
     "name": "#%% md\n"
    }
   }
  },
  {
   "cell_type": "code",
   "execution_count": 23,
   "outputs": [
    {
     "name": "stdout",
     "output_type": "stream",
     "text": [
      "2020-09-22 11:05:50.761606 2016-06-15 1000\n",
      "2020-09-22 11:06:49.874100 2016-08-31 2000\n",
      "2020-09-22 11:08:01.555549 2017-05-10 3000\n",
      "2020-09-22 11:08:59.782088 2017-07-24 4000\n",
      "2020-09-22 11:10:12.009463 2018-03-29 5000\n",
      "2020-09-22 11:11:15.911291 2018-06-10 6000\n",
      "2020-09-22 11:12:19.081595 2018-08-26 7000\n",
      "2020-09-22 11:13:33.951630 2019-05-01 8000\n",
      "2020-09-22 11:14:32.515388 2019-07-17 9000\n",
      "2020-09-22 11:15:31.501830 2019-09-29 10000\n",
      "Done! Games downloaded: 10914\n"
     ]
    }
   ],
   "source": [
    "import requests\n",
    "from bs4 import BeautifulSoup as bs\n",
    "import datetime as dt\n",
    "\n",
    "game_data = []\n",
    "for d in game_days:\n",
    "    # get the web page with game data on it\n",
    "    url = f'https://www.covers.com/Sports/MLB/Matchups?selectedDate={d}'\n",
    "    resp = requests.get(url)\n",
    "\n",
    "    # parse the games\n",
    "    scraped_games = bs(resp.text).findAll('div',{'class':'cmg_matchup_game_box'})\n",
    "    for g in scraped_games:\n",
    "        game = {}\n",
    "        game['home_moneyline'] = g['data-game-odd']\n",
    "        game['date'] = g['data-game-date']\n",
    "        game['away_team_abbr'] = g['data-away-team-shortname-search']\n",
    "        game['home_team_abbr'] = g['data-home-team-shortname-search']\n",
    "        try:\n",
    "            game['home_score'] =g.find('div',{'class':'cmg_matchup_list_score_home'}).text.strip()\n",
    "            game['away_score'] =g.find('div',{'class':'cmg_matchup_list_score_away'}).text.strip()\n",
    "        except:\n",
    "            game['home_score'] =''\n",
    "            game['away_score'] =''\n",
    "\n",
    "        game_data.append(game)\n",
    "        if len(game_data) % 1000==0:\n",
    "            #show progress\n",
    "            print(dt.datetime.now(), d, len(game_data))\n",
    "print(\"Done! Games downloaded:\", len(game_data))"
   ],
   "metadata": {
    "collapsed": false,
    "pycharm": {
     "name": "#%%\n"
    }
   }
  },
  {
   "cell_type": "markdown",
   "source": [
    "So slow. Let's save this so we don't have to go through that again."
   ],
   "metadata": {
    "collapsed": false,
    "pycharm": {
     "name": "#%% md\n"
    }
   }
  },
  {
   "cell_type": "code",
   "execution_count": 24,
   "outputs": [],
   "source": [
    "import pickle\n",
    "pickle.dump(game_data, open('covers_data_2.pkl','wb'))"
   ],
   "metadata": {
    "collapsed": false,
    "pycharm": {
     "name": "#%%\n"
    }
   }
  },
  {
   "cell_type": "markdown",
   "source": [
    "We'll do some prepping and cleaning of the data."
   ],
   "metadata": {
    "collapsed": false,
    "pycharm": {
     "name": "#%% md\n"
    }
   }
  },
  {
   "cell_type": "code",
   "execution_count": 6,
   "outputs": [],
   "source": [
    "import pickle\n",
    "game_data = pickle.load(open('covers_data_2.pkl','rb'))"
   ],
   "metadata": {
    "collapsed": false,
    "pycharm": {
     "name": "#%%\n"
    }
   }
  },
  {
   "cell_type": "code",
   "execution_count": 9,
   "outputs": [],
   "source": [
    "import numpy as np\n",
    "import pandas as pd\n",
    "odds = pd.DataFrame(game_data)\n",
    "odds['home_moneyline'].replace('', np.nan, inplace=True)\n",
    "odds.dropna(subset=['home_moneyline'], inplace=True)\n",
    "odds.home_moneyline = pd.to_numeric(odds.home_moneyline)\n",
    "odds.date = pd.to_datetime(odds.date).dt.date"
   ],
   "metadata": {
    "collapsed": false,
    "pycharm": {
     "name": "#%%\n"
    }
   }
  },
  {
   "cell_type": "markdown",
   "source": [
    "Now we convert the team names to be the same as baseball-reference.com\n",
    "\n"
   ],
   "metadata": {
    "collapsed": false,
    "pycharm": {
     "name": "#%% md\n"
    }
   }
  },
  {
   "cell_type": "code",
   "execution_count": 10,
   "outputs": [],
   "source": [
    "import warnings\n",
    "warnings.filterwarnings('ignore')\n",
    "warnings.simplefilter(action='ignore', category=FutureWarning)\n",
    "\n",
    "odds.home_team_abbr[odds.home_team_abbr=='SF']='SFG'\n",
    "odds.home_team_abbr[odds.home_team_abbr=='TB']='TBR'\n",
    "odds.home_team_abbr[odds.home_team_abbr=='WAS']='WSN'\n",
    "odds.home_team_abbr[odds.home_team_abbr=='KC']='KCR'\n",
    "odds.home_team_abbr[odds.home_team_abbr=='SD']='SDP'\n",
    "\n",
    "odds.away_team_abbr[odds.away_team_abbr=='SF']='SFG'\n",
    "odds.away_team_abbr[odds.away_team_abbr=='TB']='TBR'\n",
    "odds.away_team_abbr[odds.away_team_abbr=='WAS']='WSN'\n",
    "odds.away_team_abbr[odds.away_team_abbr=='KC']='KCR'\n",
    "odds.away_team_abbr[odds.away_team_abbr=='SD']='SDP'"
   ],
   "metadata": {
    "collapsed": false,
    "pycharm": {
     "name": "#%%\n"
    }
   }
  },
  {
   "cell_type": "markdown",
   "source": [
    "Finally, convert the moneyline odds to probabilities\n"
   ],
   "metadata": {
    "collapsed": false,
    "pycharm": {
     "name": "#%% md\n"
    }
   }
  },
  {
   "cell_type": "code",
   "execution_count": 11,
   "outputs": [],
   "source": [
    "odds['odds_proba']=np.nan\n",
    "odds['odds_proba'][odds.home_moneyline<0] = -odds.home_moneyline/(-odds.home_moneyline + 100)\n",
    "odds['odds_proba'][odds.home_moneyline>0] = (100/(odds.home_moneyline + 100))\n"
   ],
   "metadata": {
    "collapsed": false,
    "pycharm": {
     "name": "#%%\n"
    }
   }
  },
  {
   "cell_type": "markdown",
   "source": [
    "Because the game times aren't exact, we'll use [pandas merge_asof](https://pandas.pydata.org/docs/reference/api/pandas.merge_asof.html) to find the closest match. The syntax is that you the fields in \"by\" parameter need to be exact, and it will find the closest by the \"on\" parameter. I think this feature is awesome, and another reason I love pandas.\n"
   ],
   "metadata": {
    "collapsed": false,
    "pycharm": {
     "name": "#%% md\n"
    }
   }
  },
  {
   "cell_type": "code",
   "execution_count": 12,
   "outputs": [
    {
     "name": "stdout",
     "output_type": "stream",
     "text": [
      "dataframe shape before merge: (10492, 1016)\n",
      "dataframe shape after merge: (10492, 1017)\n"
     ]
    }
   ],
   "source": [
    "print('dataframe shape before merge:', df.shape)\n",
    "# get dates into the same format\n",
    "odds['date'] = (pd.to_datetime(pd.to_datetime(odds['date'])) - pd.Timestamp(\"1970-01-01\")) // pd.Timedelta('1s')\n",
    "\n",
    "# do the merge\n",
    "df = pd.merge_asof(left=df.sort_values(by='date'),\n",
    "                   right=odds[['home_team_abbr','date', 'away_team_abbr','odds_proba']].sort_values(by='date'),\n",
    "                   by=['home_team_abbr','away_team_abbr'],\n",
    "                   on='date')\n",
    "df = df.sort_values(by='date').copy().reset_index(drop=True)\n",
    "print('dataframe shape after merge:', df.shape)"
   ],
   "metadata": {
    "collapsed": false,
    "pycharm": {
     "name": "#%%\n"
    }
   }
  },
  {
   "cell_type": "markdown",
   "source": [
    "Things look good now. Let's save this dataframe before we move on"
   ],
   "metadata": {
    "collapsed": false
   }
  },
  {
   "cell_type": "code",
   "execution_count": 13,
   "outputs": [],
   "source": [
    "import pickle\n",
    "pickle.dump(df, open('dataframe_part3.pkl','wb'))"
   ],
   "metadata": {
    "collapsed": false,
    "pycharm": {
     "name": "#%%\n"
    }
   }
  },
  {
   "cell_type": "markdown",
   "source": [
    "## Run The Model\n",
    "This is almost the exact code we ran in part 2"
   ],
   "metadata": {
    "collapsed": false,
    "pycharm": {
     "name": "#%% md\n"
    }
   }
  },
  {
   "cell_type": "code",
   "execution_count": 15,
   "outputs": [],
   "source": [
    "import pickle\n",
    "df = pickle.load(open('dataframe_part3.pkl','rb'))\n"
   ],
   "metadata": {
    "collapsed": false,
    "pycharm": {
     "name": "#%%\n"
    }
   }
  },
  {
   "cell_type": "code",
   "execution_count": 16,
   "outputs": [],
   "source": [
    "import xgboost as xgb\n",
    "\n",
    "# target encoding\n",
    "encode_me = [x for x in df.keys() if 'object' in str(df[x].dtype)]\n",
    "for x in encode_me:\n",
    "    df[x] = df.groupby(x)['home_team_win'].apply(lambda x:x.rolling(180).mean()).shift(1)\n",
    "\n",
    "# create test, train splits\n",
    "df = df.sort_values(by='date').copy().reset_index(drop=True)\n",
    "X = df.drop(columns=['home_team_win', 'game_id'])\n",
    "y = df.home_team_win\n",
    "\n",
    "X_train = X[:-1000]\n",
    "y_train = y[:-1000]\n",
    "X_valid = X[-1000:-500]\n",
    "y_valid = y[-1000:-500]\n",
    "X_test = X[-500:]\n",
    "y_test = y[-500:]\n"
   ],
   "metadata": {
    "collapsed": false,
    "pycharm": {
     "name": "#%%\n"
    }
   }
  },
  {
   "cell_type": "markdown",
   "source": [
    "Run the model"
   ],
   "metadata": {
    "collapsed": false,
    "pycharm": {
     "name": "#%% md\n"
    }
   }
  },
  {
   "cell_type": "code",
   "execution_count": 17,
   "outputs": [
    {
     "name": "stdout",
     "output_type": "stream",
     "text": [
      "[0]\tvalidation_0-logloss:0.68855\tvalidation_1-logloss:0.68919\n",
      "Multiple eval metrics have been passed: 'validation_1-logloss' will be used for early stopping.\n",
      "\n",
      "Will train until validation_1-logloss hasn't improved in 10 rounds.\n",
      "[1]\tvalidation_0-logloss:0.68441\tvalidation_1-logloss:0.68602\n",
      "[2]\tvalidation_0-logloss:0.68068\tvalidation_1-logloss:0.68400\n",
      "[3]\tvalidation_0-logloss:0.67736\tvalidation_1-logloss:0.68144\n",
      "[4]\tvalidation_0-logloss:0.67433\tvalidation_1-logloss:0.68012\n",
      "[5]\tvalidation_0-logloss:0.67159\tvalidation_1-logloss:0.67901\n",
      "[6]\tvalidation_0-logloss:0.66903\tvalidation_1-logloss:0.67868\n",
      "[7]\tvalidation_0-logloss:0.66654\tvalidation_1-logloss:0.67790\n",
      "[8]\tvalidation_0-logloss:0.66440\tvalidation_1-logloss:0.67730\n",
      "[9]\tvalidation_0-logloss:0.66216\tvalidation_1-logloss:0.67634\n",
      "[10]\tvalidation_0-logloss:0.65985\tvalidation_1-logloss:0.67627\n",
      "[11]\tvalidation_0-logloss:0.65795\tvalidation_1-logloss:0.67603\n",
      "[12]\tvalidation_0-logloss:0.65602\tvalidation_1-logloss:0.67588\n",
      "[13]\tvalidation_0-logloss:0.65414\tvalidation_1-logloss:0.67572\n",
      "[14]\tvalidation_0-logloss:0.65260\tvalidation_1-logloss:0.67406\n",
      "[15]\tvalidation_0-logloss:0.65117\tvalidation_1-logloss:0.67310\n",
      "[16]\tvalidation_0-logloss:0.64945\tvalidation_1-logloss:0.67307\n",
      "[17]\tvalidation_0-logloss:0.64780\tvalidation_1-logloss:0.67365\n",
      "[18]\tvalidation_0-logloss:0.64602\tvalidation_1-logloss:0.67355\n",
      "[19]\tvalidation_0-logloss:0.64458\tvalidation_1-logloss:0.67376\n",
      "[20]\tvalidation_0-logloss:0.64318\tvalidation_1-logloss:0.67340\n",
      "[21]\tvalidation_0-logloss:0.64150\tvalidation_1-logloss:0.67332\n",
      "[22]\tvalidation_0-logloss:0.63970\tvalidation_1-logloss:0.67333\n",
      "[23]\tvalidation_0-logloss:0.63847\tvalidation_1-logloss:0.67269\n",
      "[24]\tvalidation_0-logloss:0.63705\tvalidation_1-logloss:0.67386\n",
      "[25]\tvalidation_0-logloss:0.63545\tvalidation_1-logloss:0.67392\n",
      "[26]\tvalidation_0-logloss:0.63379\tvalidation_1-logloss:0.67442\n",
      "[27]\tvalidation_0-logloss:0.63281\tvalidation_1-logloss:0.67532\n",
      "[28]\tvalidation_0-logloss:0.63151\tvalidation_1-logloss:0.67578\n",
      "[29]\tvalidation_0-logloss:0.62992\tvalidation_1-logloss:0.67624\n",
      "[30]\tvalidation_0-logloss:0.62870\tvalidation_1-logloss:0.67661\n",
      "[31]\tvalidation_0-logloss:0.62767\tvalidation_1-logloss:0.67685\n",
      "[32]\tvalidation_0-logloss:0.62663\tvalidation_1-logloss:0.67751\n",
      "[33]\tvalidation_0-logloss:0.62527\tvalidation_1-logloss:0.67742\n",
      "Stopping. Best iteration:\n",
      "[23]\tvalidation_0-logloss:0.63847\tvalidation_1-logloss:0.67269\n",
      "\n"
     ]
    }
   ],
   "source": [
    "params = {'learning_rate': 0.075,'max_depth': 4}\n",
    "gbm = xgb.XGBClassifier(**params)\n",
    "model = gbm.fit(X_train, y_train,\n",
    "                eval_set = [[X_train, y_train],\n",
    "                          [X_valid, y_valid]],\n",
    "                eval_metric='logloss',\n",
    "                early_stopping_rounds=10)\n",
    "xgb_test_preds = model.predict(X_test)\n",
    "xgb_test_proba = model.predict_proba(X_test)[:,1]"
   ],
   "metadata": {
    "collapsed": false,
    "pycharm": {
     "name": "#%%\n"
    }
   }
  },
  {
   "cell_type": "markdown",
   "source": [
    "And our results..."
   ],
   "metadata": {
    "collapsed": false
   }
  },
  {
   "cell_type": "code",
   "execution_count": 18,
   "outputs": [
    {
     "name": "stdout",
     "output_type": "stream",
     "text": [
      "Casino\t\tAccuracy:0.6006\t Brier Loss: 0.2358\n",
      "XGBoost\t\tAccuracy:0.6120\t Brier Loss: 0.2384\n"
     ]
    },
    {
     "data": {
      "text/plain": "<Figure size 864x576 with 2 Axes>",
      "image/png": "[encoded data removed]"
     },
     "metadata": {
      "needs_background": "light"
     },
     "output_type": "display_data"
    }
   ],
   "source": [
    "#collapse-hide\n",
    "from sklearn.calibration import calibration_curve\n",
    "from sklearn.metrics import accuracy_score, brier_score_loss\n",
    "import matplotlib.pyplot as plt\n",
    "import pickle\n",
    "\n",
    "def cal_curve(data, bins):\n",
    "    # adapted from:\n",
    "    #https://scikit-learn.org/stable/auto_examples/calibration/plot_calibration_curve.html\n",
    "    fig = plt.figure(1, figsize=(12, 8))\n",
    "    ax1 = plt.subplot2grid((3, 1), (0, 0), rowspan=2)\n",
    "    ax2 = plt.subplot2grid((3, 1), (2, 0))\n",
    "\n",
    "    ax1.plot([0, 1], [0, 1], \"k:\", label=\"Perfectly calibrated\")\n",
    "\n",
    "    for y_test, y_pred, y_proba, name in data:\n",
    "        brier = brier_score_loss(y_test, y_proba)\n",
    "        print(\"{}\\t\\tAccuracy:{:.4f}\\t Brier Loss: {:.4f}\".format(\n",
    "            name, accuracy_score(y_test, y_pred), brier))\n",
    "        fraction_of_positives, mean_predicted_value = \\\n",
    "            calibration_curve(y_test, y_proba, n_bins=bins)\n",
    "        ax1.plot(mean_predicted_value, fraction_of_positives,\n",
    "                 label=\"%s (%1.4f)\" % (name, brier))\n",
    "        ax2.hist(y_proba, range=(0, 1), bins=bins, label=name,\n",
    "                 histtype=\"step\", lw=2)\n",
    "\n",
    "    ax1.set_ylabel(\"Fraction of positives\")\n",
    "    ax1.set_ylim([-0.05, 1.05])\n",
    "    ax1.legend(loc=\"lower right\")\n",
    "    ax1.set_title('Calibration plots  (reliability curve)')\n",
    "\n",
    "    ax2.set_xlabel(\"Mean predicted value\")\n",
    "    ax2.set_ylabel(\"Count\")\n",
    "    ax2.legend(loc=\"lower right\")\n",
    "\n",
    "    plt.tight_layout()\n",
    "    plt.show()\n",
    "\n",
    "outcomes,predictions,probabilities = pickle.load(open('baseline.pkl','rb'))\n",
    "data = [\n",
    "    (outcomes, predictions, probabilities, 'Casino'),\n",
    "    (y_test,xgb_test_preds, xgb_test_proba, 'XGBoost')\n",
    "]\n",
    "cal_curve(data, 15)"
   ],
   "metadata": {
    "collapsed": false,
    "pycharm": {
     "name": "#%%\n"
    }
   }
  },
  {
   "cell_type": "markdown",
   "source": [
    "Now we're talking. Our accuracy in our test data is 1.1% better than the oddsmakers and our calibration is virtually the same. Looking at our feature importances below, we can see that the odds dominate the importances, but our power rankings also are among the top features. Interestingly, almost none of the features that were important in the Part 2 blog post are still important. XGBoost is fickle."
   ],
   "metadata": {
    "collapsed": false,
    "pycharm": {
     "name": "#%% md\n"
    }
   }
  },
  {
   "cell_type": "code",
   "execution_count": 19,
   "outputs": [
    {
     "data": {
      "text/plain": "<Figure size 432x288 with 1 Axes>",
      "image/png": "[encoded data removed]"
     },
     "metadata": {
      "needs_background": "light"
     },
     "output_type": "display_data"
    }
   ],
   "source": [
    "#collapse-hide\n",
    "import pandas as pd\n",
    "x = pd.Series(model.get_booster().get_score(importance_type= 'total_gain')\n",
    "         ).sort_values()\n",
    "_ = x[-25:].plot(kind='barh',title=\"XGBoost Feature Gain\")"
   ],
   "metadata": {
    "collapsed": false,
    "pycharm": {
     "name": "#%%\n"
    }
   }
  },
  {
   "cell_type": "markdown",
   "source": [
    "## Next up\n",
    "In Part 4, we're going to train this thing for real, and try to squeak out a few more % through downloading more data and hyperparameter optimization. You may want to run the next notebook overnight...\n",
    "\n"
   ],
   "metadata": {
    "collapsed": false,
    "pycharm": {
     "name": "#%% md\n"
    }
   }
  },
  {
   "cell_type": "code",
   "execution_count": null,
   "outputs": [],
   "source": [],
   "metadata": {
    "collapsed": false,
    "pycharm": {
     "name": "#%%\n"
    }
   }
  }
 ],
 "metadata": {
  "kernelspec": {
   "display_name": "Python 3",
   "language": "python",
   "name": "python3"
  },
  "language_info": {
   "codemirror_mode": {
    "name": "ipython",
    "version": 2
   },
   "file_extension": ".py",
   "mimetype": "text/x-python",
   "name": "python",
   "nbconvert_exporter": "python",
   "pygments_lexer": "ipython2",
   "version": "2.7.6"
  }
 },
 "nbformat": 4,
 "nbformat_minor": 0
}